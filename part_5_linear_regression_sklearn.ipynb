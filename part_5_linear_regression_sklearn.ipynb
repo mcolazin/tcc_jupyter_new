{
 "cells": [
  {
   "cell_type": "markdown",
   "id": "d2230cf1",
   "metadata": {},
   "source": [
    "# Análise de Regressão Linear Múltipla com Sklearn"
   ]
  },
  {
   "cell_type": "code",
   "execution_count": 6,
   "id": "c0a7a7eb",
   "metadata": {},
   "outputs": [],
   "source": [
    "import numpy as np\n",
    "import pandas as pd\n",
    "# transform\n",
    "from sklearn.preprocessing import PowerTransformer, PolynomialFeatures, StandardScaler\n",
    "from sklearn.model_selection import train_test_split\n",
    "# model\n",
    "from sklearn.linear_model import LinearRegression\n",
    "# metrics\n",
    "from sklearn.metrics import mean_absolute_error, mean_squared_error, r2_score\n",
    "from sklearn.model_selection import cross_val_score\n",
    "# graphics\n",
    "import matplotlib.pyplot as plt\n",
    "import seaborn as sns\n",
    "# view all data frames collums\n",
    "pd.set_option('display.max_columns', None)"
   ]
  },
  {
   "cell_type": "markdown",
   "id": "d8a9b2c8",
   "metadata": {},
   "source": [
    "### Carregando os Dados"
   ]
  },
  {
   "cell_type": "code",
   "execution_count": 2,
   "id": "1098f3ff",
   "metadata": {},
   "outputs": [
    {
     "data": {
      "text/html": [
       "<div>\n",
       "<style scoped>\n",
       "    .dataframe tbody tr th:only-of-type {\n",
       "        vertical-align: middle;\n",
       "    }\n",
       "\n",
       "    .dataframe tbody tr th {\n",
       "        vertical-align: top;\n",
       "    }\n",
       "\n",
       "    .dataframe thead th {\n",
       "        text-align: right;\n",
       "    }\n",
       "</style>\n",
       "<table border=\"1\" class=\"dataframe\">\n",
       "  <thead>\n",
       "    <tr style=\"text-align: right;\">\n",
       "      <th></th>\n",
       "      <th>cod_municipio_ibge</th>\n",
       "      <th>NO_MUNICIPIO_RESIDENCIA</th>\n",
       "      <th>UF</th>\n",
       "      <th>fibra_optica</th>\n",
       "      <th>wifi</th>\n",
       "      <th>ethernet</th>\n",
       "      <th>lte</th>\n",
       "      <th>vsatelite</th>\n",
       "      <th>wimax</th>\n",
       "      <th>plc_eletrico</th>\n",
       "      <th>xdsl</th>\n",
       "      <th>cable_modem</th>\n",
       "      <th>fwa_5g_fixed</th>\n",
       "      <th>atm_backbone</th>\n",
       "      <th>dth_satelite</th>\n",
       "      <th>hfc_tv_cabo</th>\n",
       "      <th>fr_frame_relay</th>\n",
       "      <th>mmds</th>\n",
       "      <th>densidade_total_internet_fixa</th>\n",
       "      <th>remuneracao_media</th>\n",
       "      <th>gini</th>\n",
       "      <th>pib</th>\n",
       "      <th>pib_p_capta</th>\n",
       "      <th>media_idhm</th>\n",
       "      <th>mean_grades_group_cities</th>\n",
       "    </tr>\n",
       "  </thead>\n",
       "  <tbody>\n",
       "    <tr>\n",
       "      <th>3852</th>\n",
       "      <td>1100015</td>\n",
       "      <td>Alta Floresta D'Oeste</td>\n",
       "      <td>RO</td>\n",
       "      <td>0</td>\n",
       "      <td>0</td>\n",
       "      <td>3</td>\n",
       "      <td>0</td>\n",
       "      <td>0</td>\n",
       "      <td>0</td>\n",
       "      <td>0</td>\n",
       "      <td>239</td>\n",
       "      <td>0</td>\n",
       "      <td>0</td>\n",
       "      <td>0</td>\n",
       "      <td>0</td>\n",
       "      <td>0</td>\n",
       "      <td>2</td>\n",
       "      <td>0</td>\n",
       "      <td>244</td>\n",
       "      <td>2030.28</td>\n",
       "      <td>0.472</td>\n",
       "      <td>4.956288e+08</td>\n",
       "      <td>21600.73</td>\n",
       "      <td>0.644038</td>\n",
       "      <td>493.009774</td>\n",
       "    </tr>\n",
       "    <tr>\n",
       "      <th>3853</th>\n",
       "      <td>1100023</td>\n",
       "      <td>Ariquemes</td>\n",
       "      <td>RO</td>\n",
       "      <td>0</td>\n",
       "      <td>0</td>\n",
       "      <td>47</td>\n",
       "      <td>0</td>\n",
       "      <td>0</td>\n",
       "      <td>0</td>\n",
       "      <td>0</td>\n",
       "      <td>0</td>\n",
       "      <td>0</td>\n",
       "      <td>8</td>\n",
       "      <td>0</td>\n",
       "      <td>0</td>\n",
       "      <td>0</td>\n",
       "      <td>3</td>\n",
       "      <td>0</td>\n",
       "      <td>58</td>\n",
       "      <td>2030.28</td>\n",
       "      <td>0.472</td>\n",
       "      <td>2.578830e+09</td>\n",
       "      <td>23908.38</td>\n",
       "      <td>0.644038</td>\n",
       "      <td>491.642412</td>\n",
       "    </tr>\n",
       "    <tr>\n",
       "      <th>3854</th>\n",
       "      <td>1100031</td>\n",
       "      <td>Cabixi</td>\n",
       "      <td>RO</td>\n",
       "      <td>3</td>\n",
       "      <td>129</td>\n",
       "      <td>2</td>\n",
       "      <td>0</td>\n",
       "      <td>3</td>\n",
       "      <td>0</td>\n",
       "      <td>0</td>\n",
       "      <td>75</td>\n",
       "      <td>0</td>\n",
       "      <td>0</td>\n",
       "      <td>0</td>\n",
       "      <td>0</td>\n",
       "      <td>0</td>\n",
       "      <td>0</td>\n",
       "      <td>0</td>\n",
       "      <td>212</td>\n",
       "      <td>2030.28</td>\n",
       "      <td>0.472</td>\n",
       "      <td>1.399594e+08</td>\n",
       "      <td>26347.78</td>\n",
       "      <td>0.644038</td>\n",
       "      <td>479.756641</td>\n",
       "    </tr>\n",
       "    <tr>\n",
       "      <th>3855</th>\n",
       "      <td>1100049</td>\n",
       "      <td>Cacoal</td>\n",
       "      <td>RO</td>\n",
       "      <td>0</td>\n",
       "      <td>0</td>\n",
       "      <td>0</td>\n",
       "      <td>0</td>\n",
       "      <td>0</td>\n",
       "      <td>0</td>\n",
       "      <td>0</td>\n",
       "      <td>0</td>\n",
       "      <td>0</td>\n",
       "      <td>0</td>\n",
       "      <td>0</td>\n",
       "      <td>0</td>\n",
       "      <td>0</td>\n",
       "      <td>6</td>\n",
       "      <td>0</td>\n",
       "      <td>6</td>\n",
       "      <td>2030.28</td>\n",
       "      <td>0.472</td>\n",
       "      <td>2.260644e+09</td>\n",
       "      <td>26483.95</td>\n",
       "      <td>0.644038</td>\n",
       "      <td>497.176007</td>\n",
       "    </tr>\n",
       "    <tr>\n",
       "      <th>3856</th>\n",
       "      <td>1100056</td>\n",
       "      <td>Cerejeiras</td>\n",
       "      <td>RO</td>\n",
       "      <td>0</td>\n",
       "      <td>0</td>\n",
       "      <td>0</td>\n",
       "      <td>0</td>\n",
       "      <td>0</td>\n",
       "      <td>0</td>\n",
       "      <td>0</td>\n",
       "      <td>644</td>\n",
       "      <td>0</td>\n",
       "      <td>0</td>\n",
       "      <td>0</td>\n",
       "      <td>0</td>\n",
       "      <td>0</td>\n",
       "      <td>4</td>\n",
       "      <td>0</td>\n",
       "      <td>648</td>\n",
       "      <td>2030.28</td>\n",
       "      <td>0.472</td>\n",
       "      <td>5.068545e+08</td>\n",
       "      <td>31051.55</td>\n",
       "      <td>0.644038</td>\n",
       "      <td>493.380822</td>\n",
       "    </tr>\n",
       "    <tr>\n",
       "      <th>...</th>\n",
       "      <td>...</td>\n",
       "      <td>...</td>\n",
       "      <td>...</td>\n",
       "      <td>...</td>\n",
       "      <td>...</td>\n",
       "      <td>...</td>\n",
       "      <td>...</td>\n",
       "      <td>...</td>\n",
       "      <td>...</td>\n",
       "      <td>...</td>\n",
       "      <td>...</td>\n",
       "      <td>...</td>\n",
       "      <td>...</td>\n",
       "      <td>...</td>\n",
       "      <td>...</td>\n",
       "      <td>...</td>\n",
       "      <td>...</td>\n",
       "      <td>...</td>\n",
       "      <td>...</td>\n",
       "      <td>...</td>\n",
       "      <td>...</td>\n",
       "      <td>...</td>\n",
       "      <td>...</td>\n",
       "      <td>...</td>\n",
       "      <td>...</td>\n",
       "    </tr>\n",
       "    <tr>\n",
       "      <th>1124</th>\n",
       "      <td>5222005</td>\n",
       "      <td>Vianópolis</td>\n",
       "      <td>GO</td>\n",
       "      <td>0</td>\n",
       "      <td>0</td>\n",
       "      <td>0</td>\n",
       "      <td>0</td>\n",
       "      <td>74</td>\n",
       "      <td>0</td>\n",
       "      <td>0</td>\n",
       "      <td>606</td>\n",
       "      <td>0</td>\n",
       "      <td>0</td>\n",
       "      <td>0</td>\n",
       "      <td>0</td>\n",
       "      <td>0</td>\n",
       "      <td>0</td>\n",
       "      <td>0</td>\n",
       "      <td>680</td>\n",
       "      <td>2019.95</td>\n",
       "      <td>0.460</td>\n",
       "      <td>4.836633e+08</td>\n",
       "      <td>34888.79</td>\n",
       "      <td>0.694984</td>\n",
       "      <td>500.626357</td>\n",
       "    </tr>\n",
       "    <tr>\n",
       "      <th>1125</th>\n",
       "      <td>5222054</td>\n",
       "      <td>Vicentinópolis</td>\n",
       "      <td>GO</td>\n",
       "      <td>0</td>\n",
       "      <td>0</td>\n",
       "      <td>0</td>\n",
       "      <td>0</td>\n",
       "      <td>0</td>\n",
       "      <td>0</td>\n",
       "      <td>0</td>\n",
       "      <td>120</td>\n",
       "      <td>0</td>\n",
       "      <td>0</td>\n",
       "      <td>0</td>\n",
       "      <td>0</td>\n",
       "      <td>0</td>\n",
       "      <td>2</td>\n",
       "      <td>0</td>\n",
       "      <td>122</td>\n",
       "      <td>2019.95</td>\n",
       "      <td>0.460</td>\n",
       "      <td>3.423556e+08</td>\n",
       "      <td>39157.68</td>\n",
       "      <td>0.694984</td>\n",
       "      <td>477.479032</td>\n",
       "    </tr>\n",
       "    <tr>\n",
       "      <th>1126</th>\n",
       "      <td>5222203</td>\n",
       "      <td>Vila Boa</td>\n",
       "      <td>GO</td>\n",
       "      <td>83</td>\n",
       "      <td>142</td>\n",
       "      <td>0</td>\n",
       "      <td>0</td>\n",
       "      <td>0</td>\n",
       "      <td>0</td>\n",
       "      <td>0</td>\n",
       "      <td>0</td>\n",
       "      <td>0</td>\n",
       "      <td>0</td>\n",
       "      <td>0</td>\n",
       "      <td>0</td>\n",
       "      <td>0</td>\n",
       "      <td>1</td>\n",
       "      <td>0</td>\n",
       "      <td>226</td>\n",
       "      <td>2019.95</td>\n",
       "      <td>0.460</td>\n",
       "      <td>1.136685e+08</td>\n",
       "      <td>18419.78</td>\n",
       "      <td>0.694984</td>\n",
       "      <td>456.444022</td>\n",
       "    </tr>\n",
       "    <tr>\n",
       "      <th>1127</th>\n",
       "      <td>5222302</td>\n",
       "      <td>Vila Propício</td>\n",
       "      <td>GO</td>\n",
       "      <td>0</td>\n",
       "      <td>0</td>\n",
       "      <td>0</td>\n",
       "      <td>0</td>\n",
       "      <td>0</td>\n",
       "      <td>0</td>\n",
       "      <td>0</td>\n",
       "      <td>0</td>\n",
       "      <td>0</td>\n",
       "      <td>0</td>\n",
       "      <td>0</td>\n",
       "      <td>0</td>\n",
       "      <td>0</td>\n",
       "      <td>0</td>\n",
       "      <td>0</td>\n",
       "      <td>0</td>\n",
       "      <td>2019.95</td>\n",
       "      <td>0.460</td>\n",
       "      <td>2.069712e+08</td>\n",
       "      <td>35555.96</td>\n",
       "      <td>0.694984</td>\n",
       "      <td>468.682727</td>\n",
       "    </tr>\n",
       "    <tr>\n",
       "      <th>803</th>\n",
       "      <td>5300108</td>\n",
       "      <td>Brasília</td>\n",
       "      <td>DF</td>\n",
       "      <td>0</td>\n",
       "      <td>0</td>\n",
       "      <td>0</td>\n",
       "      <td>0</td>\n",
       "      <td>0</td>\n",
       "      <td>0</td>\n",
       "      <td>0</td>\n",
       "      <td>0</td>\n",
       "      <td>0</td>\n",
       "      <td>0</td>\n",
       "      <td>2057</td>\n",
       "      <td>0</td>\n",
       "      <td>332299</td>\n",
       "      <td>0</td>\n",
       "      <td>0</td>\n",
       "      <td>334356</td>\n",
       "      <td>3721.63</td>\n",
       "      <td>0.554</td>\n",
       "      <td>2.736140e+11</td>\n",
       "      <td>90742.75</td>\n",
       "      <td>0.824000</td>\n",
       "      <td>523.647921</td>\n",
       "    </tr>\n",
       "  </tbody>\n",
       "</table>\n",
       "<p>5570 rows × 25 columns</p>\n",
       "</div>"
      ],
      "text/plain": [
       "      cod_municipio_ibge NO_MUNICIPIO_RESIDENCIA  UF  fibra_optica  wifi  \\\n",
       "3852             1100015   Alta Floresta D'Oeste  RO             0     0   \n",
       "3853             1100023               Ariquemes  RO             0     0   \n",
       "3854             1100031                  Cabixi  RO             3   129   \n",
       "3855             1100049                  Cacoal  RO             0     0   \n",
       "3856             1100056              Cerejeiras  RO             0     0   \n",
       "...                  ...                     ...  ..           ...   ...   \n",
       "1124             5222005              Vianópolis  GO             0     0   \n",
       "1125             5222054          Vicentinópolis  GO             0     0   \n",
       "1126             5222203                Vila Boa  GO            83   142   \n",
       "1127             5222302           Vila Propício  GO             0     0   \n",
       "803              5300108                Brasília  DF             0     0   \n",
       "\n",
       "      ethernet  lte  vsatelite  wimax  plc_eletrico  xdsl  cable_modem  \\\n",
       "3852         3    0          0      0             0   239            0   \n",
       "3853        47    0          0      0             0     0            0   \n",
       "3854         2    0          3      0             0    75            0   \n",
       "3855         0    0          0      0             0     0            0   \n",
       "3856         0    0          0      0             0   644            0   \n",
       "...        ...  ...        ...    ...           ...   ...          ...   \n",
       "1124         0    0         74      0             0   606            0   \n",
       "1125         0    0          0      0             0   120            0   \n",
       "1126         0    0          0      0             0     0            0   \n",
       "1127         0    0          0      0             0     0            0   \n",
       "803          0    0          0      0             0     0            0   \n",
       "\n",
       "      fwa_5g_fixed  atm_backbone  dth_satelite  hfc_tv_cabo  fr_frame_relay  \\\n",
       "3852             0             0             0            0               2   \n",
       "3853             8             0             0            0               3   \n",
       "3854             0             0             0            0               0   \n",
       "3855             0             0             0            0               6   \n",
       "3856             0             0             0            0               4   \n",
       "...            ...           ...           ...          ...             ...   \n",
       "1124             0             0             0            0               0   \n",
       "1125             0             0             0            0               2   \n",
       "1126             0             0             0            0               1   \n",
       "1127             0             0             0            0               0   \n",
       "803              0          2057             0       332299               0   \n",
       "\n",
       "      mmds  densidade_total_internet_fixa  remuneracao_media   gini  \\\n",
       "3852     0                            244            2030.28  0.472   \n",
       "3853     0                             58            2030.28  0.472   \n",
       "3854     0                            212            2030.28  0.472   \n",
       "3855     0                              6            2030.28  0.472   \n",
       "3856     0                            648            2030.28  0.472   \n",
       "...    ...                            ...                ...    ...   \n",
       "1124     0                            680            2019.95  0.460   \n",
       "1125     0                            122            2019.95  0.460   \n",
       "1126     0                            226            2019.95  0.460   \n",
       "1127     0                              0            2019.95  0.460   \n",
       "803      0                         334356            3721.63  0.554   \n",
       "\n",
       "               pib  pib_p_capta  media_idhm  mean_grades_group_cities  \n",
       "3852  4.956288e+08     21600.73    0.644038                493.009774  \n",
       "3853  2.578830e+09     23908.38    0.644038                491.642412  \n",
       "3854  1.399594e+08     26347.78    0.644038                479.756641  \n",
       "3855  2.260644e+09     26483.95    0.644038                497.176007  \n",
       "3856  5.068545e+08     31051.55    0.644038                493.380822  \n",
       "...            ...          ...         ...                       ...  \n",
       "1124  4.836633e+08     34888.79    0.694984                500.626357  \n",
       "1125  3.423556e+08     39157.68    0.694984                477.479032  \n",
       "1126  1.136685e+08     18419.78    0.694984                456.444022  \n",
       "1127  2.069712e+08     35555.96    0.694984                468.682727  \n",
       "803   2.736140e+11     90742.75    0.824000                523.647921  \n",
       "\n",
       "[5570 rows x 25 columns]"
      ]
     },
     "execution_count": 2,
     "metadata": {},
     "output_type": "execute_result"
    }
   ],
   "source": [
    "complete_data_with_totalnet = pd.read_csv(\"data/integrated_processed_enem_anatel_ibge_2019.csv\", encoding=\"latin_1\")\n",
    "complete_data_with_totalnet[\"densidade_total_internet_fixa\"] = complete_data_with_totalnet[['fibra_optica', 'wifi', 'ethernet', 'lte',\n",
    "                                                        'vsatelite', 'wimax', 'plc_eletrico', 'xdsl', \n",
    "                                                        'cable_modem', 'fwa_5g_fixed', 'atm_backbone',\n",
    "                                                        'dth_satelite', 'hfc_tv_cabo', 'fr_frame_relay',\n",
    "                                                        'mmds']].sum(axis=1)\n",
    "complete_data_with_totalnet.sort_values(by=\"cod_municipio_ibge\", inplace= True)\n",
    "complete_data_with_totalnet = complete_data_with_totalnet[['cod_municipio_ibge', 'NO_MUNICIPIO_RESIDENCIA',\n",
    "                                                          'UF', 'fibra_optica', 'wifi', 'ethernet', 'lte',\n",
    "                                                          'vsatelite', 'wimax', 'plc_eletrico', 'xdsl', \n",
    "                                                          'cable_modem', 'fwa_5g_fixed', 'atm_backbone',\n",
    "                                                          'dth_satelite', 'hfc_tv_cabo', 'fr_frame_relay',\n",
    "                                                          'mmds', 'densidade_total_internet_fixa', \n",
    "                                                          'remuneracao_media', 'gini', 'pib', \n",
    "                                                          'pib_p_capta', 'media_idhm', \n",
    "                                                          'mean_grades_group_cities']]\n",
    "complete_data_with_totalnet"
   ]
  },
  {
   "cell_type": "markdown",
   "id": "ae929d7e",
   "metadata": {},
   "source": [
    "### Preparando o dataset para o procedimento de Regressão com a biblioteca Sklearn"
   ]
  },
  {
   "cell_type": "markdown",
   "id": "8a839218",
   "metadata": {},
   "source": [
    "#### Separando as variáveis numéricas em indepentes e dependentes considerando as densidades totais do acesso a internet"
   ]
  },
  {
   "cell_type": "code",
   "execution_count": 4,
   "id": "22c5aa10",
   "metadata": {},
   "outputs": [],
   "source": [
    "num_data_independent = complete_data_with_totalnet[['densidade_total_internet_fixa', \n",
    "                                                          'remuneracao_media', 'gini', 'pib', \n",
    "                                                          'pib_p_capta', 'media_idhm']]\n",
    "num_data_label = complete_data_with_totalnet['mean_grades_group_cities']"
   ]
  },
  {
   "cell_type": "markdown",
   "id": "fedded0b",
   "metadata": {},
   "source": [
    "#### Dividindo as n observações em 70% para treino e 30% para teste"
   ]
  },
  {
   "cell_type": "code",
   "execution_count": 88,
   "id": "c0ecf79d",
   "metadata": {},
   "outputs": [],
   "source": [
    "x_train, x_test, y_train, y_test = train_test_split(num_data_independent, num_data_label, \n",
    "                                                    train_size= 0.75, random_state=42)"
   ]
  },
  {
   "cell_type": "markdown",
   "id": "5af77037",
   "metadata": {},
   "source": [
    "### Avaliação dos testes estatísticos T e F para o modelo"
   ]
  },
  {
   "cell_type": "code",
   "execution_count": null,
   "id": "26070018",
   "metadata": {},
   "outputs": [],
   "source": []
  },
  {
   "cell_type": "code",
   "execution_count": null,
   "id": "b9742d13",
   "metadata": {},
   "outputs": [],
   "source": []
  },
  {
   "cell_type": "code",
   "execution_count": null,
   "id": "5e1ff77f",
   "metadata": {},
   "outputs": [],
   "source": []
  },
  {
   "cell_type": "code",
   "execution_count": null,
   "id": "7f2bfb87",
   "metadata": {},
   "outputs": [],
   "source": []
  },
  {
   "cell_type": "markdown",
   "id": "de6170aa",
   "metadata": {},
   "source": [
    "#### Treinando o modelo"
   ]
  },
  {
   "cell_type": "code",
   "execution_count": 18,
   "id": "4d2a9107",
   "metadata": {},
   "outputs": [
    {
     "data": {
      "text/plain": [
       "LinearRegression()"
      ]
     },
     "execution_count": 18,
     "metadata": {},
     "output_type": "execute_result"
    }
   ],
   "source": [
    "model_ols = LinearRegression()\n",
    "model_ols.fit(x_train, y_train)"
   ]
  },
  {
   "cell_type": "markdown",
   "id": "307ee699",
   "metadata": {},
   "source": [
    "#### Predição do teste, y_hat"
   ]
  },
  {
   "cell_type": "code",
   "execution_count": 19,
   "id": "f138429b",
   "metadata": {},
   "outputs": [],
   "source": [
    "y_predicted = model_ols.predict(x_test)"
   ]
  },
  {
   "cell_type": "markdown",
   "id": "d151ce8b",
   "metadata": {},
   "source": [
    "#### Score R² - OLS"
   ]
  },
  {
   "cell_type": "code",
   "execution_count": 16,
   "id": "df658e5b",
   "metadata": {},
   "outputs": [
    {
     "data": {
      "text/plain": [
       "0.4963982456882995"
      ]
     },
     "execution_count": 16,
     "metadata": {},
     "output_type": "execute_result"
    }
   ],
   "source": [
    "model_ols.score(x_test, y_test)"
   ]
  },
  {
   "cell_type": "markdown",
   "id": "34ec0255",
   "metadata": {},
   "source": [
    "#### Score RMSE - Raiz Quadrada do Erro Médio Quadrado"
   ]
  },
  {
   "cell_type": "code",
   "execution_count": 51,
   "id": "0b814000",
   "metadata": {},
   "outputs": [
    {
     "data": {
      "text/plain": [
       "17.68"
      ]
     },
     "execution_count": 51,
     "metadata": {},
     "output_type": "execute_result"
    }
   ],
   "source": [
    "round(np.sqrt(mean_squared_error(y_true= y_test, y_pred= y_predicted)), 2)"
   ]
  },
  {
   "cell_type": "code",
   "execution_count": 53,
   "id": "0ff50509",
   "metadata": {},
   "outputs": [
    {
     "data": {
      "image/png": "[encoded data removed]",
      "text/plain": [
       "<Figure size 720x432 with 1 Axes>"
      ]
     },
     "metadata": {
      "needs_background": "light"
     },
     "output_type": "display_data"
    }
   ],
   "source": [
    "plt.figure(figsize=(10,6))\n",
    "plt.scatter(x= y_test, y= y_predicted)\n",
    "plt.title(\"Regressão Linear OLS - Dados Totais da densidade por município\")\n",
    "plt.xlabel(\"valor real da média das notas\")\n",
    "plt.ylabel(\"valor estimado das notas\")\n",
    "plt.show()"
   ]
  },
  {
   "cell_type": "markdown",
   "id": "c5d2e1ef",
   "metadata": {},
   "source": [
    "#### Coeficientes Betas da Regressão por municípios e o Intercepto"
   ]
  },
  {
   "cell_type": "code",
   "execution_count": 41,
   "id": "122c51cb",
   "metadata": {},
   "outputs": [
    {
     "name": "stdout",
     "output_type": "stream",
     "text": [
      " A equação do modelo OLS sem transformações para os dados de entrada:\n",
      "\n",
      " mean_grades_mun= 191.423 + 0.0*internet + -0.01*remuneracao + 104.437*gini + 0.0*pib + 0.0*pib_capta + 402.11*idh\n"
     ]
    }
   ],
   "source": [
    "print(f\" A equação do modelo OLS sem transformações para os dados de entrada:\\n\") \n",
    "print(f\" mean_grades_mun= {round(model_ols.intercept_,3)} + {round(model_ols.coef_[0],3)}*internet + {round(model_ols.coef_[1],3)}*remuneracao + {round(model_ols.coef_[2],3)}*gini + {round(model_ols.coef_[3], 2)}*pib + {round(model_ols.coef_[4], 2)}*pib_capta + {round(model_ols.coef_[5], 2)}*idh\")                               "
   ]
  },
  {
   "cell_type": "markdown",
   "id": "b0d2ed00",
   "metadata": {},
   "source": [
    "### Grau de importância das variáveis do modelo OLS - sem transformação"
   ]
  },
  {
   "cell_type": "code",
   "execution_count": 87,
   "id": "8b1b3646",
   "metadata": {},
   "outputs": [
    {
     "data": {
      "text/html": [
       "<div>\n",
       "<style scoped>\n",
       "    .dataframe tbody tr th:only-of-type {\n",
       "        vertical-align: middle;\n",
       "    }\n",
       "\n",
       "    .dataframe tbody tr th {\n",
       "        vertical-align: top;\n",
       "    }\n",
       "\n",
       "    .dataframe thead th {\n",
       "        text-align: right;\n",
       "    }\n",
       "</style>\n",
       "<table border=\"1\" class=\"dataframe\">\n",
       "  <thead>\n",
       "    <tr style=\"text-align: right;\">\n",
       "      <th></th>\n",
       "      <th>coeficientes</th>\n",
       "    </tr>\n",
       "  </thead>\n",
       "  <tbody>\n",
       "    <tr>\n",
       "      <th>media_idhm</th>\n",
       "      <td>402.112</td>\n",
       "    </tr>\n",
       "    <tr>\n",
       "      <th>gini</th>\n",
       "      <td>104.437</td>\n",
       "    </tr>\n",
       "    <tr>\n",
       "      <th>remuneracao_media</th>\n",
       "      <td>0.010</td>\n",
       "    </tr>\n",
       "    <tr>\n",
       "      <th>densidade_total_internet_fixa</th>\n",
       "      <td>0.000</td>\n",
       "    </tr>\n",
       "    <tr>\n",
       "      <th>pib</th>\n",
       "      <td>0.000</td>\n",
       "    </tr>\n",
       "    <tr>\n",
       "      <th>pib_p_capta</th>\n",
       "      <td>0.000</td>\n",
       "    </tr>\n",
       "  </tbody>\n",
       "</table>\n",
       "</div>"
      ],
      "text/plain": [
       "                               coeficientes\n",
       "media_idhm                          402.112\n",
       "gini                                104.437\n",
       "remuneracao_media                     0.010\n",
       "densidade_total_internet_fixa         0.000\n",
       "pib                                   0.000\n",
       "pib_p_capta                           0.000"
      ]
     },
     "execution_count": 87,
     "metadata": {},
     "output_type": "execute_result"
    }
   ],
   "source": [
    "ols_importance = pd.DataFrame({\"coeficientes\" : abs(model_ols.coef_.round(3))},\n",
    "                              index= model_ols.feature_names_in_).sort_values(by= \"coeficientes\", \n",
    "                                                                              ascending=False)\n",
    "ols_importance"
   ]
  },
  {
   "cell_type": "code",
   "execution_count": null,
   "id": "063301aa",
   "metadata": {},
   "outputs": [],
   "source": []
  },
  {
   "cell_type": "code",
   "execution_count": null,
   "id": "dc9d4e4f",
   "metadata": {},
   "outputs": [],
   "source": []
  },
  {
   "cell_type": "code",
   "execution_count": null,
   "id": "f18ccfd7",
   "metadata": {},
   "outputs": [],
   "source": []
  },
  {
   "cell_type": "code",
   "execution_count": null,
   "id": "676aee85",
   "metadata": {},
   "outputs": [],
   "source": []
  },
  {
   "cell_type": "code",
   "execution_count": null,
   "id": "c26fe247",
   "metadata": {},
   "outputs": [],
   "source": []
  },
  {
   "cell_type": "code",
   "execution_count": null,
   "id": "27b98a2f",
   "metadata": {},
   "outputs": [],
   "source": []
  },
  {
   "cell_type": "code",
   "execution_count": null,
   "id": "8c67c350",
   "metadata": {},
   "outputs": [],
   "source": []
  },
  {
   "cell_type": "code",
   "execution_count": null,
   "id": "16a8dca3",
   "metadata": {},
   "outputs": [],
   "source": []
  },
  {
   "cell_type": "code",
   "execution_count": null,
   "id": "0976009b",
   "metadata": {},
   "outputs": [],
   "source": []
  },
  {
   "cell_type": "code",
   "execution_count": null,
   "id": "71891136",
   "metadata": {},
   "outputs": [],
   "source": []
  },
  {
   "cell_type": "code",
   "execution_count": null,
   "id": "e21ea077",
   "metadata": {},
   "outputs": [],
   "source": []
  },
  {
   "cell_type": "code",
   "execution_count": null,
   "id": "282c3cee",
   "metadata": {},
   "outputs": [],
   "source": []
  },
  {
   "cell_type": "code",
   "execution_count": null,
   "id": "1ae31c5b",
   "metadata": {},
   "outputs": [],
   "source": []
  },
  {
   "cell_type": "code",
   "execution_count": null,
   "id": "054b3800",
   "metadata": {},
   "outputs": [],
   "source": []
  },
  {
   "cell_type": "code",
   "execution_count": null,
   "id": "ffddb8a0",
   "metadata": {},
   "outputs": [],
   "source": []
  },
  {
   "cell_type": "code",
   "execution_count": null,
   "id": "ff756c90",
   "metadata": {},
   "outputs": [],
   "source": []
  }
 ],
 "metadata": {
  "kernelspec": {
   "display_name": "Python 3 (ipykernel)",
   "language": "python",
   "name": "python3"
  },
  "language_info": {
   "codemirror_mode": {
    "name": "ipython",
    "version": 3
   },
   "file_extension": ".py",
   "mimetype": "text/x-python",
   "name": "python",
   "nbconvert_exporter": "python",
   "pygments_lexer": "ipython3",
   "version": "3.9.7"
  }
 },
 "nbformat": 4,
 "nbformat_minor": 5
}
