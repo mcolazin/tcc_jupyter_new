{
 "cells": [
  {
   "cell_type": "markdown",
   "id": "1bd7a34a",
   "metadata": {},
   "source": [
    "# Caderno de Análise dos Dados II - Internet e Enem no ano de 2019:"
   ]
  },
  {
   "cell_type": "code",
   "execution_count": 46,
   "id": "7be8d14b",
   "metadata": {},
   "outputs": [],
   "source": [
    "library(tidyverse)\n",
    "library(repr)"
   ]
  },
  {
   "cell_type": "markdown",
   "id": "c52ba7c3",
   "metadata": {},
   "source": [
    "#### Carregamento dos Dados Pré Processados e unificados em uma única tabela :"
   ]
  },
  {
   "cell_type": "code",
   "execution_count": 2,
   "id": "ce82c8cd",
   "metadata": {
    "scrolled": true
   },
   "outputs": [],
   "source": [
    "complete_data = read.csv(\"data/integrated_processed_enem_anatel_ibge_2019.csv\")"
   ]
  },
  {
   "cell_type": "markdown",
   "id": "da2392c9",
   "metadata": {},
   "source": [
    "#### Conversão dos tipos de dados quantitativos - Inteiros para Numéricos:"
   ]
  },
  {
   "cell_type": "code",
   "execution_count": 3,
   "id": "d4c7a831",
   "metadata": {
    "scrolled": true
   },
   "outputs": [],
   "source": [
    "# conversão dos tipos de dados \n",
    "# 1 - inteiros (int) para numéricos (num) - Dados de acesso a internet - Anatel\n",
    "complete_data[5:19] = sapply(complete_data[5:19], as.numeric)"
   ]
  },
  {
   "cell_type": "markdown",
   "id": "a035eac0",
   "metadata": {},
   "source": [
    "#### Sumarização por soma dos dados de acesso a internet em banda larga-fixa para um único valor total (densidade_total_internet_fixa):"
   ]
  },
  {
   "cell_type": "code",
   "execution_count": 4,
   "id": "49875173",
   "metadata": {},
   "outputs": [],
   "source": [
    "complete_data_with_totalnet = complete_data %>%\n",
    "    group_by(cod_municipio_ibge) %>%\n",
    "    summarise(densidade_total_internet_fixa = fibra_optica + wifi + ethernet + lte + vsatelite + wimax + plc_eletrico + xdsl + cable_modem \n",
    "            + fwa_5g_fixed + atm_backbone + dth_satelite + hfc_tv_cabo + fr_frame_relay + mmds) %>%\n",
    "    merge(complete_data, by.y = \"cod_municipio_ibge\" ) %>%\n",
    "    data.frame()\n",
    "    "
   ]
  },
  {
   "cell_type": "markdown",
   "id": "0224290b",
   "metadata": {},
   "source": [
    "#### Reordenamento das posições das variáveis no data frame (Features, Labels)"
   ]
  },
  {
   "cell_type": "code",
   "execution_count": 5,
   "id": "ef67de41",
   "metadata": {},
   "outputs": [],
   "source": [
    "complete_data_with_totalnet = complete_data_with_totalnet %>%\n",
    "    select(cod_municipio_ibge, NO_MUNICIPIO_RESIDENCIA, UF,fibra_optica, wifi, ethernet, lte, vsatelite ,wimax , plc_eletrico,\n",
    "        xdsl, cable_modem, fwa_5g_fixed, atm_backbone, dth_satelite, hfc_tv_cabo, fr_frame_relay, mmds,\n",
    "        densidade_total_internet_fixa, remuneracao_media, desvio_padrao, gini, pib, pib_p_capta, media_idhm,\n",
    "        mean_grades_group_cities)"
   ]
  },
  {
   "cell_type": "markdown",
   "id": "5c302f19",
   "metadata": {},
   "source": [
    "#### Tabela dos Dados "
   ]
  },
  {
   "cell_type": "code",
   "execution_count": 6,
   "id": "5776b2b5",
   "metadata": {
    "scrolled": true
   },
   "outputs": [
    {
     "data": {
      "text/html": [
       "<table>\n",
       "<thead><tr><th scope=col>cod_municipio_ibge</th><th scope=col>NO_MUNICIPIO_RESIDENCIA</th><th scope=col>UF</th><th scope=col>fibra_optica</th><th scope=col>wifi</th><th scope=col>ethernet</th><th scope=col>lte</th><th scope=col>vsatelite</th><th scope=col>wimax</th><th scope=col>plc_eletrico</th><th scope=col>...</th><th scope=col>fr_frame_relay</th><th scope=col>mmds</th><th scope=col>densidade_total_internet_fixa</th><th scope=col>remuneracao_media</th><th scope=col>desvio_padrao</th><th scope=col>gini</th><th scope=col>pib</th><th scope=col>pib_p_capta</th><th scope=col>media_idhm</th><th scope=col>mean_grades_group_cities</th></tr></thead>\n",
       "<tbody>\n",
       "\t<tr><td>1100015                 </td><td>Alta Floresta D'Oeste   </td><td>RO                      </td><td> 0                      </td><td>  0                     </td><td> 3                      </td><td>   0                    </td><td>0                       </td><td>0                       </td><td>0                       </td><td>...                     </td><td>2                       </td><td>0                       </td><td>  244                   </td><td>2030.28                 </td><td>5653.47                 </td><td>0.472                   </td><td>  495628767             </td><td>21600.73                </td><td>0.6440385               </td><td>493.0098                </td></tr>\n",
       "\t<tr><td>1100023                 </td><td>Ariquemes               </td><td>RO                      </td><td> 0                      </td><td>  0                     </td><td>47                      </td><td>   0                    </td><td>0                       </td><td>0                       </td><td>0                       </td><td>...                     </td><td>3                       </td><td>0                       </td><td>   58                   </td><td>2030.28                 </td><td>5653.47                 </td><td>0.472                   </td><td> 2578829725             </td><td>23908.38                </td><td>0.6440385               </td><td>491.6424                </td></tr>\n",
       "\t<tr><td>1100031                 </td><td>Cabixi                  </td><td>RO                      </td><td> 3                      </td><td>129                     </td><td> 2                      </td><td>   0                    </td><td>3                       </td><td>0                       </td><td>0                       </td><td>...                     </td><td>0                       </td><td>0                       </td><td>  212                   </td><td>2030.28                 </td><td>5653.47                 </td><td>0.472                   </td><td>  139959390             </td><td>26347.78                </td><td>0.6440385               </td><td>479.7566                </td></tr>\n",
       "\t<tr><td>1100049                 </td><td>Cacoal                  </td><td>RO                      </td><td> 0                      </td><td>  0                     </td><td> 0                      </td><td>   0                    </td><td>0                       </td><td>0                       </td><td>0                       </td><td>...                     </td><td>6                       </td><td>0                       </td><td>    6                   </td><td>2030.28                 </td><td>5653.47                 </td><td>0.472                   </td><td> 2260643565             </td><td>26483.95                </td><td>0.6440385               </td><td>497.1760                </td></tr>\n",
       "\t<tr><td>1100056                 </td><td>Cerejeiras              </td><td>RO                      </td><td> 0                      </td><td>  0                     </td><td> 0                      </td><td>   0                    </td><td>0                       </td><td>0                       </td><td>0                       </td><td>...                     </td><td>4                       </td><td>0                       </td><td>  648                   </td><td>2030.28                 </td><td>5653.47                 </td><td>0.472                   </td><td>  506854457             </td><td>31051.55                </td><td>0.6440385               </td><td>493.3808                </td></tr>\n",
       "\t<tr><td>1100064                 </td><td>Colorado do Oeste       </td><td>RO                      </td><td> 0                      </td><td>618                     </td><td> 0                      </td><td>   0                    </td><td>0                       </td><td>0                       </td><td>0                       </td><td>...                     </td><td>3                       </td><td>0                       </td><td> 1145                   </td><td>2030.28                 </td><td>5653.47                 </td><td>0.472                   </td><td>  334851274             </td><td>21083.70                </td><td>0.6440385               </td><td>495.0767                </td></tr>\n",
       "\t<tr><td>1100072                 </td><td>Corumbiara              </td><td>RO                      </td><td> 5                      </td><td>108                     </td><td> 3                      </td><td>   0                    </td><td>0                       </td><td>0                       </td><td>0                       </td><td>...                     </td><td>0                       </td><td>0                       </td><td>  272                   </td><td>2030.28                 </td><td>5653.47                 </td><td>0.472                   </td><td>  349247369             </td><td>47253.06                </td><td>0.6440385               </td><td>481.5953                </td></tr>\n",
       "\t<tr><td>1100080                 </td><td>Costa Marques           </td><td>RO                      </td><td> 0                      </td><td>  0                     </td><td> 0                      </td><td>   0                    </td><td>0                       </td><td>0                       </td><td>0                       </td><td>...                     </td><td>1                       </td><td>0                       </td><td>    1                   </td><td>2030.28                 </td><td>5653.47                 </td><td>0.472                   </td><td>  238768544             </td><td>13025.40                </td><td>0.6440385               </td><td>461.0516                </td></tr>\n",
       "\t<tr><td>1100098                 </td><td>Espigão D'Oeste         </td><td>RO                      </td><td> 0                      </td><td>  0                     </td><td> 5                      </td><td>   0                    </td><td>4                       </td><td>0                       </td><td>0                       </td><td>...                     </td><td>1                       </td><td>0                       </td><td>  564                   </td><td>2030.28                 </td><td>5653.47                 </td><td>0.472                   </td><td>  624760162             </td><td>19298.21                </td><td>0.6440385               </td><td>494.1589                </td></tr>\n",
       "\t<tr><td>1100106                 </td><td>Guajará-Mirim           </td><td>RO                      </td><td> 0                      </td><td>  0                     </td><td>26                      </td><td>   0                    </td><td>0                       </td><td>0                       </td><td>0                       </td><td>...                     </td><td>5                       </td><td>0                       </td><td> 1912                   </td><td>2030.28                 </td><td>5653.47                 </td><td>0.472                   </td><td>  892883182             </td><td>19337.36                </td><td>0.6440385               </td><td>465.0481                </td></tr>\n",
       "\t<tr><td>1100114                 </td><td>Jaru                    </td><td>RO                      </td><td> 0                      </td><td>  0                     </td><td>16                      </td><td>   0                    </td><td>0                       </td><td>0                       </td><td>0                       </td><td>...                     </td><td>6                       </td><td>0                       </td><td> 2755                   </td><td>2030.28                 </td><td>5653.47                 </td><td>0.472                   </td><td> 1500889690             </td><td>28988.70                </td><td>0.6440385               </td><td>482.1583                </td></tr>\n",
       "\t<tr><td>1100122                 </td><td>Ji-Paraná               </td><td>RO                      </td><td> 0                      </td><td>  0                     </td><td> 0                      </td><td>   0                    </td><td>0                       </td><td>0                       </td><td>0                       </td><td>...                     </td><td>7                       </td><td>0                       </td><td>    7                   </td><td>2030.28                 </td><td>5653.47                 </td><td>0.472                   </td><td> 3782971683             </td><td>29332.41                </td><td>0.6440385               </td><td>491.1326                </td></tr>\n",
       "\t<tr><td>1100130                 </td><td>Machadinho D'Oeste      </td><td>RO                      </td><td> 0                      </td><td>  0                     </td><td> 9                      </td><td>   0                    </td><td>0                       </td><td>0                       </td><td>0                       </td><td>...                     </td><td>0                       </td><td>0                       </td><td>  456                   </td><td>2030.28                 </td><td>5653.47                 </td><td>0.472                   </td><td>  633006802             </td><td>15828.73                </td><td>0.6440385               </td><td>482.3651                </td></tr>\n",
       "\t<tr><td>1100148                 </td><td>Nova Brasilândia D'Oeste</td><td>RO                      </td><td> 0                      </td><td>  0                     </td><td> 5                      </td><td>   0                    </td><td>0                       </td><td>0                       </td><td>0                       </td><td>...                     </td><td>3                       </td><td>0                       </td><td>  150                   </td><td>2030.28                 </td><td>5653.47                 </td><td>0.472                   </td><td>  359524037             </td><td>17560.03                </td><td>0.6440385               </td><td>485.9443                </td></tr>\n",
       "\t<tr><td>1100155                 </td><td>Ouro Preto do Oeste     </td><td>RO                      </td><td> 0                      </td><td>  0                     </td><td> 0                      </td><td>   0                    </td><td>0                       </td><td>0                       </td><td>0                       </td><td>...                     </td><td>2                       </td><td>0                       </td><td> 1623                   </td><td>2030.28                 </td><td>5653.47                 </td><td>0.472                   </td><td>  834168267             </td><td>23148.83                </td><td>0.6440385               </td><td>486.2979                </td></tr>\n",
       "\t<tr><td>1100189                 </td><td>Pimenta Bueno           </td><td>RO                      </td><td> 0                      </td><td>  0                     </td><td> 0                      </td><td>   0                    </td><td>6                       </td><td>0                       </td><td>0                       </td><td>...                     </td><td>2                       </td><td>0                       </td><td>  786                   </td><td>2030.28                 </td><td>5653.47                 </td><td>0.472                   </td><td> 1163876976             </td><td>31747.87                </td><td>0.6440385               </td><td>487.5804                </td></tr>\n",
       "\t<tr><td>1100205                 </td><td>Porto Velho             </td><td>RO                      </td><td> 0                      </td><td>  0                     </td><td> 0                      </td><td>6073                    </td><td>0                       </td><td>0                       </td><td>0                       </td><td>...                     </td><td>0                       </td><td>0                       </td><td>28781                   </td><td>2030.28                 </td><td>5653.47                 </td><td>0.472                   </td><td>17912070137             </td><td>33825.46                </td><td>0.6440385               </td><td>489.0845                </td></tr>\n",
       "\t<tr><td>1100254                 </td><td>Presidente Médici       </td><td>RO                      </td><td> 0                      </td><td>680                     </td><td> 0                      </td><td>   0                    </td><td>0                       </td><td>0                       </td><td>0                       </td><td>...                     </td><td>3                       </td><td>0                       </td><td>  683                   </td><td>2030.28                 </td><td>5653.47                 </td><td>0.472                   </td><td>  427751732             </td><td>22529.85                </td><td>0.6440385               </td><td>486.4980                </td></tr>\n",
       "\t<tr><td>1100262                 </td><td>Rio Crespo              </td><td>RO                      </td><td> 0                      </td><td>  0                     </td><td> 0                      </td><td>   0                    </td><td>0                       </td><td>0                       </td><td>0                       </td><td>...                     </td><td>0                       </td><td>0                       </td><td>  122                   </td><td>2030.28                 </td><td>5653.47                 </td><td>0.472                   </td><td>  111023296             </td><td>29496.09                </td><td>0.6440385               </td><td>470.4229                </td></tr>\n",
       "\t<tr><td>1100288                 </td><td>Rolim de Moura          </td><td>RO                      </td><td> 0                      </td><td>  0                     </td><td>53                      </td><td>   0                    </td><td>0                       </td><td>0                       </td><td>0                       </td><td>...                     </td><td>5                       </td><td>0                       </td><td>  148                   </td><td>2030.28                 </td><td>5653.47                 </td><td>0.472                   </td><td> 1283433654             </td><td>23310.58                </td><td>0.6440385               </td><td>489.3412                </td></tr>\n",
       "\t<tr><td>1100296                 </td><td>Santa Luzia D'Oeste     </td><td>RO                      </td><td> 0                      </td><td>  0                     </td><td> 0                      </td><td>   0                    </td><td>3                       </td><td>0                       </td><td>0                       </td><td>...                     </td><td>2                       </td><td>0                       </td><td>  132                   </td><td>2030.28                 </td><td>5653.47                 </td><td>0.472                   </td><td>  142611547             </td><td>21957.13                </td><td>0.6440385               </td><td>485.8844                </td></tr>\n",
       "\t<tr><td>1100304                 </td><td>Vilhena                 </td><td>RO                      </td><td> 0                      </td><td>  0                     </td><td> 0                      </td><td>   0                    </td><td>0                       </td><td>0                       </td><td>0                       </td><td>...                     </td><td>8                       </td><td>0                       </td><td> 5014                   </td><td>2030.28                 </td><td>5653.47                 </td><td>0.472                   </td><td> 2831175371             </td><td>28353.15                </td><td>0.6440385               </td><td>498.6196                </td></tr>\n",
       "\t<tr><td>1100320                 </td><td>São Miguel do Guaporé   </td><td>RO                      </td><td> 0                      </td><td>  0                     </td><td> 6                      </td><td>   0                    </td><td>0                       </td><td>0                       </td><td>0                       </td><td>...                     </td><td>0                       </td><td>0                       </td><td>  163                   </td><td>2030.28                 </td><td>5653.47                 </td><td>0.472                   </td><td>  615803842             </td><td>26768.26                </td><td>0.6440385               </td><td>478.2964                </td></tr>\n",
       "\t<tr><td>1100338                 </td><td>Nova Mamoré             </td><td>RO                      </td><td> 0                      </td><td>  0                     </td><td> 0                      </td><td>   0                    </td><td>0                       </td><td>0                       </td><td>0                       </td><td>...                     </td><td>0                       </td><td>0                       </td><td>  827                   </td><td>2030.28                 </td><td>5653.47                 </td><td>0.472                   </td><td>  529261253             </td><td>17305.73                </td><td>0.6440385               </td><td>463.4409                </td></tr>\n",
       "\t<tr><td>1100346                 </td><td>Alvorada D'Oeste        </td><td>RO                      </td><td> 0                      </td><td>  0                     </td><td> 0                      </td><td>   0                    </td><td>0                       </td><td>0                       </td><td>0                       </td><td>...                     </td><td>0                       </td><td>0                       </td><td>    0                   </td><td>2030.28                 </td><td>5653.47                 </td><td>0.472                   </td><td>  260347872             </td><td>18065.91                </td><td>0.6440385               </td><td>479.1831                </td></tr>\n",
       "\t<tr><td>1100379                 </td><td>Alto Alegre dos Parecis </td><td>RO                      </td><td>95                      </td><td>  0                     </td><td> 4                      </td><td>   0                    </td><td>6                       </td><td>0                       </td><td>0                       </td><td>...                     </td><td>0                       </td><td>0                       </td><td>  204                   </td><td>2030.28                 </td><td>5653.47                 </td><td>0.472                   </td><td>  288681169             </td><td>21802.07                </td><td>0.6440385               </td><td>478.2062                </td></tr>\n",
       "\t<tr><td>1100403                 </td><td>Alto Paraíso            </td><td>RO                      </td><td> 0                      </td><td>  0                     </td><td> 0                      </td><td>   0                    </td><td>0                       </td><td>0                       </td><td>0                       </td><td>...                     </td><td>0                       </td><td>0                       </td><td>  421                   </td><td>2030.28                 </td><td>5653.47                 </td><td>0.472                   </td><td>  358463741             </td><td>16728.75                </td><td>0.6440385               </td><td>479.7620                </td></tr>\n",
       "\t<tr><td>1100452                 </td><td>Buritis                 </td><td>RO                      </td><td> 0                      </td><td>  0                     </td><td> 7                      </td><td>   0                    </td><td>0                       </td><td>0                       </td><td>0                       </td><td>...                     </td><td>5                       </td><td>0                       </td><td>  301                   </td><td>2030.28                 </td><td>5653.47                 </td><td>0.472                   </td><td>  726030847             </td><td>18309.15                </td><td>0.6440385               </td><td>476.9779                </td></tr>\n",
       "\t<tr><td>1100502                 </td><td>Novo Horizonte do Oeste </td><td>RO                      </td><td> 0                      </td><td>  0                     </td><td> 2                      </td><td>   0                    </td><td>0                       </td><td>0                       </td><td>0                       </td><td>...                     </td><td>0                       </td><td>0                       </td><td>   97                   </td><td>2030.28                 </td><td>5653.47                 </td><td>0.472                   </td><td>  165757502             </td><td>19414.09                </td><td>0.6440385               </td><td>487.3090                </td></tr>\n",
       "\t<tr><td>1100601                 </td><td>Cacaulândia             </td><td>RO                      </td><td> 0                      </td><td>  0                     </td><td> 2                      </td><td>   0                    </td><td>0                       </td><td>0                       </td><td>0                       </td><td>...                     </td><td>0                       </td><td>0                       </td><td>   74                   </td><td>2030.28                 </td><td>5653.47                 </td><td>0.472                   </td><td>  144436935             </td><td>23184.10                </td><td>0.6440385               </td><td>480.8049                </td></tr>\n",
       "\t<tr><td>...</td><td>...</td><td>...</td><td>...</td><td>...</td><td>...</td><td>...</td><td>...</td><td>...</td><td>...</td><td>   </td><td>...</td><td>...</td><td>...</td><td>...</td><td>...</td><td>...</td><td>...</td><td>...</td><td>...</td><td>...</td></tr>\n",
       "\t<tr><td>5220108                   </td><td>São Luís de Montes Belos  </td><td>GO                        </td><td>  0                       </td><td>  0                       </td><td>29                        </td><td>   0                      </td><td>68                        </td><td>0                         </td><td>0                         </td><td>...                       </td><td>4                         </td><td>0                         </td><td>  1649                    </td><td>2019.95                   </td><td>2233.59                   </td><td>0.460                     </td><td>   964321370              </td><td>28515.88                  </td><td>0.6949837                 </td><td>512.4756                  </td></tr>\n",
       "\t<tr><td>5220157                   </td><td>São Luiz do Norte         </td><td>GO                        </td><td>  0                       </td><td>  0                       </td><td> 0                        </td><td>   3                      </td><td> 0                        </td><td>0                         </td><td>0                         </td><td>...                       </td><td>0                         </td><td>0                         </td><td>    99                    </td><td>2019.95                   </td><td>2233.59                   </td><td>0.460                     </td><td>   135880889              </td><td>26297.83                  </td><td>0.6949837                 </td><td>484.6643                  </td></tr>\n",
       "\t<tr><td>5220207                   </td><td>São Miguel do Araguaia    </td><td>GO                        </td><td>619                       </td><td>  0                       </td><td> 0                        </td><td>   0                      </td><td> 0                        </td><td>0                         </td><td>0                         </td><td>...                       </td><td>0                         </td><td>0                         </td><td>  1683                    </td><td>2019.95                   </td><td>2233.59                   </td><td>0.460                     </td><td>   500933625              </td><td>22776.96                  </td><td>0.6949837                 </td><td>491.7305                  </td></tr>\n",
       "\t<tr><td>5220264                   </td><td>São Miguel do Passa Quatro</td><td>GO                        </td><td>  0                       </td><td>  0                       </td><td> 0                        </td><td>   0                      </td><td> 0                        </td><td>0                         </td><td>0                         </td><td>...                       </td><td>0                         </td><td>0                         </td><td>    93                    </td><td>2019.95                   </td><td>2233.59                   </td><td>0.460                     </td><td>   157383152              </td><td>38792.99                  </td><td>0.6949837                 </td><td>478.1546                  </td></tr>\n",
       "\t<tr><td>5220280                   </td><td>São Patrício              </td><td>GO                        </td><td>  1                       </td><td>  0                       </td><td> 5                        </td><td>   0                      </td><td> 0                        </td><td>0                         </td><td>0                         </td><td>...                       </td><td>0                         </td><td>0                         </td><td>    62                    </td><td>2019.95                   </td><td>2233.59                   </td><td>0.460                     </td><td>    39591700              </td><td>19445.83                  </td><td>0.6949837                 </td><td>494.1028                  </td></tr>\n",
       "\t<tr><td>5220405                   </td><td>São Simão                 </td><td>GO                        </td><td>  0                       </td><td>  0                       </td><td> 0                        </td><td>   0                      </td><td> 7                        </td><td>0                         </td><td>0                         </td><td>...                       </td><td>0                         </td><td>0                         </td><td>     8                    </td><td>2019.95                   </td><td>2233.59                   </td><td>0.460                     </td><td>  1165304835              </td><td>56444.89                  </td><td>0.6949837                 </td><td>494.8447                  </td></tr>\n",
       "\t<tr><td>5220454                   </td><td>Senador Canedo            </td><td>GO                        </td><td>  0                       </td><td>  0                       </td><td> 0                        </td><td>1758                      </td><td> 0                        </td><td>0                         </td><td>0                         </td><td>...                       </td><td>0                         </td><td>0                         </td><td>  1784                    </td><td>2019.95                   </td><td>2233.59                   </td><td>0.460                     </td><td>  3754398549              </td><td>32541.96                  </td><td>0.6949837                 </td><td>489.0998                  </td></tr>\n",
       "\t<tr><td>5220504                   </td><td>Serranópolis              </td><td>GO                        </td><td>  0                       </td><td>  0                       </td><td> 3                        </td><td>   0                      </td><td> 9                        </td><td>0                         </td><td>0                         </td><td>...                       </td><td>3                         </td><td>0                         </td><td>   236                    </td><td>2019.95                   </td><td>2233.59                   </td><td>0.460                     </td><td>   431435561              </td><td>50495.74                  </td><td>0.6949837                 </td><td>473.8228                  </td></tr>\n",
       "\t<tr><td>5220603                   </td><td>Silvânia                  </td><td>GO                        </td><td>  0                       </td><td>  0                       </td><td> 0                        </td><td>   0                      </td><td> 0                        </td><td>0                         </td><td>0                         </td><td>...                       </td><td>0                         </td><td>0                         </td><td>   861                    </td><td>2019.95                   </td><td>2233.59                   </td><td>0.460                     </td><td>   754658782              </td><td>36465.75                  </td><td>0.6949837                 </td><td>505.8454                  </td></tr>\n",
       "\t<tr><td>5220686                   </td><td>Simolândia                </td><td>GO                        </td><td>  0                       </td><td>  0                       </td><td> 0                        </td><td>   0                      </td><td> 0                        </td><td>0                         </td><td>0                         </td><td>...                       </td><td>0                         </td><td>0                         </td><td>     0                    </td><td>2019.95                   </td><td>2233.59                   </td><td>0.460                     </td><td>   109533437              </td><td>15976.29                  </td><td>0.6949837                 </td><td>475.0776                  </td></tr>\n",
       "\t<tr><td>5220702                   </td><td>Sítio d'Abadia            </td><td>GO                        </td><td>  1                       </td><td>  0                       </td><td> 0                        </td><td>   0                      </td><td> 0                        </td><td>0                         </td><td>0                         </td><td>...                       </td><td>0                         </td><td>0                         </td><td>    14                    </td><td>2019.95                   </td><td>2233.59                   </td><td>0.460                     </td><td>    54533165              </td><td>18244.62                  </td><td>0.6949837                 </td><td>454.5305                  </td></tr>\n",
       "\t<tr><td>5221007                   </td><td>Taquaral de Goiás         </td><td>GO                        </td><td> 91                       </td><td>  0                       </td><td> 0                        </td><td>   0                      </td><td> 0                        </td><td>0                         </td><td>0                         </td><td>...                       </td><td>0                         </td><td>0                         </td><td>   282                    </td><td>2019.95                   </td><td>2233.59                   </td><td>0.460                     </td><td>    71138251              </td><td>20158.19                  </td><td>0.6949837                 </td><td>488.4120                  </td></tr>\n",
       "\t<tr><td>5221080                   </td><td>Teresina de Goiás         </td><td>GO                        </td><td>  2                       </td><td>  0                       </td><td> 0                        </td><td>   0                      </td><td> 0                        </td><td>0                         </td><td>0                         </td><td>...                       </td><td>0                         </td><td>0                         </td><td>   151                    </td><td>2019.95                   </td><td>2233.59                   </td><td>0.460                     </td><td>    34895511              </td><td>10091.24                  </td><td>0.6949837                 </td><td>443.3904                  </td></tr>\n",
       "\t<tr><td>5221197                   </td><td>Terezópolis de Goiás      </td><td>GO                        </td><td>  2                       </td><td>  0                       </td><td> 0                        </td><td>   0                      </td><td> 0                        </td><td>0                         </td><td>0                         </td><td>...                       </td><td>0                         </td><td>0                         </td><td>   321                    </td><td>2019.95                   </td><td>2233.59                   </td><td>0.460                     </td><td>   187446126              </td><td>23305.50                  </td><td>0.6949837                 </td><td>493.2459                  </td></tr>\n",
       "\t<tr><td>5221304                   </td><td>Três Ranchos              </td><td>GO                        </td><td>  0                       </td><td>  0                       </td><td> 4                        </td><td>   0                      </td><td> 9                        </td><td>0                         </td><td>0                         </td><td>...                       </td><td>1                         </td><td>0                         </td><td>    94                    </td><td>2019.95                   </td><td>2233.59                   </td><td>0.460                     </td><td>    54078078              </td><td>19088.63                  </td><td>0.6949837                 </td><td>507.7798                  </td></tr>\n",
       "\t<tr><td>5221403                   </td><td>Trindade                  </td><td>GO                        </td><td>  0                       </td><td>  0                       </td><td> 0                        </td><td> 337                      </td><td> 0                        </td><td>0                         </td><td>0                         </td><td>...                       </td><td>2                         </td><td>0                         </td><td>   339                    </td><td>2019.95                   </td><td>2233.59                   </td><td>0.460                     </td><td>  2211794402              </td><td>17333.95                  </td><td>0.6949837                 </td><td>493.6588                  </td></tr>\n",
       "\t<tr><td>5221452                   </td><td>Trombas                   </td><td>GO                        </td><td>  0                       </td><td>  0                       </td><td> 1                        </td><td>   0                      </td><td> 0                        </td><td>0                         </td><td>0                         </td><td>...                       </td><td>0                         </td><td>0                         </td><td>   325                    </td><td>2019.95                   </td><td>2233.59                   </td><td>0.460                     </td><td>    51874603              </td><td>14821.32                  </td><td>0.6949837                 </td><td>462.1172                  </td></tr>\n",
       "\t<tr><td>5221502                   </td><td>Turvânia                  </td><td>GO                        </td><td>  0                       </td><td>  0                       </td><td> 0                        </td><td>   0                      </td><td> 0                        </td><td>0                         </td><td>0                         </td><td>...                       </td><td>0                         </td><td>0                         </td><td>   132                    </td><td>2019.95                   </td><td>2233.59                   </td><td>0.460                     </td><td>    96582460              </td><td>21005.32                  </td><td>0.6949837                 </td><td>503.6115                  </td></tr>\n",
       "\t<tr><td>5221551                   </td><td>Turvelândia               </td><td>GO                        </td><td>235                       </td><td>  0                       </td><td> 1                        </td><td>   0                      </td><td> 0                        </td><td>0                         </td><td>0                         </td><td>...                       </td><td>0                         </td><td>0                         </td><td>   335                    </td><td>2019.95                   </td><td>2233.59                   </td><td>0.460                     </td><td>   342460642              </td><td>64847.69                  </td><td>0.6949837                 </td><td>460.7534                  </td></tr>\n",
       "\t<tr><td>5221577                   </td><td>Uirapuru                  </td><td>GO                        </td><td>  1                       </td><td>  0                       </td><td> 0                        </td><td>   0                      </td><td> 0                        </td><td>0                         </td><td>0                         </td><td>...                       </td><td>0                         </td><td>0                         </td><td>    94                    </td><td>2019.95                   </td><td>2233.59                   </td><td>0.460                     </td><td>    47960170              </td><td>16804.54                  </td><td>0.6949837                 </td><td>469.4060                  </td></tr>\n",
       "\t<tr><td>5221601                   </td><td>Uruaçu                    </td><td>GO                        </td><td>  0                       </td><td>  0                       </td><td> 0                        </td><td>   0                      </td><td> 0                        </td><td>0                         </td><td>0                         </td><td>...                       </td><td>2                         </td><td>0                         </td><td>  2284                    </td><td>2019.95                   </td><td>2233.59                   </td><td>0.460                     </td><td>   939230412              </td><td>23172.57                  </td><td>0.6949837                 </td><td>502.0620                  </td></tr>\n",
       "\t<tr><td>5221700                   </td><td>Uruana                    </td><td>GO                        </td><td>  0                       </td><td>  0                       </td><td> 0                        </td><td>   0                      </td><td> 0                        </td><td>0                         </td><td>0                         </td><td>...                       </td><td>1                         </td><td>0                         </td><td>   267                    </td><td>2019.95                   </td><td>2233.59                   </td><td>0.460                     </td><td>   274893675              </td><td>19857.96                  </td><td>0.6949837                 </td><td>495.5428                  </td></tr>\n",
       "\t<tr><td>5221809                   </td><td>Urutaí                    </td><td>GO                        </td><td>  0                       </td><td>  0                       </td><td> 0                        </td><td>   0                      </td><td> 0                        </td><td>0                         </td><td>0                         </td><td>...                       </td><td>1                         </td><td>0                         </td><td>   281                    </td><td>2019.95                   </td><td>2233.59                   </td><td>0.460                     </td><td>    95894712              </td><td>31215.73                  </td><td>0.6949837                 </td><td>484.6525                  </td></tr>\n",
       "\t<tr><td>5221858                   </td><td>Valparaíso de Goiás       </td><td>GO                        </td><td>  0                       </td><td>  0                       </td><td> 0                        </td><td>1943                      </td><td> 0                        </td><td>0                         </td><td>0                         </td><td>...                       </td><td>9                         </td><td>0                         </td><td>  1954                    </td><td>2019.95                   </td><td>2233.59                   </td><td>0.460                     </td><td>  2717703530              </td><td>16131.87                  </td><td>0.6949837                 </td><td>491.5848                  </td></tr>\n",
       "\t<tr><td>5221908                   </td><td>Varjão                    </td><td>GO                        </td><td>  1                       </td><td>  0                       </td><td> 0                        </td><td>   0                      </td><td> 0                        </td><td>0                         </td><td>0                         </td><td>...                       </td><td>0                         </td><td>0                         </td><td>    48                    </td><td>2019.95                   </td><td>2233.59                   </td><td>0.460                     </td><td>    68052312              </td><td>17782.16                  </td><td>0.6949837                 </td><td>485.8250                  </td></tr>\n",
       "\t<tr><td>5222005                   </td><td>Vianópolis                </td><td>GO                        </td><td>  0                       </td><td>  0                       </td><td> 0                        </td><td>   0                      </td><td>74                        </td><td>0                         </td><td>0                         </td><td>...                       </td><td>0                         </td><td>0                         </td><td>   680                    </td><td>2019.95                   </td><td>2233.59                   </td><td>0.460                     </td><td>   483663323              </td><td>34888.79                  </td><td>0.6949837                 </td><td>500.6264                  </td></tr>\n",
       "\t<tr><td>5222054                   </td><td>Vicentinópolis            </td><td>GO                        </td><td>  0                       </td><td>  0                       </td><td> 0                        </td><td>   0                      </td><td> 0                        </td><td>0                         </td><td>0                         </td><td>...                       </td><td>2                         </td><td>0                         </td><td>   122                    </td><td>2019.95                   </td><td>2233.59                   </td><td>0.460                     </td><td>   342355634              </td><td>39157.68                  </td><td>0.6949837                 </td><td>477.4790                  </td></tr>\n",
       "\t<tr><td>5222203                   </td><td>Vila Boa                  </td><td>GO                        </td><td> 83                       </td><td>142                       </td><td> 0                        </td><td>   0                      </td><td> 0                        </td><td>0                         </td><td>0                         </td><td>...                       </td><td>1                         </td><td>0                         </td><td>   226                    </td><td>2019.95                   </td><td>2233.59                   </td><td>0.460                     </td><td>   113668466              </td><td>18419.78                  </td><td>0.6949837                 </td><td>456.4440                  </td></tr>\n",
       "\t<tr><td>5222302                   </td><td>Vila Propício             </td><td>GO                        </td><td>  0                       </td><td>  0                       </td><td> 0                        </td><td>   0                      </td><td> 0                        </td><td>0                         </td><td>0                         </td><td>...                       </td><td>0                         </td><td>0                         </td><td>     0                    </td><td>2019.95                   </td><td>2233.59                   </td><td>0.460                     </td><td>   206971225              </td><td>35555.96                  </td><td>0.6949837                 </td><td>468.6827                  </td></tr>\n",
       "\t<tr><td>5300108                   </td><td>Brasília                  </td><td>DF                        </td><td>  0                       </td><td>  0                       </td><td> 0                        </td><td>   0                      </td><td> 0                        </td><td>0                         </td><td>0                         </td><td>...                       </td><td>0                         </td><td>0                         </td><td>334356                    </td><td>3721.63                   </td><td>5136.48                   </td><td>0.554                     </td><td>273614000000              </td><td>90742.75                  </td><td>0.8240000                 </td><td>523.6479                  </td></tr>\n",
       "</tbody>\n",
       "</table>\n"
      ],
      "text/latex": [
       "\\begin{tabular}{r|llllllllllllllllllllllllll}\n",
       " cod\\_municipio\\_ibge & NO\\_MUNICIPIO\\_RESIDENCIA & UF & fibra\\_optica & wifi & ethernet & lte & vsatelite & wimax & plc\\_eletrico & ... & fr\\_frame\\_relay & mmds & densidade\\_total\\_internet\\_fixa & remuneracao\\_media & desvio\\_padrao & gini & pib & pib\\_p\\_capta & media\\_idhm & mean\\_grades\\_group\\_cities\\\\\n",
       "\\hline\n",
       "\t 1100015                  & Alta Floresta D'Oeste    & RO                       &  0                       &   0                      &  3                       &    0                     & 0                        & 0                        & 0                        & ...                      & 2                        & 0                        &   244                    & 2030.28                  & 5653.47                  & 0.472                    &   495628767              & 21600.73                 & 0.6440385                & 493.0098                \\\\\n",
       "\t 1100023                  & Ariquemes                & RO                       &  0                       &   0                      & 47                       &    0                     & 0                        & 0                        & 0                        & ...                      & 3                        & 0                        &    58                    & 2030.28                  & 5653.47                  & 0.472                    &  2578829725              & 23908.38                 & 0.6440385                & 491.6424                \\\\\n",
       "\t 1100031                  & Cabixi                   & RO                       &  3                       & 129                      &  2                       &    0                     & 3                        & 0                        & 0                        & ...                      & 0                        & 0                        &   212                    & 2030.28                  & 5653.47                  & 0.472                    &   139959390              & 26347.78                 & 0.6440385                & 479.7566                \\\\\n",
       "\t 1100049                  & Cacoal                   & RO                       &  0                       &   0                      &  0                       &    0                     & 0                        & 0                        & 0                        & ...                      & 6                        & 0                        &     6                    & 2030.28                  & 5653.47                  & 0.472                    &  2260643565              & 26483.95                 & 0.6440385                & 497.1760                \\\\\n",
       "\t 1100056                  & Cerejeiras               & RO                       &  0                       &   0                      &  0                       &    0                     & 0                        & 0                        & 0                        & ...                      & 4                        & 0                        &   648                    & 2030.28                  & 5653.47                  & 0.472                    &   506854457              & 31051.55                 & 0.6440385                & 493.3808                \\\\\n",
       "\t 1100064                  & Colorado do Oeste        & RO                       &  0                       & 618                      &  0                       &    0                     & 0                        & 0                        & 0                        & ...                      & 3                        & 0                        &  1145                    & 2030.28                  & 5653.47                  & 0.472                    &   334851274              & 21083.70                 & 0.6440385                & 495.0767                \\\\\n",
       "\t 1100072                  & Corumbiara               & RO                       &  5                       & 108                      &  3                       &    0                     & 0                        & 0                        & 0                        & ...                      & 0                        & 0                        &   272                    & 2030.28                  & 5653.47                  & 0.472                    &   349247369              & 47253.06                 & 0.6440385                & 481.5953                \\\\\n",
       "\t 1100080                  & Costa Marques            & RO                       &  0                       &   0                      &  0                       &    0                     & 0                        & 0                        & 0                        & ...                      & 1                        & 0                        &     1                    & 2030.28                  & 5653.47                  & 0.472                    &   238768544              & 13025.40                 & 0.6440385                & 461.0516                \\\\\n",
       "\t 1100098                  & Espigão D'Oeste          & RO                       &  0                       &   0                      &  5                       &    0                     & 4                        & 0                        & 0                        & ...                      & 1                        & 0                        &   564                    & 2030.28                  & 5653.47                  & 0.472                    &   624760162              & 19298.21                 & 0.6440385                & 494.1589                \\\\\n",
       "\t 1100106                  & Guajará-Mirim            & RO                       &  0                       &   0                      & 26                       &    0                     & 0                        & 0                        & 0                        & ...                      & 5                        & 0                        &  1912                    & 2030.28                  & 5653.47                  & 0.472                    &   892883182              & 19337.36                 & 0.6440385                & 465.0481                \\\\\n",
       "\t 1100114                  & Jaru                     & RO                       &  0                       &   0                      & 16                       &    0                     & 0                        & 0                        & 0                        & ...                      & 6                        & 0                        &  2755                    & 2030.28                  & 5653.47                  & 0.472                    &  1500889690              & 28988.70                 & 0.6440385                & 482.1583                \\\\\n",
       "\t 1100122                  & Ji-Paraná                & RO                       &  0                       &   0                      &  0                       &    0                     & 0                        & 0                        & 0                        & ...                      & 7                        & 0                        &     7                    & 2030.28                  & 5653.47                  & 0.472                    &  3782971683              & 29332.41                 & 0.6440385                & 491.1326                \\\\\n",
       "\t 1100130                  & Machadinho D'Oeste       & RO                       &  0                       &   0                      &  9                       &    0                     & 0                        & 0                        & 0                        & ...                      & 0                        & 0                        &   456                    & 2030.28                  & 5653.47                  & 0.472                    &   633006802              & 15828.73                 & 0.6440385                & 482.3651                \\\\\n",
       "\t 1100148                  & Nova Brasilândia D'Oeste & RO                       &  0                       &   0                      &  5                       &    0                     & 0                        & 0                        & 0                        & ...                      & 3                        & 0                        &   150                    & 2030.28                  & 5653.47                  & 0.472                    &   359524037              & 17560.03                 & 0.6440385                & 485.9443                \\\\\n",
       "\t 1100155                  & Ouro Preto do Oeste      & RO                       &  0                       &   0                      &  0                       &    0                     & 0                        & 0                        & 0                        & ...                      & 2                        & 0                        &  1623                    & 2030.28                  & 5653.47                  & 0.472                    &   834168267              & 23148.83                 & 0.6440385                & 486.2979                \\\\\n",
       "\t 1100189                  & Pimenta Bueno            & RO                       &  0                       &   0                      &  0                       &    0                     & 6                        & 0                        & 0                        & ...                      & 2                        & 0                        &   786                    & 2030.28                  & 5653.47                  & 0.472                    &  1163876976              & 31747.87                 & 0.6440385                & 487.5804                \\\\\n",
       "\t 1100205                  & Porto Velho              & RO                       &  0                       &   0                      &  0                       & 6073                     & 0                        & 0                        & 0                        & ...                      & 0                        & 0                        & 28781                    & 2030.28                  & 5653.47                  & 0.472                    & 17912070137              & 33825.46                 & 0.6440385                & 489.0845                \\\\\n",
       "\t 1100254                  & Presidente Médici        & RO                       &  0                       & 680                      &  0                       &    0                     & 0                        & 0                        & 0                        & ...                      & 3                        & 0                        &   683                    & 2030.28                  & 5653.47                  & 0.472                    &   427751732              & 22529.85                 & 0.6440385                & 486.4980                \\\\\n",
       "\t 1100262                  & Rio Crespo               & RO                       &  0                       &   0                      &  0                       &    0                     & 0                        & 0                        & 0                        & ...                      & 0                        & 0                        &   122                    & 2030.28                  & 5653.47                  & 0.472                    &   111023296              & 29496.09                 & 0.6440385                & 470.4229                \\\\\n",
       "\t 1100288                  & Rolim de Moura           & RO                       &  0                       &   0                      & 53                       &    0                     & 0                        & 0                        & 0                        & ...                      & 5                        & 0                        &   148                    & 2030.28                  & 5653.47                  & 0.472                    &  1283433654              & 23310.58                 & 0.6440385                & 489.3412                \\\\\n",
       "\t 1100296                  & Santa Luzia D'Oeste      & RO                       &  0                       &   0                      &  0                       &    0                     & 3                        & 0                        & 0                        & ...                      & 2                        & 0                        &   132                    & 2030.28                  & 5653.47                  & 0.472                    &   142611547              & 21957.13                 & 0.6440385                & 485.8844                \\\\\n",
       "\t 1100304                  & Vilhena                  & RO                       &  0                       &   0                      &  0                       &    0                     & 0                        & 0                        & 0                        & ...                      & 8                        & 0                        &  5014                    & 2030.28                  & 5653.47                  & 0.472                    &  2831175371              & 28353.15                 & 0.6440385                & 498.6196                \\\\\n",
       "\t 1100320                  & São Miguel do Guaporé    & RO                       &  0                       &   0                      &  6                       &    0                     & 0                        & 0                        & 0                        & ...                      & 0                        & 0                        &   163                    & 2030.28                  & 5653.47                  & 0.472                    &   615803842              & 26768.26                 & 0.6440385                & 478.2964                \\\\\n",
       "\t 1100338                  & Nova Mamoré              & RO                       &  0                       &   0                      &  0                       &    0                     & 0                        & 0                        & 0                        & ...                      & 0                        & 0                        &   827                    & 2030.28                  & 5653.47                  & 0.472                    &   529261253              & 17305.73                 & 0.6440385                & 463.4409                \\\\\n",
       "\t 1100346                  & Alvorada D'Oeste         & RO                       &  0                       &   0                      &  0                       &    0                     & 0                        & 0                        & 0                        & ...                      & 0                        & 0                        &     0                    & 2030.28                  & 5653.47                  & 0.472                    &   260347872              & 18065.91                 & 0.6440385                & 479.1831                \\\\\n",
       "\t 1100379                  & Alto Alegre dos Parecis  & RO                       & 95                       &   0                      &  4                       &    0                     & 6                        & 0                        & 0                        & ...                      & 0                        & 0                        &   204                    & 2030.28                  & 5653.47                  & 0.472                    &   288681169              & 21802.07                 & 0.6440385                & 478.2062                \\\\\n",
       "\t 1100403                  & Alto Paraíso             & RO                       &  0                       &   0                      &  0                       &    0                     & 0                        & 0                        & 0                        & ...                      & 0                        & 0                        &   421                    & 2030.28                  & 5653.47                  & 0.472                    &   358463741              & 16728.75                 & 0.6440385                & 479.7620                \\\\\n",
       "\t 1100452                  & Buritis                  & RO                       &  0                       &   0                      &  7                       &    0                     & 0                        & 0                        & 0                        & ...                      & 5                        & 0                        &   301                    & 2030.28                  & 5653.47                  & 0.472                    &   726030847              & 18309.15                 & 0.6440385                & 476.9779                \\\\\n",
       "\t 1100502                  & Novo Horizonte do Oeste  & RO                       &  0                       &   0                      &  2                       &    0                     & 0                        & 0                        & 0                        & ...                      & 0                        & 0                        &    97                    & 2030.28                  & 5653.47                  & 0.472                    &   165757502              & 19414.09                 & 0.6440385                & 487.3090                \\\\\n",
       "\t 1100601                  & Cacaulândia              & RO                       &  0                       &   0                      &  2                       &    0                     & 0                        & 0                        & 0                        & ...                      & 0                        & 0                        &    74                    & 2030.28                  & 5653.47                  & 0.472                    &   144436935              & 23184.10                 & 0.6440385                & 480.8049                \\\\\n",
       "\t ... & ... & ... & ... & ... & ... & ... & ... & ... & ... &     & ... & ... & ... & ... & ... & ... & ... & ... & ... & ...\\\\\n",
       "\t 5220108                    & São Luís de Montes Belos   & GO                         &   0                        &   0                        & 29                         &    0                       & 68                         & 0                          & 0                          & ...                        & 4                          & 0                          &   1649                     & 2019.95                    & 2233.59                    & 0.460                      &    964321370               & 28515.88                   & 0.6949837                  & 512.4756                  \\\\\n",
       "\t 5220157                    & São Luiz do Norte          & GO                         &   0                        &   0                        &  0                         &    3                       &  0                         & 0                          & 0                          & ...                        & 0                          & 0                          &     99                     & 2019.95                    & 2233.59                    & 0.460                      &    135880889               & 26297.83                   & 0.6949837                  & 484.6643                  \\\\\n",
       "\t 5220207                    & São Miguel do Araguaia     & GO                         & 619                        &   0                        &  0                         &    0                       &  0                         & 0                          & 0                          & ...                        & 0                          & 0                          &   1683                     & 2019.95                    & 2233.59                    & 0.460                      &    500933625               & 22776.96                   & 0.6949837                  & 491.7305                  \\\\\n",
       "\t 5220264                    & São Miguel do Passa Quatro & GO                         &   0                        &   0                        &  0                         &    0                       &  0                         & 0                          & 0                          & ...                        & 0                          & 0                          &     93                     & 2019.95                    & 2233.59                    & 0.460                      &    157383152               & 38792.99                   & 0.6949837                  & 478.1546                  \\\\\n",
       "\t 5220280                    & São Patrício               & GO                         &   1                        &   0                        &  5                         &    0                       &  0                         & 0                          & 0                          & ...                        & 0                          & 0                          &     62                     & 2019.95                    & 2233.59                    & 0.460                      &     39591700               & 19445.83                   & 0.6949837                  & 494.1028                  \\\\\n",
       "\t 5220405                    & São Simão                  & GO                         &   0                        &   0                        &  0                         &    0                       &  7                         & 0                          & 0                          & ...                        & 0                          & 0                          &      8                     & 2019.95                    & 2233.59                    & 0.460                      &   1165304835               & 56444.89                   & 0.6949837                  & 494.8447                  \\\\\n",
       "\t 5220454                    & Senador Canedo             & GO                         &   0                        &   0                        &  0                         & 1758                       &  0                         & 0                          & 0                          & ...                        & 0                          & 0                          &   1784                     & 2019.95                    & 2233.59                    & 0.460                      &   3754398549               & 32541.96                   & 0.6949837                  & 489.0998                  \\\\\n",
       "\t 5220504                    & Serranópolis               & GO                         &   0                        &   0                        &  3                         &    0                       &  9                         & 0                          & 0                          & ...                        & 3                          & 0                          &    236                     & 2019.95                    & 2233.59                    & 0.460                      &    431435561               & 50495.74                   & 0.6949837                  & 473.8228                  \\\\\n",
       "\t 5220603                    & Silvânia                   & GO                         &   0                        &   0                        &  0                         &    0                       &  0                         & 0                          & 0                          & ...                        & 0                          & 0                          &    861                     & 2019.95                    & 2233.59                    & 0.460                      &    754658782               & 36465.75                   & 0.6949837                  & 505.8454                  \\\\\n",
       "\t 5220686                    & Simolândia                 & GO                         &   0                        &   0                        &  0                         &    0                       &  0                         & 0                          & 0                          & ...                        & 0                          & 0                          &      0                     & 2019.95                    & 2233.59                    & 0.460                      &    109533437               & 15976.29                   & 0.6949837                  & 475.0776                  \\\\\n",
       "\t 5220702                    & Sítio d'Abadia             & GO                         &   1                        &   0                        &  0                         &    0                       &  0                         & 0                          & 0                          & ...                        & 0                          & 0                          &     14                     & 2019.95                    & 2233.59                    & 0.460                      &     54533165               & 18244.62                   & 0.6949837                  & 454.5305                  \\\\\n",
       "\t 5221007                    & Taquaral de Goiás          & GO                         &  91                        &   0                        &  0                         &    0                       &  0                         & 0                          & 0                          & ...                        & 0                          & 0                          &    282                     & 2019.95                    & 2233.59                    & 0.460                      &     71138251               & 20158.19                   & 0.6949837                  & 488.4120                  \\\\\n",
       "\t 5221080                    & Teresina de Goiás          & GO                         &   2                        &   0                        &  0                         &    0                       &  0                         & 0                          & 0                          & ...                        & 0                          & 0                          &    151                     & 2019.95                    & 2233.59                    & 0.460                      &     34895511               & 10091.24                   & 0.6949837                  & 443.3904                  \\\\\n",
       "\t 5221197                    & Terezópolis de Goiás       & GO                         &   2                        &   0                        &  0                         &    0                       &  0                         & 0                          & 0                          & ...                        & 0                          & 0                          &    321                     & 2019.95                    & 2233.59                    & 0.460                      &    187446126               & 23305.50                   & 0.6949837                  & 493.2459                  \\\\\n",
       "\t 5221304                    & Três Ranchos               & GO                         &   0                        &   0                        &  4                         &    0                       &  9                         & 0                          & 0                          & ...                        & 1                          & 0                          &     94                     & 2019.95                    & 2233.59                    & 0.460                      &     54078078               & 19088.63                   & 0.6949837                  & 507.7798                  \\\\\n",
       "\t 5221403                    & Trindade                   & GO                         &   0                        &   0                        &  0                         &  337                       &  0                         & 0                          & 0                          & ...                        & 2                          & 0                          &    339                     & 2019.95                    & 2233.59                    & 0.460                      &   2211794402               & 17333.95                   & 0.6949837                  & 493.6588                  \\\\\n",
       "\t 5221452                    & Trombas                    & GO                         &   0                        &   0                        &  1                         &    0                       &  0                         & 0                          & 0                          & ...                        & 0                          & 0                          &    325                     & 2019.95                    & 2233.59                    & 0.460                      &     51874603               & 14821.32                   & 0.6949837                  & 462.1172                  \\\\\n",
       "\t 5221502                    & Turvânia                   & GO                         &   0                        &   0                        &  0                         &    0                       &  0                         & 0                          & 0                          & ...                        & 0                          & 0                          &    132                     & 2019.95                    & 2233.59                    & 0.460                      &     96582460               & 21005.32                   & 0.6949837                  & 503.6115                  \\\\\n",
       "\t 5221551                    & Turvelândia                & GO                         & 235                        &   0                        &  1                         &    0                       &  0                         & 0                          & 0                          & ...                        & 0                          & 0                          &    335                     & 2019.95                    & 2233.59                    & 0.460                      &    342460642               & 64847.69                   & 0.6949837                  & 460.7534                  \\\\\n",
       "\t 5221577                    & Uirapuru                   & GO                         &   1                        &   0                        &  0                         &    0                       &  0                         & 0                          & 0                          & ...                        & 0                          & 0                          &     94                     & 2019.95                    & 2233.59                    & 0.460                      &     47960170               & 16804.54                   & 0.6949837                  & 469.4060                  \\\\\n",
       "\t 5221601                    & Uruaçu                     & GO                         &   0                        &   0                        &  0                         &    0                       &  0                         & 0                          & 0                          & ...                        & 2                          & 0                          &   2284                     & 2019.95                    & 2233.59                    & 0.460                      &    939230412               & 23172.57                   & 0.6949837                  & 502.0620                  \\\\\n",
       "\t 5221700                    & Uruana                     & GO                         &   0                        &   0                        &  0                         &    0                       &  0                         & 0                          & 0                          & ...                        & 1                          & 0                          &    267                     & 2019.95                    & 2233.59                    & 0.460                      &    274893675               & 19857.96                   & 0.6949837                  & 495.5428                  \\\\\n",
       "\t 5221809                    & Urutaí                     & GO                         &   0                        &   0                        &  0                         &    0                       &  0                         & 0                          & 0                          & ...                        & 1                          & 0                          &    281                     & 2019.95                    & 2233.59                    & 0.460                      &     95894712               & 31215.73                   & 0.6949837                  & 484.6525                  \\\\\n",
       "\t 5221858                    & Valparaíso de Goiás        & GO                         &   0                        &   0                        &  0                         & 1943                       &  0                         & 0                          & 0                          & ...                        & 9                          & 0                          &   1954                     & 2019.95                    & 2233.59                    & 0.460                      &   2717703530               & 16131.87                   & 0.6949837                  & 491.5848                  \\\\\n",
       "\t 5221908                    & Varjão                     & GO                         &   1                        &   0                        &  0                         &    0                       &  0                         & 0                          & 0                          & ...                        & 0                          & 0                          &     48                     & 2019.95                    & 2233.59                    & 0.460                      &     68052312               & 17782.16                   & 0.6949837                  & 485.8250                  \\\\\n",
       "\t 5222005                    & Vianópolis                 & GO                         &   0                        &   0                        &  0                         &    0                       & 74                         & 0                          & 0                          & ...                        & 0                          & 0                          &    680                     & 2019.95                    & 2233.59                    & 0.460                      &    483663323               & 34888.79                   & 0.6949837                  & 500.6264                  \\\\\n",
       "\t 5222054                    & Vicentinópolis             & GO                         &   0                        &   0                        &  0                         &    0                       &  0                         & 0                          & 0                          & ...                        & 2                          & 0                          &    122                     & 2019.95                    & 2233.59                    & 0.460                      &    342355634               & 39157.68                   & 0.6949837                  & 477.4790                  \\\\\n",
       "\t 5222203                    & Vila Boa                   & GO                         &  83                        & 142                        &  0                         &    0                       &  0                         & 0                          & 0                          & ...                        & 1                          & 0                          &    226                     & 2019.95                    & 2233.59                    & 0.460                      &    113668466               & 18419.78                   & 0.6949837                  & 456.4440                  \\\\\n",
       "\t 5222302                    & Vila Propício              & GO                         &   0                        &   0                        &  0                         &    0                       &  0                         & 0                          & 0                          & ...                        & 0                          & 0                          &      0                     & 2019.95                    & 2233.59                    & 0.460                      &    206971225               & 35555.96                   & 0.6949837                  & 468.6827                  \\\\\n",
       "\t 5300108                    & Brasília                   & DF                         &   0                        &   0                        &  0                         &    0                       &  0                         & 0                          & 0                          & ...                        & 0                          & 0                          & 334356                     & 3721.63                    & 5136.48                    & 0.554                      & 273614000000               & 90742.75                   & 0.8240000                  & 523.6479                  \\\\\n",
       "\\end{tabular}\n"
      ],
      "text/markdown": [
       "\n",
       "| cod_municipio_ibge | NO_MUNICIPIO_RESIDENCIA | UF | fibra_optica | wifi | ethernet | lte | vsatelite | wimax | plc_eletrico | ... | fr_frame_relay | mmds | densidade_total_internet_fixa | remuneracao_media | desvio_padrao | gini | pib | pib_p_capta | media_idhm | mean_grades_group_cities |\n",
       "|---|---|---|---|---|---|---|---|---|---|---|---|---|---|---|---|---|---|---|---|---|\n",
       "| 1100015                  | Alta Floresta D'Oeste    | RO                       |  0                       |   0                      |  3                       |    0                     | 0                        | 0                        | 0                        | ...                      | 2                        | 0                        |   244                    | 2030.28                  | 5653.47                  | 0.472                    |   495628767              | 21600.73                 | 0.6440385                | 493.0098                 |\n",
       "| 1100023                  | Ariquemes                | RO                       |  0                       |   0                      | 47                       |    0                     | 0                        | 0                        | 0                        | ...                      | 3                        | 0                        |    58                    | 2030.28                  | 5653.47                  | 0.472                    |  2578829725              | 23908.38                 | 0.6440385                | 491.6424                 |\n",
       "| 1100031                  | Cabixi                   | RO                       |  3                       | 129                      |  2                       |    0                     | 3                        | 0                        | 0                        | ...                      | 0                        | 0                        |   212                    | 2030.28                  | 5653.47                  | 0.472                    |   139959390              | 26347.78                 | 0.6440385                | 479.7566                 |\n",
       "| 1100049                  | Cacoal                   | RO                       |  0                       |   0                      |  0                       |    0                     | 0                        | 0                        | 0                        | ...                      | 6                        | 0                        |     6                    | 2030.28                  | 5653.47                  | 0.472                    |  2260643565              | 26483.95                 | 0.6440385                | 497.1760                 |\n",
       "| 1100056                  | Cerejeiras               | RO                       |  0                       |   0                      |  0                       |    0                     | 0                        | 0                        | 0                        | ...                      | 4                        | 0                        |   648                    | 2030.28                  | 5653.47                  | 0.472                    |   506854457              | 31051.55                 | 0.6440385                | 493.3808                 |\n",
       "| 1100064                  | Colorado do Oeste        | RO                       |  0                       | 618                      |  0                       |    0                     | 0                        | 0                        | 0                        | ...                      | 3                        | 0                        |  1145                    | 2030.28                  | 5653.47                  | 0.472                    |   334851274              | 21083.70                 | 0.6440385                | 495.0767                 |\n",
       "| 1100072                  | Corumbiara               | RO                       |  5                       | 108                      |  3                       |    0                     | 0                        | 0                        | 0                        | ...                      | 0                        | 0                        |   272                    | 2030.28                  | 5653.47                  | 0.472                    |   349247369              | 47253.06                 | 0.6440385                | 481.5953                 |\n",
       "| 1100080                  | Costa Marques            | RO                       |  0                       |   0                      |  0                       |    0                     | 0                        | 0                        | 0                        | ...                      | 1                        | 0                        |     1                    | 2030.28                  | 5653.47                  | 0.472                    |   238768544              | 13025.40                 | 0.6440385                | 461.0516                 |\n",
       "| 1100098                  | Espigão D'Oeste          | RO                       |  0                       |   0                      |  5                       |    0                     | 4                        | 0                        | 0                        | ...                      | 1                        | 0                        |   564                    | 2030.28                  | 5653.47                  | 0.472                    |   624760162              | 19298.21                 | 0.6440385                | 494.1589                 |\n",
       "| 1100106                  | Guajará-Mirim            | RO                       |  0                       |   0                      | 26                       |    0                     | 0                        | 0                        | 0                        | ...                      | 5                        | 0                        |  1912                    | 2030.28                  | 5653.47                  | 0.472                    |   892883182              | 19337.36                 | 0.6440385                | 465.0481                 |\n",
       "| 1100114                  | Jaru                     | RO                       |  0                       |   0                      | 16                       |    0                     | 0                        | 0                        | 0                        | ...                      | 6                        | 0                        |  2755                    | 2030.28                  | 5653.47                  | 0.472                    |  1500889690              | 28988.70                 | 0.6440385                | 482.1583                 |\n",
       "| 1100122                  | Ji-Paraná                | RO                       |  0                       |   0                      |  0                       |    0                     | 0                        | 0                        | 0                        | ...                      | 7                        | 0                        |     7                    | 2030.28                  | 5653.47                  | 0.472                    |  3782971683              | 29332.41                 | 0.6440385                | 491.1326                 |\n",
       "| 1100130                  | Machadinho D'Oeste       | RO                       |  0                       |   0                      |  9                       |    0                     | 0                        | 0                        | 0                        | ...                      | 0                        | 0                        |   456                    | 2030.28                  | 5653.47                  | 0.472                    |   633006802              | 15828.73                 | 0.6440385                | 482.3651                 |\n",
       "| 1100148                  | Nova Brasilândia D'Oeste | RO                       |  0                       |   0                      |  5                       |    0                     | 0                        | 0                        | 0                        | ...                      | 3                        | 0                        |   150                    | 2030.28                  | 5653.47                  | 0.472                    |   359524037              | 17560.03                 | 0.6440385                | 485.9443                 |\n",
       "| 1100155                  | Ouro Preto do Oeste      | RO                       |  0                       |   0                      |  0                       |    0                     | 0                        | 0                        | 0                        | ...                      | 2                        | 0                        |  1623                    | 2030.28                  | 5653.47                  | 0.472                    |   834168267              | 23148.83                 | 0.6440385                | 486.2979                 |\n",
       "| 1100189                  | Pimenta Bueno            | RO                       |  0                       |   0                      |  0                       |    0                     | 6                        | 0                        | 0                        | ...                      | 2                        | 0                        |   786                    | 2030.28                  | 5653.47                  | 0.472                    |  1163876976              | 31747.87                 | 0.6440385                | 487.5804                 |\n",
       "| 1100205                  | Porto Velho              | RO                       |  0                       |   0                      |  0                       | 6073                     | 0                        | 0                        | 0                        | ...                      | 0                        | 0                        | 28781                    | 2030.28                  | 5653.47                  | 0.472                    | 17912070137              | 33825.46                 | 0.6440385                | 489.0845                 |\n",
       "| 1100254                  | Presidente Médici        | RO                       |  0                       | 680                      |  0                       |    0                     | 0                        | 0                        | 0                        | ...                      | 3                        | 0                        |   683                    | 2030.28                  | 5653.47                  | 0.472                    |   427751732              | 22529.85                 | 0.6440385                | 486.4980                 |\n",
       "| 1100262                  | Rio Crespo               | RO                       |  0                       |   0                      |  0                       |    0                     | 0                        | 0                        | 0                        | ...                      | 0                        | 0                        |   122                    | 2030.28                  | 5653.47                  | 0.472                    |   111023296              | 29496.09                 | 0.6440385                | 470.4229                 |\n",
       "| 1100288                  | Rolim de Moura           | RO                       |  0                       |   0                      | 53                       |    0                     | 0                        | 0                        | 0                        | ...                      | 5                        | 0                        |   148                    | 2030.28                  | 5653.47                  | 0.472                    |  1283433654              | 23310.58                 | 0.6440385                | 489.3412                 |\n",
       "| 1100296                  | Santa Luzia D'Oeste      | RO                       |  0                       |   0                      |  0                       |    0                     | 3                        | 0                        | 0                        | ...                      | 2                        | 0                        |   132                    | 2030.28                  | 5653.47                  | 0.472                    |   142611547              | 21957.13                 | 0.6440385                | 485.8844                 |\n",
       "| 1100304                  | Vilhena                  | RO                       |  0                       |   0                      |  0                       |    0                     | 0                        | 0                        | 0                        | ...                      | 8                        | 0                        |  5014                    | 2030.28                  | 5653.47                  | 0.472                    |  2831175371              | 28353.15                 | 0.6440385                | 498.6196                 |\n",
       "| 1100320                  | São Miguel do Guaporé    | RO                       |  0                       |   0                      |  6                       |    0                     | 0                        | 0                        | 0                        | ...                      | 0                        | 0                        |   163                    | 2030.28                  | 5653.47                  | 0.472                    |   615803842              | 26768.26                 | 0.6440385                | 478.2964                 |\n",
       "| 1100338                  | Nova Mamoré              | RO                       |  0                       |   0                      |  0                       |    0                     | 0                        | 0                        | 0                        | ...                      | 0                        | 0                        |   827                    | 2030.28                  | 5653.47                  | 0.472                    |   529261253              | 17305.73                 | 0.6440385                | 463.4409                 |\n",
       "| 1100346                  | Alvorada D'Oeste         | RO                       |  0                       |   0                      |  0                       |    0                     | 0                        | 0                        | 0                        | ...                      | 0                        | 0                        |     0                    | 2030.28                  | 5653.47                  | 0.472                    |   260347872              | 18065.91                 | 0.6440385                | 479.1831                 |\n",
       "| 1100379                  | Alto Alegre dos Parecis  | RO                       | 95                       |   0                      |  4                       |    0                     | 6                        | 0                        | 0                        | ...                      | 0                        | 0                        |   204                    | 2030.28                  | 5653.47                  | 0.472                    |   288681169              | 21802.07                 | 0.6440385                | 478.2062                 |\n",
       "| 1100403                  | Alto Paraíso             | RO                       |  0                       |   0                      |  0                       |    0                     | 0                        | 0                        | 0                        | ...                      | 0                        | 0                        |   421                    | 2030.28                  | 5653.47                  | 0.472                    |   358463741              | 16728.75                 | 0.6440385                | 479.7620                 |\n",
       "| 1100452                  | Buritis                  | RO                       |  0                       |   0                      |  7                       |    0                     | 0                        | 0                        | 0                        | ...                      | 5                        | 0                        |   301                    | 2030.28                  | 5653.47                  | 0.472                    |   726030847              | 18309.15                 | 0.6440385                | 476.9779                 |\n",
       "| 1100502                  | Novo Horizonte do Oeste  | RO                       |  0                       |   0                      |  2                       |    0                     | 0                        | 0                        | 0                        | ...                      | 0                        | 0                        |    97                    | 2030.28                  | 5653.47                  | 0.472                    |   165757502              | 19414.09                 | 0.6440385                | 487.3090                 |\n",
       "| 1100601                  | Cacaulândia              | RO                       |  0                       |   0                      |  2                       |    0                     | 0                        | 0                        | 0                        | ...                      | 0                        | 0                        |    74                    | 2030.28                  | 5653.47                  | 0.472                    |   144436935              | 23184.10                 | 0.6440385                | 480.8049                 |\n",
       "| ... | ... | ... | ... | ... | ... | ... | ... | ... | ... |     | ... | ... | ... | ... | ... | ... | ... | ... | ... | ... |\n",
       "| 5220108                    | São Luís de Montes Belos   | GO                         |   0                        |   0                        | 29                         |    0                       | 68                         | 0                          | 0                          | ...                        | 4                          | 0                          |   1649                     | 2019.95                    | 2233.59                    | 0.460                      |    964321370               | 28515.88                   | 0.6949837                  | 512.4756                   |\n",
       "| 5220157                    | São Luiz do Norte          | GO                         |   0                        |   0                        |  0                         |    3                       |  0                         | 0                          | 0                          | ...                        | 0                          | 0                          |     99                     | 2019.95                    | 2233.59                    | 0.460                      |    135880889               | 26297.83                   | 0.6949837                  | 484.6643                   |\n",
       "| 5220207                    | São Miguel do Araguaia     | GO                         | 619                        |   0                        |  0                         |    0                       |  0                         | 0                          | 0                          | ...                        | 0                          | 0                          |   1683                     | 2019.95                    | 2233.59                    | 0.460                      |    500933625               | 22776.96                   | 0.6949837                  | 491.7305                   |\n",
       "| 5220264                    | São Miguel do Passa Quatro | GO                         |   0                        |   0                        |  0                         |    0                       |  0                         | 0                          | 0                          | ...                        | 0                          | 0                          |     93                     | 2019.95                    | 2233.59                    | 0.460                      |    157383152               | 38792.99                   | 0.6949837                  | 478.1546                   |\n",
       "| 5220280                    | São Patrício               | GO                         |   1                        |   0                        |  5                         |    0                       |  0                         | 0                          | 0                          | ...                        | 0                          | 0                          |     62                     | 2019.95                    | 2233.59                    | 0.460                      |     39591700               | 19445.83                   | 0.6949837                  | 494.1028                   |\n",
       "| 5220405                    | São Simão                  | GO                         |   0                        |   0                        |  0                         |    0                       |  7                         | 0                          | 0                          | ...                        | 0                          | 0                          |      8                     | 2019.95                    | 2233.59                    | 0.460                      |   1165304835               | 56444.89                   | 0.6949837                  | 494.8447                   |\n",
       "| 5220454                    | Senador Canedo             | GO                         |   0                        |   0                        |  0                         | 1758                       |  0                         | 0                          | 0                          | ...                        | 0                          | 0                          |   1784                     | 2019.95                    | 2233.59                    | 0.460                      |   3754398549               | 32541.96                   | 0.6949837                  | 489.0998                   |\n",
       "| 5220504                    | Serranópolis               | GO                         |   0                        |   0                        |  3                         |    0                       |  9                         | 0                          | 0                          | ...                        | 3                          | 0                          |    236                     | 2019.95                    | 2233.59                    | 0.460                      |    431435561               | 50495.74                   | 0.6949837                  | 473.8228                   |\n",
       "| 5220603                    | Silvânia                   | GO                         |   0                        |   0                        |  0                         |    0                       |  0                         | 0                          | 0                          | ...                        | 0                          | 0                          |    861                     | 2019.95                    | 2233.59                    | 0.460                      |    754658782               | 36465.75                   | 0.6949837                  | 505.8454                   |\n",
       "| 5220686                    | Simolândia                 | GO                         |   0                        |   0                        |  0                         |    0                       |  0                         | 0                          | 0                          | ...                        | 0                          | 0                          |      0                     | 2019.95                    | 2233.59                    | 0.460                      |    109533437               | 15976.29                   | 0.6949837                  | 475.0776                   |\n",
       "| 5220702                    | Sítio d'Abadia             | GO                         |   1                        |   0                        |  0                         |    0                       |  0                         | 0                          | 0                          | ...                        | 0                          | 0                          |     14                     | 2019.95                    | 2233.59                    | 0.460                      |     54533165               | 18244.62                   | 0.6949837                  | 454.5305                   |\n",
       "| 5221007                    | Taquaral de Goiás          | GO                         |  91                        |   0                        |  0                         |    0                       |  0                         | 0                          | 0                          | ...                        | 0                          | 0                          |    282                     | 2019.95                    | 2233.59                    | 0.460                      |     71138251               | 20158.19                   | 0.6949837                  | 488.4120                   |\n",
       "| 5221080                    | Teresina de Goiás          | GO                         |   2                        |   0                        |  0                         |    0                       |  0                         | 0                          | 0                          | ...                        | 0                          | 0                          |    151                     | 2019.95                    | 2233.59                    | 0.460                      |     34895511               | 10091.24                   | 0.6949837                  | 443.3904                   |\n",
       "| 5221197                    | Terezópolis de Goiás       | GO                         |   2                        |   0                        |  0                         |    0                       |  0                         | 0                          | 0                          | ...                        | 0                          | 0                          |    321                     | 2019.95                    | 2233.59                    | 0.460                      |    187446126               | 23305.50                   | 0.6949837                  | 493.2459                   |\n",
       "| 5221304                    | Três Ranchos               | GO                         |   0                        |   0                        |  4                         |    0                       |  9                         | 0                          | 0                          | ...                        | 1                          | 0                          |     94                     | 2019.95                    | 2233.59                    | 0.460                      |     54078078               | 19088.63                   | 0.6949837                  | 507.7798                   |\n",
       "| 5221403                    | Trindade                   | GO                         |   0                        |   0                        |  0                         |  337                       |  0                         | 0                          | 0                          | ...                        | 2                          | 0                          |    339                     | 2019.95                    | 2233.59                    | 0.460                      |   2211794402               | 17333.95                   | 0.6949837                  | 493.6588                   |\n",
       "| 5221452                    | Trombas                    | GO                         |   0                        |   0                        |  1                         |    0                       |  0                         | 0                          | 0                          | ...                        | 0                          | 0                          |    325                     | 2019.95                    | 2233.59                    | 0.460                      |     51874603               | 14821.32                   | 0.6949837                  | 462.1172                   |\n",
       "| 5221502                    | Turvânia                   | GO                         |   0                        |   0                        |  0                         |    0                       |  0                         | 0                          | 0                          | ...                        | 0                          | 0                          |    132                     | 2019.95                    | 2233.59                    | 0.460                      |     96582460               | 21005.32                   | 0.6949837                  | 503.6115                   |\n",
       "| 5221551                    | Turvelândia                | GO                         | 235                        |   0                        |  1                         |    0                       |  0                         | 0                          | 0                          | ...                        | 0                          | 0                          |    335                     | 2019.95                    | 2233.59                    | 0.460                      |    342460642               | 64847.69                   | 0.6949837                  | 460.7534                   |\n",
       "| 5221577                    | Uirapuru                   | GO                         |   1                        |   0                        |  0                         |    0                       |  0                         | 0                          | 0                          | ...                        | 0                          | 0                          |     94                     | 2019.95                    | 2233.59                    | 0.460                      |     47960170               | 16804.54                   | 0.6949837                  | 469.4060                   |\n",
       "| 5221601                    | Uruaçu                     | GO                         |   0                        |   0                        |  0                         |    0                       |  0                         | 0                          | 0                          | ...                        | 2                          | 0                          |   2284                     | 2019.95                    | 2233.59                    | 0.460                      |    939230412               | 23172.57                   | 0.6949837                  | 502.0620                   |\n",
       "| 5221700                    | Uruana                     | GO                         |   0                        |   0                        |  0                         |    0                       |  0                         | 0                          | 0                          | ...                        | 1                          | 0                          |    267                     | 2019.95                    | 2233.59                    | 0.460                      |    274893675               | 19857.96                   | 0.6949837                  | 495.5428                   |\n",
       "| 5221809                    | Urutaí                     | GO                         |   0                        |   0                        |  0                         |    0                       |  0                         | 0                          | 0                          | ...                        | 1                          | 0                          |    281                     | 2019.95                    | 2233.59                    | 0.460                      |     95894712               | 31215.73                   | 0.6949837                  | 484.6525                   |\n",
       "| 5221858                    | Valparaíso de Goiás        | GO                         |   0                        |   0                        |  0                         | 1943                       |  0                         | 0                          | 0                          | ...                        | 9                          | 0                          |   1954                     | 2019.95                    | 2233.59                    | 0.460                      |   2717703530               | 16131.87                   | 0.6949837                  | 491.5848                   |\n",
       "| 5221908                    | Varjão                     | GO                         |   1                        |   0                        |  0                         |    0                       |  0                         | 0                          | 0                          | ...                        | 0                          | 0                          |     48                     | 2019.95                    | 2233.59                    | 0.460                      |     68052312               | 17782.16                   | 0.6949837                  | 485.8250                   |\n",
       "| 5222005                    | Vianópolis                 | GO                         |   0                        |   0                        |  0                         |    0                       | 74                         | 0                          | 0                          | ...                        | 0                          | 0                          |    680                     | 2019.95                    | 2233.59                    | 0.460                      |    483663323               | 34888.79                   | 0.6949837                  | 500.6264                   |\n",
       "| 5222054                    | Vicentinópolis             | GO                         |   0                        |   0                        |  0                         |    0                       |  0                         | 0                          | 0                          | ...                        | 2                          | 0                          |    122                     | 2019.95                    | 2233.59                    | 0.460                      |    342355634               | 39157.68                   | 0.6949837                  | 477.4790                   |\n",
       "| 5222203                    | Vila Boa                   | GO                         |  83                        | 142                        |  0                         |    0                       |  0                         | 0                          | 0                          | ...                        | 1                          | 0                          |    226                     | 2019.95                    | 2233.59                    | 0.460                      |    113668466               | 18419.78                   | 0.6949837                  | 456.4440                   |\n",
       "| 5222302                    | Vila Propício              | GO                         |   0                        |   0                        |  0                         |    0                       |  0                         | 0                          | 0                          | ...                        | 0                          | 0                          |      0                     | 2019.95                    | 2233.59                    | 0.460                      |    206971225               | 35555.96                   | 0.6949837                  | 468.6827                   |\n",
       "| 5300108                    | Brasília                   | DF                         |   0                        |   0                        |  0                         |    0                       |  0                         | 0                          | 0                          | ...                        | 0                          | 0                          | 334356                     | 3721.63                    | 5136.48                    | 0.554                      | 273614000000               | 90742.75                   | 0.8240000                  | 523.6479                   |\n",
       "\n"
      ],
      "text/plain": [
       "     cod_municipio_ibge NO_MUNICIPIO_RESIDENCIA    UF  fibra_optica wifi\n",
       "1    1100015            Alta Floresta D'Oeste      RO   0             0 \n",
       "2    1100023            Ariquemes                  RO   0             0 \n",
       "3    1100031            Cabixi                     RO   3           129 \n",
       "4    1100049            Cacoal                     RO   0             0 \n",
       "5    1100056            Cerejeiras                 RO   0             0 \n",
       "6    1100064            Colorado do Oeste          RO   0           618 \n",
       "7    1100072            Corumbiara                 RO   5           108 \n",
       "8    1100080            Costa Marques              RO   0             0 \n",
       "9    1100098            Espigão D'Oeste            RO   0             0 \n",
       "10   1100106            Guajará-Mirim              RO   0             0 \n",
       "11   1100114            Jaru                       RO   0             0 \n",
       "12   1100122            Ji-Paraná                  RO   0             0 \n",
       "13   1100130            Machadinho D'Oeste         RO   0             0 \n",
       "14   1100148            Nova Brasilândia D'Oeste   RO   0             0 \n",
       "15   1100155            Ouro Preto do Oeste        RO   0             0 \n",
       "16   1100189            Pimenta Bueno              RO   0             0 \n",
       "17   1100205            Porto Velho                RO   0             0 \n",
       "18   1100254            Presidente Médici          RO   0           680 \n",
       "19   1100262            Rio Crespo                 RO   0             0 \n",
       "20   1100288            Rolim de Moura             RO   0             0 \n",
       "21   1100296            Santa Luzia D'Oeste        RO   0             0 \n",
       "22   1100304            Vilhena                    RO   0             0 \n",
       "23   1100320            São Miguel do Guaporé      RO   0             0 \n",
       "24   1100338            Nova Mamoré                RO   0             0 \n",
       "25   1100346            Alvorada D'Oeste           RO   0             0 \n",
       "26   1100379            Alto Alegre dos Parecis    RO  95             0 \n",
       "27   1100403            Alto Paraíso               RO   0             0 \n",
       "28   1100452            Buritis                    RO   0             0 \n",
       "29   1100502            Novo Horizonte do Oeste    RO   0             0 \n",
       "30   1100601            Cacaulândia                RO   0             0 \n",
       "...  ...                ...                        ... ...          ... \n",
       "5541 5220108            São Luís de Montes Belos   GO    0            0 \n",
       "5542 5220157            São Luiz do Norte          GO    0            0 \n",
       "5543 5220207            São Miguel do Araguaia     GO  619            0 \n",
       "5544 5220264            São Miguel do Passa Quatro GO    0            0 \n",
       "5545 5220280            São Patrício               GO    1            0 \n",
       "5546 5220405            São Simão                  GO    0            0 \n",
       "5547 5220454            Senador Canedo             GO    0            0 \n",
       "5548 5220504            Serranópolis               GO    0            0 \n",
       "5549 5220603            Silvânia                   GO    0            0 \n",
       "5550 5220686            Simolândia                 GO    0            0 \n",
       "5551 5220702            Sítio d'Abadia             GO    1            0 \n",
       "5552 5221007            Taquaral de Goiás          GO   91            0 \n",
       "5553 5221080            Teresina de Goiás          GO    2            0 \n",
       "5554 5221197            Terezópolis de Goiás       GO    2            0 \n",
       "5555 5221304            Três Ranchos               GO    0            0 \n",
       "5556 5221403            Trindade                   GO    0            0 \n",
       "5557 5221452            Trombas                    GO    0            0 \n",
       "5558 5221502            Turvânia                   GO    0            0 \n",
       "5559 5221551            Turvelândia                GO  235            0 \n",
       "5560 5221577            Uirapuru                   GO    1            0 \n",
       "5561 5221601            Uruaçu                     GO    0            0 \n",
       "5562 5221700            Uruana                     GO    0            0 \n",
       "5563 5221809            Urutaí                     GO    0            0 \n",
       "5564 5221858            Valparaíso de Goiás        GO    0            0 \n",
       "5565 5221908            Varjão                     GO    1            0 \n",
       "5566 5222005            Vianópolis                 GO    0            0 \n",
       "5567 5222054            Vicentinópolis             GO    0            0 \n",
       "5568 5222203            Vila Boa                   GO   83          142 \n",
       "5569 5222302            Vila Propício              GO    0            0 \n",
       "5570 5300108            Brasília                   DF    0            0 \n",
       "     ethernet lte  vsatelite wimax plc_eletrico ... fr_frame_relay mmds\n",
       "1     3          0 0         0     0            ... 2              0   \n",
       "2    47          0 0         0     0            ... 3              0   \n",
       "3     2          0 3         0     0            ... 0              0   \n",
       "4     0          0 0         0     0            ... 6              0   \n",
       "5     0          0 0         0     0            ... 4              0   \n",
       "6     0          0 0         0     0            ... 3              0   \n",
       "7     3          0 0         0     0            ... 0              0   \n",
       "8     0          0 0         0     0            ... 1              0   \n",
       "9     5          0 4         0     0            ... 1              0   \n",
       "10   26          0 0         0     0            ... 5              0   \n",
       "11   16          0 0         0     0            ... 6              0   \n",
       "12    0          0 0         0     0            ... 7              0   \n",
       "13    9          0 0         0     0            ... 0              0   \n",
       "14    5          0 0         0     0            ... 3              0   \n",
       "15    0          0 0         0     0            ... 2              0   \n",
       "16    0          0 6         0     0            ... 2              0   \n",
       "17    0       6073 0         0     0            ... 0              0   \n",
       "18    0          0 0         0     0            ... 3              0   \n",
       "19    0          0 0         0     0            ... 0              0   \n",
       "20   53          0 0         0     0            ... 5              0   \n",
       "21    0          0 3         0     0            ... 2              0   \n",
       "22    0          0 0         0     0            ... 8              0   \n",
       "23    6          0 0         0     0            ... 0              0   \n",
       "24    0          0 0         0     0            ... 0              0   \n",
       "25    0          0 0         0     0            ... 0              0   \n",
       "26    4          0 6         0     0            ... 0              0   \n",
       "27    0          0 0         0     0            ... 0              0   \n",
       "28    7          0 0         0     0            ... 5              0   \n",
       "29    2          0 0         0     0            ... 0              0   \n",
       "30    2          0 0         0     0            ... 0              0   \n",
       "...  ...      ...  ...       ...   ...              ...            ... \n",
       "5541 29          0 68        0     0            ... 4              0   \n",
       "5542  0          3  0        0     0            ... 0              0   \n",
       "5543  0          0  0        0     0            ... 0              0   \n",
       "5544  0          0  0        0     0            ... 0              0   \n",
       "5545  5          0  0        0     0            ... 0              0   \n",
       "5546  0          0  7        0     0            ... 0              0   \n",
       "5547  0       1758  0        0     0            ... 0              0   \n",
       "5548  3          0  9        0     0            ... 3              0   \n",
       "5549  0          0  0        0     0            ... 0              0   \n",
       "5550  0          0  0        0     0            ... 0              0   \n",
       "5551  0          0  0        0     0            ... 0              0   \n",
       "5552  0          0  0        0     0            ... 0              0   \n",
       "5553  0          0  0        0     0            ... 0              0   \n",
       "5554  0          0  0        0     0            ... 0              0   \n",
       "5555  4          0  9        0     0            ... 1              0   \n",
       "5556  0        337  0        0     0            ... 2              0   \n",
       "5557  1          0  0        0     0            ... 0              0   \n",
       "5558  0          0  0        0     0            ... 0              0   \n",
       "5559  1          0  0        0     0            ... 0              0   \n",
       "5560  0          0  0        0     0            ... 0              0   \n",
       "5561  0          0  0        0     0            ... 2              0   \n",
       "5562  0          0  0        0     0            ... 1              0   \n",
       "5563  0          0  0        0     0            ... 1              0   \n",
       "5564  0       1943  0        0     0            ... 9              0   \n",
       "5565  0          0  0        0     0            ... 0              0   \n",
       "5566  0          0 74        0     0            ... 0              0   \n",
       "5567  0          0  0        0     0            ... 2              0   \n",
       "5568  0          0  0        0     0            ... 1              0   \n",
       "5569  0          0  0        0     0            ... 0              0   \n",
       "5570  0          0  0        0     0            ... 0              0   \n",
       "     densidade_total_internet_fixa remuneracao_media desvio_padrao gini \n",
       "1      244                         2030.28           5653.47       0.472\n",
       "2       58                         2030.28           5653.47       0.472\n",
       "3      212                         2030.28           5653.47       0.472\n",
       "4        6                         2030.28           5653.47       0.472\n",
       "5      648                         2030.28           5653.47       0.472\n",
       "6     1145                         2030.28           5653.47       0.472\n",
       "7      272                         2030.28           5653.47       0.472\n",
       "8        1                         2030.28           5653.47       0.472\n",
       "9      564                         2030.28           5653.47       0.472\n",
       "10    1912                         2030.28           5653.47       0.472\n",
       "11    2755                         2030.28           5653.47       0.472\n",
       "12       7                         2030.28           5653.47       0.472\n",
       "13     456                         2030.28           5653.47       0.472\n",
       "14     150                         2030.28           5653.47       0.472\n",
       "15    1623                         2030.28           5653.47       0.472\n",
       "16     786                         2030.28           5653.47       0.472\n",
       "17   28781                         2030.28           5653.47       0.472\n",
       "18     683                         2030.28           5653.47       0.472\n",
       "19     122                         2030.28           5653.47       0.472\n",
       "20     148                         2030.28           5653.47       0.472\n",
       "21     132                         2030.28           5653.47       0.472\n",
       "22    5014                         2030.28           5653.47       0.472\n",
       "23     163                         2030.28           5653.47       0.472\n",
       "24     827                         2030.28           5653.47       0.472\n",
       "25       0                         2030.28           5653.47       0.472\n",
       "26     204                         2030.28           5653.47       0.472\n",
       "27     421                         2030.28           5653.47       0.472\n",
       "28     301                         2030.28           5653.47       0.472\n",
       "29      97                         2030.28           5653.47       0.472\n",
       "30      74                         2030.28           5653.47       0.472\n",
       "...  ...                           ...               ...           ...  \n",
       "5541   1649                        2019.95           2233.59       0.460\n",
       "5542     99                        2019.95           2233.59       0.460\n",
       "5543   1683                        2019.95           2233.59       0.460\n",
       "5544     93                        2019.95           2233.59       0.460\n",
       "5545     62                        2019.95           2233.59       0.460\n",
       "5546      8                        2019.95           2233.59       0.460\n",
       "5547   1784                        2019.95           2233.59       0.460\n",
       "5548    236                        2019.95           2233.59       0.460\n",
       "5549    861                        2019.95           2233.59       0.460\n",
       "5550      0                        2019.95           2233.59       0.460\n",
       "5551     14                        2019.95           2233.59       0.460\n",
       "5552    282                        2019.95           2233.59       0.460\n",
       "5553    151                        2019.95           2233.59       0.460\n",
       "5554    321                        2019.95           2233.59       0.460\n",
       "5555     94                        2019.95           2233.59       0.460\n",
       "5556    339                        2019.95           2233.59       0.460\n",
       "5557    325                        2019.95           2233.59       0.460\n",
       "5558    132                        2019.95           2233.59       0.460\n",
       "5559    335                        2019.95           2233.59       0.460\n",
       "5560     94                        2019.95           2233.59       0.460\n",
       "5561   2284                        2019.95           2233.59       0.460\n",
       "5562    267                        2019.95           2233.59       0.460\n",
       "5563    281                        2019.95           2233.59       0.460\n",
       "5564   1954                        2019.95           2233.59       0.460\n",
       "5565     48                        2019.95           2233.59       0.460\n",
       "5566    680                        2019.95           2233.59       0.460\n",
       "5567    122                        2019.95           2233.59       0.460\n",
       "5568    226                        2019.95           2233.59       0.460\n",
       "5569      0                        2019.95           2233.59       0.460\n",
       "5570 334356                        3721.63           5136.48       0.554\n",
       "     pib          pib_p_capta media_idhm mean_grades_group_cities\n",
       "1      495628767  21600.73    0.6440385  493.0098                \n",
       "2     2578829725  23908.38    0.6440385  491.6424                \n",
       "3      139959390  26347.78    0.6440385  479.7566                \n",
       "4     2260643565  26483.95    0.6440385  497.1760                \n",
       "5      506854457  31051.55    0.6440385  493.3808                \n",
       "6      334851274  21083.70    0.6440385  495.0767                \n",
       "7      349247369  47253.06    0.6440385  481.5953                \n",
       "8      238768544  13025.40    0.6440385  461.0516                \n",
       "9      624760162  19298.21    0.6440385  494.1589                \n",
       "10     892883182  19337.36    0.6440385  465.0481                \n",
       "11    1500889690  28988.70    0.6440385  482.1583                \n",
       "12    3782971683  29332.41    0.6440385  491.1326                \n",
       "13     633006802  15828.73    0.6440385  482.3651                \n",
       "14     359524037  17560.03    0.6440385  485.9443                \n",
       "15     834168267  23148.83    0.6440385  486.2979                \n",
       "16    1163876976  31747.87    0.6440385  487.5804                \n",
       "17   17912070137  33825.46    0.6440385  489.0845                \n",
       "18     427751732  22529.85    0.6440385  486.4980                \n",
       "19     111023296  29496.09    0.6440385  470.4229                \n",
       "20    1283433654  23310.58    0.6440385  489.3412                \n",
       "21     142611547  21957.13    0.6440385  485.8844                \n",
       "22    2831175371  28353.15    0.6440385  498.6196                \n",
       "23     615803842  26768.26    0.6440385  478.2964                \n",
       "24     529261253  17305.73    0.6440385  463.4409                \n",
       "25     260347872  18065.91    0.6440385  479.1831                \n",
       "26     288681169  21802.07    0.6440385  478.2062                \n",
       "27     358463741  16728.75    0.6440385  479.7620                \n",
       "28     726030847  18309.15    0.6440385  476.9779                \n",
       "29     165757502  19414.09    0.6440385  487.3090                \n",
       "30     144436935  23184.10    0.6440385  480.8049                \n",
       "...  ...          ...         ...        ...                     \n",
       "5541    964321370 28515.88    0.6949837  512.4756                \n",
       "5542    135880889 26297.83    0.6949837  484.6643                \n",
       "5543    500933625 22776.96    0.6949837  491.7305                \n",
       "5544    157383152 38792.99    0.6949837  478.1546                \n",
       "5545     39591700 19445.83    0.6949837  494.1028                \n",
       "5546   1165304835 56444.89    0.6949837  494.8447                \n",
       "5547   3754398549 32541.96    0.6949837  489.0998                \n",
       "5548    431435561 50495.74    0.6949837  473.8228                \n",
       "5549    754658782 36465.75    0.6949837  505.8454                \n",
       "5550    109533437 15976.29    0.6949837  475.0776                \n",
       "5551     54533165 18244.62    0.6949837  454.5305                \n",
       "5552     71138251 20158.19    0.6949837  488.4120                \n",
       "5553     34895511 10091.24    0.6949837  443.3904                \n",
       "5554    187446126 23305.50    0.6949837  493.2459                \n",
       "5555     54078078 19088.63    0.6949837  507.7798                \n",
       "5556   2211794402 17333.95    0.6949837  493.6588                \n",
       "5557     51874603 14821.32    0.6949837  462.1172                \n",
       "5558     96582460 21005.32    0.6949837  503.6115                \n",
       "5559    342460642 64847.69    0.6949837  460.7534                \n",
       "5560     47960170 16804.54    0.6949837  469.4060                \n",
       "5561    939230412 23172.57    0.6949837  502.0620                \n",
       "5562    274893675 19857.96    0.6949837  495.5428                \n",
       "5563     95894712 31215.73    0.6949837  484.6525                \n",
       "5564   2717703530 16131.87    0.6949837  491.5848                \n",
       "5565     68052312 17782.16    0.6949837  485.8250                \n",
       "5566    483663323 34888.79    0.6949837  500.6264                \n",
       "5567    342355634 39157.68    0.6949837  477.4790                \n",
       "5568    113668466 18419.78    0.6949837  456.4440                \n",
       "5569    206971225 35555.96    0.6949837  468.6827                \n",
       "5570 273614000000 90742.75    0.8240000  523.6479                "
      ]
     },
     "metadata": {},
     "output_type": "display_data"
    }
   ],
   "source": [
    "complete_data_with_totalnet"
   ]
  },
  {
   "cell_type": "markdown",
   "id": "a7ea0e2f",
   "metadata": {},
   "source": [
    "#### Estrutura dos Dados (Features e Label)"
   ]
  },
  {
   "cell_type": "code",
   "execution_count": 7,
   "id": "04b8f187",
   "metadata": {},
   "outputs": [
    {
     "name": "stdout",
     "output_type": "stream",
     "text": [
      "'data.frame':\t5570 obs. of  26 variables:\n",
      " $ cod_municipio_ibge           : int  1100015 1100023 1100031 1100049 1100056 1100064 1100072 1100080 1100098 1100106 ...\n",
      " $ NO_MUNICIPIO_RESIDENCIA      : Factor w/ 5299 levels \"Abadia de Goiás\",..: 128 367 780 814 1156 1247 1356 1361 1622 1898 ...\n",
      " $ UF                           : Factor w/ 27 levels \"AC\",\"AL\",\"AM\",..: 21 21 21 21 21 21 21 21 21 21 ...\n",
      " $ fibra_optica                 : num  0 0 3 0 0 0 5 0 0 0 ...\n",
      " $ wifi                         : num  0 0 129 0 0 618 108 0 0 0 ...\n",
      " $ ethernet                     : num  3 47 2 0 0 0 3 0 5 26 ...\n",
      " $ lte                          : num  0 0 0 0 0 0 0 0 0 0 ...\n",
      " $ vsatelite                    : num  0 0 3 0 0 0 0 0 4 0 ...\n",
      " $ wimax                        : num  0 0 0 0 0 0 0 0 0 0 ...\n",
      " $ plc_eletrico                 : num  0 0 0 0 0 0 0 0 0 0 ...\n",
      " $ xdsl                         : num  239 0 75 0 644 524 156 0 553 1880 ...\n",
      " $ cable_modem                  : num  0 0 0 0 0 0 0 0 0 0 ...\n",
      " $ fwa_5g_fixed                 : num  0 8 0 0 0 0 0 0 1 1 ...\n",
      " $ atm_backbone                 : num  0 0 0 0 0 0 0 0 0 0 ...\n",
      " $ dth_satelite                 : num  0 0 0 0 0 0 0 0 0 0 ...\n",
      " $ hfc_tv_cabo                  : num  0 0 0 0 0 0 0 0 0 0 ...\n",
      " $ fr_frame_relay               : num  2 3 0 6 4 3 0 1 1 5 ...\n",
      " $ mmds                         : num  0 0 0 0 0 0 0 0 0 0 ...\n",
      " $ densidade_total_internet_fixa: num  244 58 212 6 648 ...\n",
      " $ remuneracao_media            : num  2030 2030 2030 2030 2030 ...\n",
      " $ desvio_padrao                : num  5653 5653 5653 5653 5653 ...\n",
      " $ gini                         : num  0.472 0.472 0.472 0.472 0.472 0.472 0.472 0.472 0.472 0.472 ...\n",
      " $ pib                          : num  4.96e+08 2.58e+09 1.40e+08 2.26e+09 5.07e+08 ...\n",
      " $ pib_p_capta                  : num  21601 23908 26348 26484 31052 ...\n",
      " $ media_idhm                   : num  0.644 0.644 0.644 0.644 0.644 ...\n",
      " $ mean_grades_group_cities     : num  493 492 480 497 493 ...\n"
     ]
    }
   ],
   "source": [
    "str(complete_data_with_totalnet)"
   ]
  },
  {
   "cell_type": "markdown",
   "id": "4e407f7b",
   "metadata": {},
   "source": [
    "## Comportamento da variável \"alvo\" ou \"label\" ou \"y\" - mean_grades_group_cities\n",
    "### - Média das Notas do Enem por Município no Brasil - 2019"
   ]
  },
  {
   "cell_type": "markdown",
   "id": "37c3f532",
   "metadata": {},
   "source": [
    "##### Média Aritmética Geral para a média das notas de todos os municípios"
   ]
  },
  {
   "cell_type": "code",
   "execution_count": 8,
   "id": "4381e027",
   "metadata": {
    "scrolled": false
   },
   "outputs": [
    {
     "data": {
      "text/html": [
       "492.204"
      ],
      "text/latex": [
       "492.204"
      ],
      "text/markdown": [
       "492.204"
      ],
      "text/plain": [
       "[1] 492.204"
      ]
     },
     "metadata": {},
     "output_type": "display_data"
    }
   ],
   "source": [
    "round(mean(complete_data_with_totalnet$mean_grades_group_cities), digits = 3)"
   ]
  },
  {
   "cell_type": "markdown",
   "id": "d9066507",
   "metadata": {},
   "source": [
    "##### Desvio padrão para a média das notas de todos os municípios"
   ]
  },
  {
   "cell_type": "code",
   "execution_count": 9,
   "id": "4b2d6142",
   "metadata": {},
   "outputs": [
    {
     "data": {
      "text/html": [
       "24.698"
      ],
      "text/latex": [
       "24.698"
      ],
      "text/markdown": [
       "24.698"
      ],
      "text/plain": [
       "[1] 24.698"
      ]
     },
     "metadata": {},
     "output_type": "display_data"
    }
   ],
   "source": [
    "round(sd(complete_data_with_totalnet$mean_grades_group_cities), digits = 3)"
   ]
  },
  {
   "cell_type": "markdown",
   "id": "74ed7d1b",
   "metadata": {},
   "source": [
    "##### Valor Máximo da Média das Notas registradas em todos os muncípios:"
   ]
  },
  {
   "cell_type": "code",
   "execution_count": 10,
   "id": "b92f830e",
   "metadata": {},
   "outputs": [
    {
     "data": {
      "text/html": [
       "602.625"
      ],
      "text/latex": [
       "602.625"
      ],
      "text/markdown": [
       "602.625"
      ],
      "text/plain": [
       "[1] 602.625"
      ]
     },
     "metadata": {},
     "output_type": "display_data"
    }
   ],
   "source": [
    "max(complete_data_with_totalnet$mean_grades_group_cities)"
   ]
  },
  {
   "cell_type": "markdown",
   "id": "4d0ca136",
   "metadata": {},
   "source": [
    "##### Valor Mínimo da Média das Notas registradas em todos os municípios:"
   ]
  },
  {
   "cell_type": "code",
   "execution_count": 11,
   "id": "52af3bac",
   "metadata": {},
   "outputs": [
    {
     "data": {
      "text/html": [
       "422.91130952381"
      ],
      "text/latex": [
       "422.91130952381"
      ],
      "text/markdown": [
       "422.91130952381"
      ],
      "text/plain": [
       "[1] 422.9113"
      ]
     },
     "metadata": {},
     "output_type": "display_data"
    }
   ],
   "source": [
    "min(complete_data_with_totalnet$mean_grades_group_cities)"
   ]
  },
  {
   "cell_type": "markdown",
   "id": "bf9654f4",
   "metadata": {},
   "source": [
    "##### Município com a maior nota média do País no Enem de 2019:"
   ]
  },
  {
   "cell_type": "code",
   "execution_count": 12,
   "id": "7a92ea2c",
   "metadata": {},
   "outputs": [
    {
     "data": {
      "text/html": [
       "<table>\n",
       "<thead><tr><th scope=col>cod_municipio_ibge</th><th scope=col>NO_MUNICIPIO_RESIDENCIA</th><th scope=col>UF</th><th scope=col>fibra_optica</th><th scope=col>wifi</th><th scope=col>ethernet</th><th scope=col>lte</th><th scope=col>vsatelite</th><th scope=col>wimax</th><th scope=col>plc_eletrico</th><th scope=col>...</th><th scope=col>fr_frame_relay</th><th scope=col>mmds</th><th scope=col>densidade_total_internet_fixa</th><th scope=col>remuneracao_media</th><th scope=col>desvio_padrao</th><th scope=col>gini</th><th scope=col>pib</th><th scope=col>pib_p_capta</th><th scope=col>media_idhm</th><th scope=col>mean_grades_group_cities</th></tr></thead>\n",
       "<tbody>\n",
       "\t<tr><td>4323770  </td><td>Westfália</td><td>RS       </td><td>0        </td><td>0        </td><td>0        </td><td>0        </td><td>0        </td><td>0        </td><td>0        </td><td>...      </td><td>2        </td><td>0        </td><td>19       </td><td>2545.1   </td><td>3986.63  </td><td>0.482    </td><td>184658726</td><td>61267    </td><td>0.7135302</td><td>602.625  </td></tr>\n",
       "</tbody>\n",
       "</table>\n"
      ],
      "text/latex": [
       "\\begin{tabular}{r|llllllllllllllllllllllllll}\n",
       " cod\\_municipio\\_ibge & NO\\_MUNICIPIO\\_RESIDENCIA & UF & fibra\\_optica & wifi & ethernet & lte & vsatelite & wimax & plc\\_eletrico & ... & fr\\_frame\\_relay & mmds & densidade\\_total\\_internet\\_fixa & remuneracao\\_media & desvio\\_padrao & gini & pib & pib\\_p\\_capta & media\\_idhm & mean\\_grades\\_group\\_cities\\\\\n",
       "\\hline\n",
       "\t 4323770   & Westfália & RS        & 0         & 0         & 0         & 0         & 0         & 0         & 0         & ...       & 2         & 0         & 19        & 2545.1    & 3986.63   & 0.482     & 184658726 & 61267     & 0.7135302 & 602.625  \\\\\n",
       "\\end{tabular}\n"
      ],
      "text/markdown": [
       "\n",
       "| cod_municipio_ibge | NO_MUNICIPIO_RESIDENCIA | UF | fibra_optica | wifi | ethernet | lte | vsatelite | wimax | plc_eletrico | ... | fr_frame_relay | mmds | densidade_total_internet_fixa | remuneracao_media | desvio_padrao | gini | pib | pib_p_capta | media_idhm | mean_grades_group_cities |\n",
       "|---|---|---|---|---|---|---|---|---|---|---|---|---|---|---|---|---|---|---|---|---|\n",
       "| 4323770   | Westfália | RS        | 0         | 0         | 0         | 0         | 0         | 0         | 0         | ...       | 2         | 0         | 19        | 2545.1    | 3986.63   | 0.482     | 184658726 | 61267     | 0.7135302 | 602.625   |\n",
       "\n"
      ],
      "text/plain": [
       "  cod_municipio_ibge NO_MUNICIPIO_RESIDENCIA UF fibra_optica wifi ethernet lte\n",
       "1 4323770            Westfália               RS 0            0    0        0  \n",
       "  vsatelite wimax plc_eletrico ... fr_frame_relay mmds\n",
       "1 0         0     0            ... 2              0   \n",
       "  densidade_total_internet_fixa remuneracao_media desvio_padrao gini  pib      \n",
       "1 19                            2545.1            3986.63       0.482 184658726\n",
       "  pib_p_capta media_idhm mean_grades_group_cities\n",
       "1 61267       0.7135302  602.625                 "
      ]
     },
     "metadata": {},
     "output_type": "display_data"
    }
   ],
   "source": [
    "complete_data_with_totalnet %>%\n",
    "    filter(mean_grades_group_cities == 602.625)"
   ]
  },
  {
   "cell_type": "markdown",
   "id": "3591d02d",
   "metadata": {},
   "source": [
    "##### Município com a menor nota média do País no Enem de 2019:"
   ]
  },
  {
   "cell_type": "code",
   "execution_count": 13,
   "id": "465f73b2",
   "metadata": {},
   "outputs": [
    {
     "data": {
      "text/html": [
       "<table>\n",
       "<thead><tr><th scope=col>cod_municipio_ibge</th><th scope=col>NO_MUNICIPIO_RESIDENCIA</th><th scope=col>UF</th><th scope=col>fibra_optica</th><th scope=col>wifi</th><th scope=col>ethernet</th><th scope=col>lte</th><th scope=col>vsatelite</th><th scope=col>wimax</th><th scope=col>plc_eletrico</th><th scope=col>...</th><th scope=col>fr_frame_relay</th><th scope=col>mmds</th><th scope=col>densidade_total_internet_fixa</th><th scope=col>remuneracao_media</th><th scope=col>desvio_padrao</th><th scope=col>gini</th><th scope=col>pib</th><th scope=col>pib_p_capta</th><th scope=col>media_idhm</th><th scope=col>mean_grades_group_cities</th></tr></thead>\n",
       "<tbody>\n",
       "\t<tr><td>2920452  </td><td>Mansidão </td><td>BA       </td><td>7        </td><td>0        </td><td>3        </td><td>0        </td><td>0        </td><td>0        </td><td>0        </td><td>...      </td><td>0        </td><td>0        </td><td>20       </td><td>1351.29  </td><td>2193.03  </td><td>0.557    </td><td>86613155 </td><td>6348.54  </td><td>0.5939041</td><td>422.9113 </td></tr>\n",
       "</tbody>\n",
       "</table>\n"
      ],
      "text/latex": [
       "\\begin{tabular}{r|llllllllllllllllllllllllll}\n",
       " cod\\_municipio\\_ibge & NO\\_MUNICIPIO\\_RESIDENCIA & UF & fibra\\_optica & wifi & ethernet & lte & vsatelite & wimax & plc\\_eletrico & ... & fr\\_frame\\_relay & mmds & densidade\\_total\\_internet\\_fixa & remuneracao\\_media & desvio\\_padrao & gini & pib & pib\\_p\\_capta & media\\_idhm & mean\\_grades\\_group\\_cities\\\\\n",
       "\\hline\n",
       "\t 2920452   & Mansidão  & BA        & 7         & 0         & 3         & 0         & 0         & 0         & 0         & ...       & 0         & 0         & 20        & 1351.29   & 2193.03   & 0.557     & 86613155  & 6348.54   & 0.5939041 & 422.9113 \\\\\n",
       "\\end{tabular}\n"
      ],
      "text/markdown": [
       "\n",
       "| cod_municipio_ibge | NO_MUNICIPIO_RESIDENCIA | UF | fibra_optica | wifi | ethernet | lte | vsatelite | wimax | plc_eletrico | ... | fr_frame_relay | mmds | densidade_total_internet_fixa | remuneracao_media | desvio_padrao | gini | pib | pib_p_capta | media_idhm | mean_grades_group_cities |\n",
       "|---|---|---|---|---|---|---|---|---|---|---|---|---|---|---|---|---|---|---|---|---|\n",
       "| 2920452   | Mansidão  | BA        | 7         | 0         | 3         | 0         | 0         | 0         | 0         | ...       | 0         | 0         | 20        | 1351.29   | 2193.03   | 0.557     | 86613155  | 6348.54   | 0.5939041 | 422.9113  |\n",
       "\n"
      ],
      "text/plain": [
       "  cod_municipio_ibge NO_MUNICIPIO_RESIDENCIA UF fibra_optica wifi ethernet lte\n",
       "1 2920452            Mansidão                BA 7            0    3        0  \n",
       "  vsatelite wimax plc_eletrico ... fr_frame_relay mmds\n",
       "1 0         0     0            ... 0              0   \n",
       "  densidade_total_internet_fixa remuneracao_media desvio_padrao gini  pib     \n",
       "1 20                            1351.29           2193.03       0.557 86613155\n",
       "  pib_p_capta media_idhm mean_grades_group_cities\n",
       "1 6348.54     0.5939041  422.9113                "
      ]
     },
     "metadata": {},
     "output_type": "display_data"
    }
   ],
   "source": [
    "complete_data_with_totalnet %>%\n",
    "    filter(mean_grades_group_cities == 422.91130952381)"
   ]
  },
  {
   "cell_type": "markdown",
   "id": "207a8694",
   "metadata": {},
   "source": [
    "##### Análise da distribuição da variável alvo:"
   ]
  },
  {
   "cell_type": "markdown",
   "id": "47152a19",
   "metadata": {},
   "source": [
    "##### Histograma:"
   ]
  },
  {
   "cell_type": "code",
   "execution_count": 14,
   "id": "6d82dc0e",
   "metadata": {
    "scrolled": false
   },
   "outputs": [
    {
     "name": "stderr",
     "output_type": "stream",
     "text": [
      "`stat_bin()` using `bins = 30`. Pick better value with `binwidth`.\n"
     ]
    },
    {
     "data": {
      "image/png": "[encoded data removed]",
      "text/plain": [
       "plot without title"
      ]
     },
     "metadata": {},
     "output_type": "display_data"
    }
   ],
   "source": [
    "ggplot(data = complete_data_with_totalnet) + aes(mean_grades_group_cities) + geom_histogram() +\n",
    "    xlab(\"Notas médias\") + ylab(\"Ocorrências\") + \n",
    "    ggtitle(\"Distribuição da média das Notas do Enem nos Municípios do Brasil em 2019\") + theme_classic()"
   ]
  },
  {
   "cell_type": "markdown",
   "id": "da5560b0",
   "metadata": {},
   "source": [
    "#### Análise de Assimetria - Skewness"
   ]
  },
  {
   "cell_type": "code",
   "execution_count": 15,
   "id": "3da406be",
   "metadata": {},
   "outputs": [
    {
     "data": {
      "text/html": [
       "0.155"
      ],
      "text/latex": [
       "0.155"
      ],
      "text/markdown": [
       "0.155"
      ],
      "text/plain": [
       "[1] 0.155"
      ]
     },
     "metadata": {},
     "output_type": "display_data"
    }
   ],
   "source": [
    "library(e1071)\n",
    "round(skewness(x = complete_data_with_totalnet$mean_grades_group_cities),digits = 3)"
   ]
  },
  {
   "cell_type": "markdown",
   "id": "904ffde3",
   "metadata": {},
   "source": [
    "#### Teste de Aderência à Normalidade - Shapiro-Francia"
   ]
  },
  {
   "cell_type": "code",
   "execution_count": 16,
   "id": "b4a56268",
   "metadata": {},
   "outputs": [],
   "source": [
    "library(nortest)"
   ]
  },
  {
   "cell_type": "code",
   "execution_count": 17,
   "id": "abb4d7fc",
   "metadata": {},
   "outputs": [
    {
     "data": {
      "text/plain": [
       "\n",
       "\tShapiro-Francia normality test\n",
       "\n",
       "data:  complete_data_with_totalnet$mean_grades_group_cities[1:5000]\n",
       "W = 0.98841, p-value < 2.2e-16\n"
      ]
     },
     "metadata": {},
     "output_type": "display_data"
    }
   ],
   "source": [
    "sf.test(complete_data_with_totalnet$mean_grades_group_cities[1:5000])"
   ]
  },
  {
   "cell_type": "markdown",
   "id": "e9445486",
   "metadata": {},
   "source": [
    "###### Apesar do histograma da variável da média de notas 'mean_grades_group_cities' apresentar um comportamento centralizado com mean = 492.204 e desvio padrão = 24.698 e com o índice de skewness (simetria) em torno de 0.155 (indicação de considerável assimetria), o teste de aderência a normalidade (Shapiro-Francia) NÃO FALHOU pela rejeição da hipótese nula H0, indicando possível não aderência à distribuição normal dos dados das médias das notas do Enem 2019, possivelmente afastando o comportamento que 68.2% das notas médias do enem estariam distribuídos em + / - 24.698 pontos do valor da média (492.204) "
   ]
  },
  {
   "cell_type": "markdown",
   "id": "536f63cb",
   "metadata": {},
   "source": [
    "#### Box Plot dos dados das Notas do Enem:"
   ]
  },
  {
   "cell_type": "code",
   "execution_count": 18,
   "id": "d6b0a38b",
   "metadata": {},
   "outputs": [
    {
     "data": {
      "image/png": "[encoded data removed]",
      "text/plain": [
       "plot without title"
      ]
     },
     "metadata": {},
     "output_type": "display_data"
    }
   ],
   "source": [
    "ggplot(data = complete_data_with_totalnet) + aes(y=mean_grades_group_cities) + geom_boxplot() +\n",
    "    xlab(\"Notas Enem\") + ylab(\"Média de Notas do Enem para todos os municípios\") + \n",
    "    ggtitle(\"BoxPlot da média das Notas do Enem - Brasil em 2019\") "
   ]
  },
  {
   "cell_type": "markdown",
   "id": "0838933d",
   "metadata": {},
   "source": [
    "##### No diagrama de BoxPlot acima, com todos os municípios e UFs unificados numa única plotagem,  confere-se a distribuição da média das notas do Enem-2019 nos municípios concentrados em maior quantidade entre o primeiro e terceiro quartil { 1Q : 472.9 e 3Q : 511.1) respectivamente. Assim o range \"R\" entre estas duas referências (25% - 75%) da distribuição será de  (Q3-Q1)= 38.2 . Com a média das notas nos municípios variando entre o mínimo de 492.91 ao máximo de 602.625,  o boxplot unificado pode induzir a uma desinteressante dedução de baixa desigualdade entre as médias das notas no Enem.  \n",
    "\n",
    "#### Qual será o efeito plástico induzido aos nossos olhares na construção de um box-plot de notas agrupados pelas Unidades Federativas ? "
   ]
  },
  {
   "cell_type": "code",
   "execution_count": 19,
   "id": "72ad0eb1",
   "metadata": {},
   "outputs": [
    {
     "data": {
      "image/png": "[encoded data removed]",
      "text/plain": [
       "plot without title"
      ]
     },
     "metadata": {},
     "output_type": "display_data"
    }
   ],
   "source": [
    "ggplot(data = complete_data_with_totalnet) + aes(x = UF, y=mean_grades_group_cities) + geom_boxplot() +\n",
    "    xlab(\"Unidades Federativas\") + ylab(\"Média de Notas do Enem por UF\") + \n",
    "    ggtitle(\"BoxPlot da média das Notas do Enem - UFs em 2019\") + theme_dark()"
   ]
  },
  {
   "cell_type": "markdown",
   "id": "5f62f4fe",
   "metadata": {},
   "source": [
    "##### Agora no segundo box-plot, da percepção sobre a existência da desigualdade entre as médias das notas do Enem agrupados pelos Entes Federativos,  poderá aflorescer tal desconfiança sob o plástico desnível apresentado entre as caixinhas acima. Para a UF de São Paulo a caixa branca (Q1-Q3)  se sobrepõe sob a linha vertical correspondente a média das notas em 550. Logo ao lado, a UF de Tocantis, tem seu corpo \"Q1-Q3\" com os valores médios das notas situados entre 450 e 475 pontos. A impressão visual da desigualdade da média entre as UFs está construída.  Agora resta algumas veridicções sob o aspecto da significância estatística para a diferença das médias entre as UFs."
   ]
  },
  {
   "cell_type": "markdown",
   "id": "edfe9a98",
   "metadata": {},
   "source": [
    "### Teste Estatístico \"T\"  para a averiguação da Diferença das médias das Notas do Enem entre UFs:\n",
    "##### Considerando as médias amostrais para as UFs de São Paulo (SP) e Tocantis(TO)"
   ]
  },
  {
   "cell_type": "code",
   "execution_count": 20,
   "id": "c0905142",
   "metadata": {},
   "outputs": [],
   "source": [
    "# Selecionando a media das avaliações para todos os municipios das UFS: SP e TO\n",
    "grades_sp = complete_data_with_totalnet %>%\n",
    "                filter(UF == \"SP\") %>%\n",
    "                select(mean_grades_group_cities) %>%\n",
    "                data.frame()\n",
    "grades_to = complete_data_with_totalnet %>%\n",
    "                filter(UF == \"TO\") %>%\n",
    "                select(mean_grades_group_cities) %>%\n",
    "                data.frame()"
   ]
  },
  {
   "cell_type": "code",
   "execution_count": 21,
   "id": "725727e0",
   "metadata": {},
   "outputs": [
    {
     "data": {
      "text/plain": [
       "\n",
       "\tWelch Two Sample t-test\n",
       "\n",
       "data:  sample(grades_sp$mean_grades_group_cities, size = 139) and grades_to$mean_grades_group_cities\n",
       "t = 29.979, df = 258.83, p-value < 2.2e-16\n",
       "alternative hypothesis: true difference in means is not equal to 0\n",
       "95 percent confidence interval:\n",
       " 52.72170 60.13458\n",
       "sample estimates:\n",
       "mean of x mean of y \n",
       " 517.8561  461.4279 \n"
      ]
     },
     "metadata": {},
     "output_type": "display_data"
    }
   ],
   "source": [
    "t.test(x = sample(grades_sp$mean_grades_group_cities, size = 139), y = grades_to$mean_grades_group_cities)"
   ]
  },
  {
   "cell_type": "markdown",
   "id": "18cd053b",
   "metadata": {},
   "source": [
    "###### Acima, o resultado do teste T para amostras das médias das notas do Enem para as UFs de SP e TO indica uma medida estatisticamente significativa pela rejeição da hipótese nula.  Rejeita-se a hipótese de igualdade das médias aritméticas, reforçando a percepção de desigualdades da média das notas do Enem conforme o BoxPlot por UFs."
   ]
  },
  {
   "cell_type": "markdown",
   "id": "5e6e00a1",
   "metadata": {},
   "source": [
    "## Análise  Espacial das Notas do Enem no Território Brasileiro"
   ]
  },
  {
   "cell_type": "markdown",
   "id": "38da77c2",
   "metadata": {},
   "source": [
    "Com o uso de arquivos do tipo \"Shape Files\" coletados na base de dados públicos do IBGE, foi desenvolvido código em linguagem R (04_processed_shape_municipios.R) para o processameno dos dados espaciais. Os dados das notas médias do Enem foram agregados aos dados espaciais (shape_files) resultando na geração do respectivo mapa de localidades e Notas Médias do Enem:  "
   ]
  },
  {
   "cell_type": "markdown",
   "id": "cfe48c75",
   "metadata": {},
   "source": [
    "#### Mapa de Notas do Enem 2019 (referência aos valores médios por municípios no Brasil)\n",
    "![image](data/shape_maps/04_shape_map_enem.jpeg)"
   ]
  },
  {
   "cell_type": "markdown",
   "id": "be745bf6",
   "metadata": {},
   "source": [
    "No mapa acima tem-se a representação visual da média de notas do Enem 2019 para os municípios do Brasil. Conforme a indicação do histograma e legenda de suporte ao mapa de notas confere-se maior concentração de municípios com valores da média das Notas do Enem mais elevados nas regiões sudeste e sul do Brasil. \n"
   ]
  },
  {
   "cell_type": "markdown",
   "id": "c5396c25",
   "metadata": {},
   "source": [
    "## Comportamento da variável - Densidade da Internet fixa por municípios:"
   ]
  },
  {
   "cell_type": "markdown",
   "id": "a63411fa",
   "metadata": {},
   "source": [
    "#### Média Aritmética da densidade de todos os municípios"
   ]
  },
  {
   "cell_type": "code",
   "execution_count": 23,
   "id": "1dfdc970",
   "metadata": {},
   "outputs": [
    {
     "data": {
      "text/html": [
       "1373.061"
      ],
      "text/latex": [
       "1373.061"
      ],
      "text/markdown": [
       "1373.061"
      ],
      "text/plain": [
       "[1] 1373.061"
      ]
     },
     "metadata": {},
     "output_type": "display_data"
    }
   ],
   "source": [
    "round(mean(x = complete_data_with_totalnet$densidade_total_internet_fixa), digits = 3)"
   ]
  },
  {
   "cell_type": "markdown",
   "id": "74adcfb2",
   "metadata": {},
   "source": [
    "#### Desvio Padrão da densidade da internet em todos os municípios"
   ]
  },
  {
   "cell_type": "code",
   "execution_count": 24,
   "id": "df1f44f2",
   "metadata": {},
   "outputs": [
    {
     "data": {
      "text/html": [
       "10378.164"
      ],
      "text/latex": [
       "10378.164"
      ],
      "text/markdown": [
       "10378.164"
      ],
      "text/plain": [
       "[1] 10378.16"
      ]
     },
     "metadata": {},
     "output_type": "display_data"
    }
   ],
   "source": [
    "round(x = sd(complete_data_with_totalnet$densidade_total_internet_fixa), digits = 3)"
   ]
  },
  {
   "cell_type": "markdown",
   "id": "3cc0f7ef",
   "metadata": {},
   "source": [
    "#### Valor máximo da densidade da internet no Brasil em nível Municipal"
   ]
  },
  {
   "cell_type": "code",
   "execution_count": 25,
   "id": "0389d949",
   "metadata": {},
   "outputs": [
    {
     "data": {
      "text/html": [
       "438397"
      ],
      "text/latex": [
       "438397"
      ],
      "text/markdown": [
       "438397"
      ],
      "text/plain": [
       "[1] 438397"
      ]
     },
     "metadata": {},
     "output_type": "display_data"
    }
   ],
   "source": [
    "round(x = max(complete_data_with_totalnet$densidade_total_internet_fixa), digits = 3)"
   ]
  },
  {
   "cell_type": "markdown",
   "id": "283b45d1",
   "metadata": {},
   "source": [
    "#### Valor mínimo da densidade da internet no Brasil em nível Municipal"
   ]
  },
  {
   "cell_type": "code",
   "execution_count": 26,
   "id": "bd425ad0",
   "metadata": {},
   "outputs": [
    {
     "data": {
      "text/html": [
       "0"
      ],
      "text/latex": [
       "0"
      ],
      "text/markdown": [
       "0"
      ],
      "text/plain": [
       "[1] 0"
      ]
     },
     "metadata": {},
     "output_type": "display_data"
    }
   ],
   "source": [
    "round(x = min(complete_data_with_totalnet$densidade_total_internet_fixa), digits = 3)"
   ]
  },
  {
   "cell_type": "markdown",
   "id": "320d2a10",
   "metadata": {},
   "source": [
    "#### Município com a maior densidade de acesso a internet do Brasil em 2019"
   ]
  },
  {
   "cell_type": "code",
   "execution_count": 27,
   "id": "9944f7dd",
   "metadata": {},
   "outputs": [
    {
     "data": {
      "text/html": [
       "<table>\n",
       "<thead><tr><th scope=col>cod_municipio_ibge</th><th scope=col>NO_MUNICIPIO_RESIDENCIA</th><th scope=col>UF</th><th scope=col>fibra_optica</th><th scope=col>wifi</th><th scope=col>ethernet</th><th scope=col>lte</th><th scope=col>vsatelite</th><th scope=col>wimax</th><th scope=col>plc_eletrico</th><th scope=col>...</th><th scope=col>fr_frame_relay</th><th scope=col>mmds</th><th scope=col>densidade_total_internet_fixa</th><th scope=col>remuneracao_media</th><th scope=col>desvio_padrao</th><th scope=col>gini</th><th scope=col>pib</th><th scope=col>pib_p_capta</th><th scope=col>media_idhm</th><th scope=col>mean_grades_group_cities</th></tr></thead>\n",
       "<tbody>\n",
       "\t<tr><td>3106200       </td><td>Belo Horizonte</td><td>MG            </td><td>0             </td><td>0             </td><td>0             </td><td>5006          </td><td>0             </td><td>0             </td><td>0             </td><td>...           </td><td>0             </td><td>0             </td><td>438397        </td><td>1918.43       </td><td>3207.83       </td><td>0.487         </td><td>97205324544   </td><td>38695.31      </td><td>0.6678781     </td><td>550.2264      </td></tr>\n",
       "</tbody>\n",
       "</table>\n"
      ],
      "text/latex": [
       "\\begin{tabular}{r|llllllllllllllllllllllllll}\n",
       " cod\\_municipio\\_ibge & NO\\_MUNICIPIO\\_RESIDENCIA & UF & fibra\\_optica & wifi & ethernet & lte & vsatelite & wimax & plc\\_eletrico & ... & fr\\_frame\\_relay & mmds & densidade\\_total\\_internet\\_fixa & remuneracao\\_media & desvio\\_padrao & gini & pib & pib\\_p\\_capta & media\\_idhm & mean\\_grades\\_group\\_cities\\\\\n",
       "\\hline\n",
       "\t 3106200        & Belo Horizonte & MG             & 0              & 0              & 0              & 5006           & 0              & 0              & 0              & ...            & 0              & 0              & 438397         & 1918.43        & 3207.83        & 0.487          & 97205324544    & 38695.31       & 0.6678781      & 550.2264      \\\\\n",
       "\\end{tabular}\n"
      ],
      "text/markdown": [
       "\n",
       "| cod_municipio_ibge | NO_MUNICIPIO_RESIDENCIA | UF | fibra_optica | wifi | ethernet | lte | vsatelite | wimax | plc_eletrico | ... | fr_frame_relay | mmds | densidade_total_internet_fixa | remuneracao_media | desvio_padrao | gini | pib | pib_p_capta | media_idhm | mean_grades_group_cities |\n",
       "|---|---|---|---|---|---|---|---|---|---|---|---|---|---|---|---|---|---|---|---|---|\n",
       "| 3106200        | Belo Horizonte | MG             | 0              | 0              | 0              | 5006           | 0              | 0              | 0              | ...            | 0              | 0              | 438397         | 1918.43        | 3207.83        | 0.487          | 97205324544    | 38695.31       | 0.6678781      | 550.2264       |\n",
       "\n"
      ],
      "text/plain": [
       "  cod_municipio_ibge NO_MUNICIPIO_RESIDENCIA UF fibra_optica wifi ethernet lte \n",
       "1 3106200            Belo Horizonte          MG 0            0    0        5006\n",
       "  vsatelite wimax plc_eletrico ... fr_frame_relay mmds\n",
       "1 0         0     0            ... 0              0   \n",
       "  densidade_total_internet_fixa remuneracao_media desvio_padrao gini \n",
       "1 438397                        1918.43           3207.83       0.487\n",
       "  pib         pib_p_capta media_idhm mean_grades_group_cities\n",
       "1 97205324544 38695.31    0.6678781  550.2264                "
      ]
     },
     "metadata": {},
     "output_type": "display_data"
    }
   ],
   "source": [
    "complete_data_with_totalnet %>%\n",
    "    filter(densidade_total_internet_fixa == 438397)"
   ]
  },
  {
   "cell_type": "markdown",
   "id": "ce79bc97",
   "metadata": {},
   "source": [
    "#### Municípios com a menor densidade de acesso a internet do Brasil em 2019"
   ]
  },
  {
   "cell_type": "code",
   "execution_count": 28,
   "id": "b639ac49",
   "metadata": {
    "scrolled": true
   },
   "outputs": [
    {
     "data": {
      "text/html": [
       "<table>\n",
       "<thead><tr><th scope=col>cod_municipio_ibge</th><th scope=col>NO_MUNICIPIO_RESIDENCIA</th><th scope=col>UF</th><th scope=col>fibra_optica</th><th scope=col>wifi</th><th scope=col>ethernet</th><th scope=col>lte</th><th scope=col>vsatelite</th><th scope=col>wimax</th><th scope=col>plc_eletrico</th><th scope=col>...</th><th scope=col>fr_frame_relay</th><th scope=col>mmds</th><th scope=col>densidade_total_internet_fixa</th><th scope=col>remuneracao_media</th><th scope=col>desvio_padrao</th><th scope=col>gini</th><th scope=col>pib</th><th scope=col>pib_p_capta</th><th scope=col>media_idhm</th><th scope=col>mean_grades_group_cities</th></tr></thead>\n",
       "<tbody>\n",
       "\t<tr><td>1100346                 </td><td>Alvorada D'Oeste        </td><td>RO                      </td><td>0                       </td><td>0                       </td><td>0                       </td><td>0                       </td><td>0                       </td><td>0                       </td><td>0                       </td><td>...                     </td><td>0                       </td><td>0                       </td><td>0                       </td><td>2030.28                 </td><td>5653.47                 </td><td>0.472                   </td><td> 260347872              </td><td>18065.91                </td><td>0.6440385               </td><td>479.1831                </td></tr>\n",
       "\t<tr><td>1200054                 </td><td>Assis Brasil            </td><td>AC                      </td><td>0                       </td><td>0                       </td><td>0                       </td><td>0                       </td><td>0                       </td><td>0                       </td><td>0                       </td><td>...                     </td><td>0                       </td><td>0                       </td><td>0                       </td><td>1855.13                 </td><td>2515.53                 </td><td>0.559                   </td><td>  93054149              </td><td>12546.06                </td><td>0.5860909               </td><td>472.3420                </td></tr>\n",
       "\t<tr><td>1300904                 </td><td>Canutama                </td><td>AM                      </td><td>0                       </td><td>0                       </td><td>0                       </td><td>0                       </td><td>0                       </td><td>0                       </td><td>0                       </td><td>...                     </td><td>0                       </td><td>0                       </td><td>0                       </td><td>1515.28                 </td><td>2190.77                 </td><td>0.566                   </td><td> 125866946              </td><td> 8053.42                </td><td>0.5651129               </td><td>459.1896                </td></tr>\n",
       "\t<tr><td>1301951                 </td><td>Itamarati               </td><td>AM                      </td><td>0                       </td><td>0                       </td><td>0                       </td><td>0                       </td><td>0                       </td><td>0                       </td><td>0                       </td><td>...                     </td><td>0                       </td><td>0                       </td><td>0                       </td><td>1515.28                 </td><td>2190.77                 </td><td>0.566                   </td><td> 102297688              </td><td>13029.89                </td><td>0.5651129               </td><td>443.5782                </td></tr>\n",
       "\t<tr><td>1302702                 </td><td>Manicoré                </td><td>AM                      </td><td>0                       </td><td>0                       </td><td>0                       </td><td>0                       </td><td>0                       </td><td>0                       </td><td>0                       </td><td>...                     </td><td>0                       </td><td>0                       </td><td>0                       </td><td>1515.28                 </td><td>2190.77                 </td><td>0.566                   </td><td> 543050642              </td><td> 9740.64                </td><td>0.5651129               </td><td>458.9114                </td></tr>\n",
       "\t<tr><td>1500347                 </td><td>Água Azul do Norte      </td><td>PA                      </td><td>0                       </td><td>0                       </td><td>0                       </td><td>0                       </td><td>0                       </td><td>0                       </td><td>0                       </td><td>...                     </td><td>0                       </td><td>0                       </td><td>0                       </td><td>1505.31                 </td><td>2204.90                 </td><td>0.528                   </td><td> 434587607              </td><td>15843.51                </td><td>0.5815455               </td><td>460.2354                </td></tr>\n",
       "\t<tr><td>1500701                 </td><td>Anajás                  </td><td>PA                      </td><td>0                       </td><td>0                       </td><td>0                       </td><td>0                       </td><td>0                       </td><td>0                       </td><td>0                       </td><td>...                     </td><td>0                       </td><td>0                       </td><td>0                       </td><td>1505.31                 </td><td>2204.90                 </td><td>0.528                   </td><td> 214508437              </td><td> 7326.86                </td><td>0.5815455               </td><td>451.5909                </td></tr>\n",
       "\t<tr><td>1500909                 </td><td>Augusto Corrêa          </td><td>PA                      </td><td>0                       </td><td>0                       </td><td>0                       </td><td>0                       </td><td>0                       </td><td>0                       </td><td>0                       </td><td>...                     </td><td>0                       </td><td>0                       </td><td>0                       </td><td>1505.31                 </td><td>2204.90                 </td><td>0.528                   </td><td> 326462848              </td><td> 7097.33                </td><td>0.5815455               </td><td>462.4356                </td></tr>\n",
       "\t<tr><td>1501451                 </td><td>Belterra                </td><td>PA                      </td><td>0                       </td><td>0                       </td><td>0                       </td><td>0                       </td><td>0                       </td><td>0                       </td><td>0                       </td><td>...                     </td><td>0                       </td><td>0                       </td><td>0                       </td><td>1505.31                 </td><td>2204.90                 </td><td>0.528                   </td><td> 164294669              </td><td> 9265.43                </td><td>0.5815455               </td><td>463.6934                </td></tr>\n",
       "\t<tr><td>1501758                 </td><td>Brejo Grande do Araguaia</td><td>PA                      </td><td>0                       </td><td>0                       </td><td>0                       </td><td>0                       </td><td>0                       </td><td>0                       </td><td>0                       </td><td>...                     </td><td>0                       </td><td>0                       </td><td>0                       </td><td>1505.31                 </td><td>2204.90                 </td><td>0.528                   </td><td>  81834987              </td><td>11088.75                </td><td>0.5815455               </td><td>464.8467                </td></tr>\n",
       "\t<tr><td>1502202                 </td><td>Capanema                </td><td>PA                      </td><td>0                       </td><td>0                       </td><td>0                       </td><td>0                       </td><td>0                       </td><td>0                       </td><td>0                       </td><td>...                     </td><td>0                       </td><td>0                       </td><td>0                       </td><td>1505.31                 </td><td>2204.90                 </td><td>0.528                   </td><td>1107441415              </td><td>16043.60                </td><td>0.5815455               </td><td>479.5127                </td></tr>\n",
       "\t<tr><td>1502400                 </td><td>Castanhal               </td><td>PA                      </td><td>0                       </td><td>0                       </td><td>0                       </td><td>0                       </td><td>0                       </td><td>0                       </td><td>0                       </td><td>...                     </td><td>0                       </td><td>0                       </td><td>0                       </td><td>1505.31                 </td><td>2204.90                 </td><td>0.528                   </td><td>4040634536              </td><td>20123.38                </td><td>0.5815455               </td><td>498.0752                </td></tr>\n",
       "\t<tr><td>1503101                 </td><td>Gurupá                  </td><td>PA                      </td><td>0                       </td><td>0                       </td><td>0                       </td><td>0                       </td><td>0                       </td><td>0                       </td><td>0                       </td><td>...                     </td><td>0                       </td><td>0                       </td><td>0                       </td><td>1505.31                 </td><td>2204.90                 </td><td>0.528                   </td><td> 271949984              </td><td> 8148.07                </td><td>0.5815455               </td><td>453.2399                </td></tr>\n",
       "\t<tr><td>1504455                 </td><td>Medicilândia            </td><td>PA                      </td><td>0                       </td><td>0                       </td><td>0                       </td><td>0                       </td><td>0                       </td><td>0                       </td><td>0                       </td><td>...                     </td><td>0                       </td><td>0                       </td><td>0                       </td><td>1505.31                 </td><td>2204.90                 </td><td>0.528                   </td><td> 655466351              </td><td>20744.58                </td><td>0.5815455               </td><td>462.6091                </td></tr>\n",
       "\t<tr><td>1504505                 </td><td>Melgaço                 </td><td>PA                      </td><td>0                       </td><td>0                       </td><td>0                       </td><td>0                       </td><td>0                       </td><td>0                       </td><td>0                       </td><td>...                     </td><td>0                       </td><td>0                       </td><td>0                       </td><td>1505.31                 </td><td>2204.90                 </td><td>0.528                   </td><td> 181090856              </td><td> 6548.45                </td><td>0.5815455               </td><td>444.0623                </td></tr>\n",
       "\t<tr><td>1504604                 </td><td>Mocajuba                </td><td>PA                      </td><td>0                       </td><td>0                       </td><td>0                       </td><td>0                       </td><td>0                       </td><td>0                       </td><td>0                       </td><td>...                     </td><td>0                       </td><td>0                       </td><td>0                       </td><td>1505.31                 </td><td>2204.90                 </td><td>0.528                   </td><td> 380344334              </td><td>12215.58                </td><td>0.5815455               </td><td>454.2591                </td></tr>\n",
       "\t<tr><td>1506401                 </td><td>Santa Cruz do Arari     </td><td>PA                      </td><td>0                       </td><td>0                       </td><td>0                       </td><td>0                       </td><td>0                       </td><td>0                       </td><td>0                       </td><td>...                     </td><td>0                       </td><td>0                       </td><td>0                       </td><td>1505.31                 </td><td>2204.90                 </td><td>0.528                   </td><td>  71848062              </td><td> 7094.00                </td><td>0.5815455               </td><td>442.4246                </td></tr>\n",
       "\t<tr><td>1507904                 </td><td>Soure                   </td><td>PA                      </td><td>0                       </td><td>0                       </td><td>0                       </td><td>0                       </td><td>0                       </td><td>0                       </td><td>0                       </td><td>...                     </td><td>0                       </td><td>0                       </td><td>0                       </td><td>1505.31                 </td><td>2204.90                 </td><td>0.528                   </td><td> 197890278              </td><td> 7798.94                </td><td>0.5815455               </td><td>457.5847                </td></tr>\n",
       "\t<tr><td>1703305                 </td><td>Bom Jesus do Tocantins  </td><td>TO                      </td><td>0                       </td><td>0                       </td><td>0                       </td><td>0                       </td><td>0                       </td><td>0                       </td><td>0                       </td><td>...                     </td><td>0                       </td><td>0                       </td><td>0                       </td><td>1864.70                 </td><td>2582.44                 </td><td>0.530                   </td><td> 123267495              </td><td>25187.47                </td><td>0.6399281               </td><td>458.3156                </td></tr>\n",
       "\t<tr><td>1712157                 </td><td>Lavandeira              </td><td>TO                      </td><td>0                       </td><td>0                       </td><td>0                       </td><td>0                       </td><td>0                       </td><td>0                       </td><td>0                       </td><td>...                     </td><td>0                       </td><td>0                       </td><td>0                       </td><td>1864.70                 </td><td>2582.44                 </td><td>0.530                   </td><td>  25746275              </td><td>13388.60                </td><td>0.6399281               </td><td>444.7646                </td></tr>\n",
       "\t<tr><td>1712405                 </td><td>Lizarda                 </td><td>TO                      </td><td>0                       </td><td>0                       </td><td>0                       </td><td>0                       </td><td>0                       </td><td>0                       </td><td>0                       </td><td>...                     </td><td>0                       </td><td>0                       </td><td>0                       </td><td>1864.70                 </td><td>2582.44                 </td><td>0.530                   </td><td>  38788723              </td><td>10371.32                </td><td>0.6399281               </td><td>444.6220                </td></tr>\n",
       "\t<tr><td>2106672                 </td><td>Milagres do Maranhão    </td><td>MA                      </td><td>0                       </td><td>0                       </td><td>0                       </td><td>0                       </td><td>0                       </td><td>0                       </td><td>0                       </td><td>...                     </td><td>0                       </td><td>0                       </td><td>0                       </td><td>1185.82                 </td><td>1577.32                 </td><td>0.531                   </td><td>  49939069              </td><td> 5900.17                </td><td>0.5761843               </td><td>443.0631                </td></tr>\n",
       "\t<tr><td>2201960                 </td><td>Brasileira              </td><td>PI                      </td><td>0                       </td><td>0                       </td><td>0                       </td><td>0                       </td><td>0                       </td><td>0                       </td><td>0                       </td><td>...                     </td><td>0                       </td><td>0                       </td><td>0                       </td><td>1365.61                 </td><td>2146.47                 </td><td>0.537                   </td><td>  58931990              </td><td> 7075.52                </td><td>0.5710491               </td><td>471.9965                </td></tr>\n",
       "\t<tr><td>2202307                 </td><td>Canto do Buriti         </td><td>PI                      </td><td>0                       </td><td>0                       </td><td>0                       </td><td>0                       </td><td>0                       </td><td>0                       </td><td>0                       </td><td>...                     </td><td>0                       </td><td>0                       </td><td>0                       </td><td>1365.61                 </td><td>2146.47                 </td><td>0.537                   </td><td> 234604636              </td><td>11073.05                </td><td>0.5710491               </td><td>471.4274                </td></tr>\n",
       "\t<tr><td>2202604                 </td><td>Castelo do Piauí        </td><td>PI                      </td><td>0                       </td><td>0                       </td><td>0                       </td><td>0                       </td><td>0                       </td><td>0                       </td><td>0                       </td><td>...                     </td><td>0                       </td><td>0                       </td><td>0                       </td><td>1365.61                 </td><td>2146.47                 </td><td>0.537                   </td><td> 178487361              </td><td> 9052.92                </td><td>0.5710491               </td><td>485.7684                </td></tr>\n",
       "\t<tr><td>2204501                 </td><td>Guadalupe               </td><td>PI                      </td><td>0                       </td><td>0                       </td><td>0                       </td><td>0                       </td><td>0                       </td><td>0                       </td><td>0                       </td><td>...                     </td><td>0                       </td><td>0                       </td><td>0                       </td><td>1365.61                 </td><td>2146.47                 </td><td>0.537                   </td><td> 584566731              </td><td>55678.32                </td><td>0.5710491               </td><td>467.9876                </td></tr>\n",
       "\t<tr><td>2204709                 </td><td>Inhuma                  </td><td>PI                      </td><td>0                       </td><td>0                       </td><td>0                       </td><td>0                       </td><td>0                       </td><td>0                       </td><td>0                       </td><td>...                     </td><td>0                       </td><td>0                       </td><td>0                       </td><td>1365.61                 </td><td>2146.47                 </td><td>0.537                   </td><td> 142382819              </td><td> 9301.20                </td><td>0.5710491               </td><td>475.2491                </td></tr>\n",
       "\t<tr><td>2207751                 </td><td>Passagem Franca do Piauí</td><td>PI                      </td><td>0                       </td><td>0                       </td><td>0                       </td><td>0                       </td><td>0                       </td><td>0                       </td><td>0                       </td><td>...                     </td><td>0                       </td><td>0                       </td><td>0                       </td><td>1365.61                 </td><td>2146.47                 </td><td>0.537                   </td><td>  38291160              </td><td> 8878.08                </td><td>0.5710491               </td><td>450.7649                </td></tr>\n",
       "\t<tr><td>2210607                 </td><td>São Raimundo Nonato     </td><td>PI                      </td><td>0                       </td><td>0                       </td><td>0                       </td><td>0                       </td><td>0                       </td><td>0                       </td><td>0                       </td><td>...                     </td><td>0                       </td><td>0                       </td><td>0                       </td><td>1365.61                 </td><td>2146.47                 </td><td>0.537                   </td><td> 493884337              </td><td>14228.88                </td><td>0.5710491               </td><td>465.1320                </td></tr>\n",
       "\t<tr><td>2302602                 </td><td>Camocim                 </td><td>CE                      </td><td>0                       </td><td>0                       </td><td>0                       </td><td>0                       </td><td>0                       </td><td>0                       </td><td>0                       </td><td>...                     </td><td>0                       </td><td>0                       </td><td>0                       </td><td>1397.92                 </td><td>2774.44                 </td><td>0.562                   </td><td> 719803851              </td><td>11306.83                </td><td>0.6166304               </td><td>494.9859                </td></tr>\n",
       "\t<tr><td>...</td><td>...</td><td>...</td><td>...</td><td>...</td><td>...</td><td>...</td><td>...</td><td>...</td><td>...</td><td>   </td><td>...</td><td>...</td><td>...</td><td>...</td><td>...</td><td>...</td><td>...</td><td>...</td><td>...</td><td>...</td></tr>\n",
       "\t<tr><td>4204301                  </td><td>Concórdia                </td><td>SC                       </td><td>0                        </td><td>0                        </td><td>0                        </td><td>0                        </td><td>0                        </td><td>0                        </td><td>0                        </td><td>...                      </td><td>0                        </td><td>0                        </td><td>0                        </td><td>2473.50                  </td><td>2847.81                  </td><td>0.421                    </td><td>3722642427               </td><td>49873.96                 </td><td>0.7316485                </td><td>531.5377                 </td></tr>\n",
       "\t<tr><td>4204707                  </td><td>Cunha Porã               </td><td>SC                       </td><td>0                        </td><td>0                        </td><td>0                        </td><td>0                        </td><td>0                        </td><td>0                        </td><td>0                        </td><td>...                      </td><td>0                        </td><td>0                        </td><td>0                        </td><td>2473.50                  </td><td>2847.81                  </td><td>0.421                    </td><td> 596670591               </td><td>53821.99                 </td><td>0.7316485                </td><td>518.2748                 </td></tr>\n",
       "\t<tr><td>4207106                  </td><td>Ilhota                   </td><td>SC                       </td><td>0                        </td><td>0                        </td><td>0                        </td><td>0                        </td><td>0                        </td><td>0                        </td><td>0                        </td><td>...                      </td><td>0                        </td><td>0                        </td><td>0                        </td><td>2473.50                  </td><td>2847.81                  </td><td>0.421                    </td><td> 724129935               </td><td>51052.59                 </td><td>0.7316485                </td><td>510.7695                 </td></tr>\n",
       "\t<tr><td>4207502                  </td><td>Indaial                  </td><td>SC                       </td><td>0                        </td><td>0                        </td><td>0                        </td><td>0                        </td><td>0                        </td><td>0                        </td><td>0                        </td><td>...                      </td><td>0                        </td><td>0                        </td><td>0                        </td><td>2473.50                  </td><td>2847.81                  </td><td>0.421                    </td><td>2976158918               </td><td>42868.69                 </td><td>0.7316485                </td><td>521.7197                 </td></tr>\n",
       "\t<tr><td>4212650                  </td><td>Pescaria Brava           </td><td>SC                       </td><td>0                        </td><td>0                        </td><td>0                        </td><td>0                        </td><td>0                        </td><td>0                        </td><td>0                        </td><td>...                      </td><td>0                        </td><td>0                        </td><td>0                        </td><td>2473.50                  </td><td>2847.81                  </td><td>0.421                    </td><td>  96818567               </td><td> 9594.55                 </td><td>0.7316485                </td><td>498.2660                 </td></tr>\n",
       "\t<tr><td>4213500                  </td><td>Porto Belo               </td><td>SC                       </td><td>0                        </td><td>0                        </td><td>0                        </td><td>0                        </td><td>0                        </td><td>0                        </td><td>0                        </td><td>...                      </td><td>0                        </td><td>0                        </td><td>0                        </td><td>2473.50                  </td><td>2847.81                  </td><td>0.421                    </td><td>1262671974               </td><td>59036.47                 </td><td>0.7316485                </td><td>514.3134                 </td></tr>\n",
       "\t<tr><td>4215703                  </td><td>Santo Amaro da Imperatriz</td><td>SC                       </td><td>0                        </td><td>0                        </td><td>0                        </td><td>0                        </td><td>0                        </td><td>0                        </td><td>0                        </td><td>...                      </td><td>0                        </td><td>0                        </td><td>0                        </td><td>2473.50                  </td><td>2847.81                  </td><td>0.421                    </td><td> 926587483               </td><td>39861.80                 </td><td>0.7316485                </td><td>525.9451                 </td></tr>\n",
       "\t<tr><td>4215752                  </td><td>São Bernardino           </td><td>SC                       </td><td>0                        </td><td>0                        </td><td>0                        </td><td>0                        </td><td>0                        </td><td>0                        </td><td>0                        </td><td>...                      </td><td>0                        </td><td>0                        </td><td>0                        </td><td>2473.50                  </td><td>2847.81                  </td><td>0.421                    </td><td>  64038286               </td><td>27413.65                 </td><td>0.7316485                </td><td>483.1135                 </td></tr>\n",
       "\t<tr><td>4217402                  </td><td>Schroeder                </td><td>SC                       </td><td>0                        </td><td>0                        </td><td>0                        </td><td>0                        </td><td>0                        </td><td>0                        </td><td>0                        </td><td>...                      </td><td>0                        </td><td>0                        </td><td>0                        </td><td>2473.50                  </td><td>2847.81                  </td><td>0.421                    </td><td> 524878971               </td><td>24567.23                 </td><td>0.7316485                </td><td>520.6186                 </td></tr>\n",
       "\t<tr><td>4218350                  </td><td>Treviso                  </td><td>SC                       </td><td>0                        </td><td>0                        </td><td>0                        </td><td>0                        </td><td>0                        </td><td>0                        </td><td>0                        </td><td>...                      </td><td>0                        </td><td>0                        </td><td>0                        </td><td>2473.50                  </td><td>2847.81                  </td><td>0.421                    </td><td> 211614008               </td><td>53859.51                 </td><td>0.7316485                </td><td>530.2676                 </td></tr>\n",
       "\t<tr><td>4219150                  </td><td>Vargem                   </td><td>SC                       </td><td>0                        </td><td>0                        </td><td>0                        </td><td>0                        </td><td>0                        </td><td>0                        </td><td>0                        </td><td>...                      </td><td>0                        </td><td>0                        </td><td>0                        </td><td>2473.50                  </td><td>2847.81                  </td><td>0.421                    </td><td>  65731075               </td><td>26536.57                 </td><td>0.7316485                </td><td>491.8516                 </td></tr>\n",
       "\t<tr><td>4301503                  </td><td>Augusto Pestana          </td><td>RS                       </td><td>0                        </td><td>0                        </td><td>0                        </td><td>0                        </td><td>0                        </td><td>0                        </td><td>0                        </td><td>...                      </td><td>0                        </td><td>0                        </td><td>0                        </td><td>2545.10                  </td><td>3986.63                  </td><td>0.482                    </td><td> 320661291               </td><td>48140.11                 </td><td>0.7135302                </td><td>548.8947                 </td></tr>\n",
       "\t<tr><td>4304507                  </td><td>Canguçu                  </td><td>RS                       </td><td>0                        </td><td>0                        </td><td>0                        </td><td>0                        </td><td>0                        </td><td>0                        </td><td>0                        </td><td>...                      </td><td>0                        </td><td>0                        </td><td>0                        </td><td>2545.10                  </td><td>3986.63                  </td><td>0.482                    </td><td>1297954895               </td><td>23159.16                 </td><td>0.7135302                </td><td>514.4534                 </td></tr>\n",
       "\t<tr><td>4305173                  </td><td>Cerro Grande do Sul      </td><td>RS                       </td><td>0                        </td><td>0                        </td><td>0                        </td><td>0                        </td><td>0                        </td><td>0                        </td><td>0                        </td><td>...                      </td><td>0                        </td><td>0                        </td><td>0                        </td><td>2545.10                  </td><td>3986.63                  </td><td>0.482                    </td><td> 183456633               </td><td>14989.51                 </td><td>0.7135302                </td><td>483.0115                 </td></tr>\n",
       "\t<tr><td>4307708                  </td><td>Esteio                   </td><td>RS                       </td><td>0                        </td><td>0                        </td><td>0                        </td><td>0                        </td><td>0                        </td><td>0                        </td><td>0                        </td><td>...                      </td><td>0                        </td><td>0                        </td><td>0                        </td><td>2545.10                  </td><td>3986.63                  </td><td>0.482                    </td><td>3436739013               </td><td>41305.97                 </td><td>0.7135302                </td><td>521.1600                 </td></tr>\n",
       "\t<tr><td>4308300                  </td><td>Fontoura Xavier          </td><td>RS                       </td><td>0                        </td><td>0                        </td><td>0                        </td><td>0                        </td><td>0                        </td><td>0                        </td><td>0                        </td><td>...                      </td><td>0                        </td><td>0                        </td><td>0                        </td><td>2545.10                  </td><td>3986.63                  </td><td>0.482                    </td><td> 222479179               </td><td>21591.54                 </td><td>0.7135302                </td><td>488.6911                 </td></tr>\n",
       "\t<tr><td>4311809                  </td><td>Marau                    </td><td>RS                       </td><td>0                        </td><td>0                        </td><td>0                        </td><td>0                        </td><td>0                        </td><td>0                        </td><td>0                        </td><td>...                      </td><td>0                        </td><td>0                        </td><td>0                        </td><td>2545.10                  </td><td>3986.63                  </td><td>0.482                    </td><td>2221530651               </td><td>50305.26                 </td><td>0.7135302                </td><td>519.2408                 </td></tr>\n",
       "\t<tr><td>4313706                  </td><td>Palmeira das Missões     </td><td>RS                       </td><td>0                        </td><td>0                        </td><td>0                        </td><td>0                        </td><td>0                        </td><td>0                        </td><td>0                        </td><td>...                      </td><td>0                        </td><td>0                        </td><td>0                        </td><td>2545.10                  </td><td>3986.63                  </td><td>0.482                    </td><td>1488542884               </td><td>44696.96                 </td><td>0.7135302                </td><td>510.3964                 </td></tr>\n",
       "\t<tr><td>4315453                  </td><td>Relvado                  </td><td>RS                       </td><td>0                        </td><td>0                        </td><td>0                        </td><td>0                        </td><td>0                        </td><td>0                        </td><td>0                        </td><td>...                      </td><td>0                        </td><td>0                        </td><td>0                        </td><td>2545.10                  </td><td>3986.63                  </td><td>0.482                    </td><td>  53599753               </td><td>25645.81                 </td><td>0.7135302                </td><td>528.1943                 </td></tr>\n",
       "\t<tr><td>4316105                  </td><td>Ronda Alta               </td><td>RS                       </td><td>0                        </td><td>0                        </td><td>0                        </td><td>0                        </td><td>0                        </td><td>0                        </td><td>0                        </td><td>...                      </td><td>0                        </td><td>0                        </td><td>0                        </td><td>2545.10                  </td><td>3986.63                  </td><td>0.482                    </td><td> 352132045               </td><td>33216.87                 </td><td>0.7135302                </td><td>520.3289                 </td></tr>\n",
       "\t<tr><td>4322608                  </td><td>Venâncio Aires           </td><td>RS                       </td><td>0                        </td><td>0                        </td><td>0                        </td><td>0                        </td><td>0                        </td><td>0                        </td><td>0                        </td><td>...                      </td><td>0                        </td><td>0                        </td><td>0                        </td><td>2545.10                  </td><td>3986.63                  </td><td>0.482                    </td><td>3464550468               </td><td>48418.68                 </td><td>0.7135302                </td><td>533.0783                 </td></tr>\n",
       "\t<tr><td>5004502                  </td><td>Itaporã                  </td><td>MS                       </td><td>0                        </td><td>0                        </td><td>0                        </td><td>0                        </td><td>0                        </td><td>0                        </td><td>0                        </td><td>...                      </td><td>0                        </td><td>0                        </td><td>0                        </td><td>2262.49                  </td><td>3195.13                  </td><td>0.483                    </td><td> 810844467               </td><td>32644.01                 </td><td>0.6797051                </td><td>488.1770                 </td></tr>\n",
       "\t<tr><td>5102603                  </td><td>Campinápolis             </td><td>MT                       </td><td>0                        </td><td>0                        </td><td>0                        </td><td>0                        </td><td>0                        </td><td>0                        </td><td>0                        </td><td>...                      </td><td>0                        </td><td>0                        </td><td>0                        </td><td>2177.15                  </td><td>2474.61                  </td><td>0.454                    </td><td> 295587048               </td><td>18497.31                 </td><td>0.6842908                </td><td>462.7000                 </td></tr>\n",
       "\t<tr><td>5108907                  </td><td>Nova Maringá             </td><td>MT                       </td><td>0                        </td><td>0                        </td><td>0                        </td><td>0                        </td><td>0                        </td><td>0                        </td><td>0                        </td><td>...                      </td><td>0                        </td><td>0                        </td><td>0                        </td><td>2177.15                  </td><td>2474.61                  </td><td>0.454                    </td><td> 507405053               </td><td>58720.64                 </td><td>0.6842908                </td><td>471.3298                 </td></tr>\n",
       "\t<tr><td>5203906                  </td><td>Buriti Alegre            </td><td>GO                       </td><td>0                        </td><td>0                        </td><td>0                        </td><td>0                        </td><td>0                        </td><td>0                        </td><td>0                        </td><td>...                      </td><td>0                        </td><td>0                        </td><td>0                        </td><td>2019.95                  </td><td>2233.59                  </td><td>0.460                    </td><td> 311012651               </td><td>32880.08                 </td><td>0.6949837                </td><td>498.2629                 </td></tr>\n",
       "\t<tr><td>5203962                  </td><td>Buritinópolis            </td><td>GO                       </td><td>0                        </td><td>0                        </td><td>0                        </td><td>0                        </td><td>0                        </td><td>0                        </td><td>0                        </td><td>...                      </td><td>0                        </td><td>0                        </td><td>0                        </td><td>2019.95                  </td><td>2233.59                  </td><td>0.460                    </td><td>  77298689               </td><td>23480.77                 </td><td>0.6949837                </td><td>469.7446                 </td></tr>\n",
       "\t<tr><td>5204508                  </td><td>Caldas Novas             </td><td>GO                       </td><td>0                        </td><td>0                        </td><td>0                        </td><td>0                        </td><td>0                        </td><td>0                        </td><td>0                        </td><td>...                      </td><td>0                        </td><td>0                        </td><td>0                        </td><td>2019.95                  </td><td>2233.59                  </td><td>0.460                    </td><td>2729775806               </td><td>29944.23                 </td><td>0.6949837                </td><td>501.4277                 </td></tr>\n",
       "\t<tr><td>5205000                  </td><td>Carmo do Rio Verde       </td><td>GO                       </td><td>0                        </td><td>0                        </td><td>0                        </td><td>0                        </td><td>0                        </td><td>0                        </td><td>0                        </td><td>...                      </td><td>0                        </td><td>0                        </td><td>0                        </td><td>2019.95                  </td><td>2233.59                  </td><td>0.460                    </td><td> 281621125               </td><td>27933.06                 </td><td>0.6949837                </td><td>485.6754                 </td></tr>\n",
       "\t<tr><td>5220686                  </td><td>Simolândia               </td><td>GO                       </td><td>0                        </td><td>0                        </td><td>0                        </td><td>0                        </td><td>0                        </td><td>0                        </td><td>0                        </td><td>...                      </td><td>0                        </td><td>0                        </td><td>0                        </td><td>2019.95                  </td><td>2233.59                  </td><td>0.460                    </td><td> 109533437               </td><td>15976.29                 </td><td>0.6949837                </td><td>475.0776                 </td></tr>\n",
       "\t<tr><td>5222302                  </td><td>Vila Propício            </td><td>GO                       </td><td>0                        </td><td>0                        </td><td>0                        </td><td>0                        </td><td>0                        </td><td>0                        </td><td>0                        </td><td>...                      </td><td>0                        </td><td>0                        </td><td>0                        </td><td>2019.95                  </td><td>2233.59                  </td><td>0.460                    </td><td> 206971225               </td><td>35555.96                 </td><td>0.6949837                </td><td>468.6827                 </td></tr>\n",
       "</tbody>\n",
       "</table>\n"
      ],
      "text/latex": [
       "\\begin{tabular}{r|llllllllllllllllllllllllll}\n",
       " cod\\_municipio\\_ibge & NO\\_MUNICIPIO\\_RESIDENCIA & UF & fibra\\_optica & wifi & ethernet & lte & vsatelite & wimax & plc\\_eletrico & ... & fr\\_frame\\_relay & mmds & densidade\\_total\\_internet\\_fixa & remuneracao\\_media & desvio\\_padrao & gini & pib & pib\\_p\\_capta & media\\_idhm & mean\\_grades\\_group\\_cities\\\\\n",
       "\\hline\n",
       "\t 1100346                  & Alvorada D'Oeste         & RO                       & 0                        & 0                        & 0                        & 0                        & 0                        & 0                        & 0                        & ...                      & 0                        & 0                        & 0                        & 2030.28                  & 5653.47                  & 0.472                    &  260347872               & 18065.91                 & 0.6440385                & 479.1831                \\\\\n",
       "\t 1200054                  & Assis Brasil             & AC                       & 0                        & 0                        & 0                        & 0                        & 0                        & 0                        & 0                        & ...                      & 0                        & 0                        & 0                        & 1855.13                  & 2515.53                  & 0.559                    &   93054149               & 12546.06                 & 0.5860909                & 472.3420                \\\\\n",
       "\t 1300904                  & Canutama                 & AM                       & 0                        & 0                        & 0                        & 0                        & 0                        & 0                        & 0                        & ...                      & 0                        & 0                        & 0                        & 1515.28                  & 2190.77                  & 0.566                    &  125866946               &  8053.42                 & 0.5651129                & 459.1896                \\\\\n",
       "\t 1301951                  & Itamarati                & AM                       & 0                        & 0                        & 0                        & 0                        & 0                        & 0                        & 0                        & ...                      & 0                        & 0                        & 0                        & 1515.28                  & 2190.77                  & 0.566                    &  102297688               & 13029.89                 & 0.5651129                & 443.5782                \\\\\n",
       "\t 1302702                  & Manicoré                 & AM                       & 0                        & 0                        & 0                        & 0                        & 0                        & 0                        & 0                        & ...                      & 0                        & 0                        & 0                        & 1515.28                  & 2190.77                  & 0.566                    &  543050642               &  9740.64                 & 0.5651129                & 458.9114                \\\\\n",
       "\t 1500347                  & Água Azul do Norte       & PA                       & 0                        & 0                        & 0                        & 0                        & 0                        & 0                        & 0                        & ...                      & 0                        & 0                        & 0                        & 1505.31                  & 2204.90                  & 0.528                    &  434587607               & 15843.51                 & 0.5815455                & 460.2354                \\\\\n",
       "\t 1500701                  & Anajás                   & PA                       & 0                        & 0                        & 0                        & 0                        & 0                        & 0                        & 0                        & ...                      & 0                        & 0                        & 0                        & 1505.31                  & 2204.90                  & 0.528                    &  214508437               &  7326.86                 & 0.5815455                & 451.5909                \\\\\n",
       "\t 1500909                  & Augusto Corrêa           & PA                       & 0                        & 0                        & 0                        & 0                        & 0                        & 0                        & 0                        & ...                      & 0                        & 0                        & 0                        & 1505.31                  & 2204.90                  & 0.528                    &  326462848               &  7097.33                 & 0.5815455                & 462.4356                \\\\\n",
       "\t 1501451                  & Belterra                 & PA                       & 0                        & 0                        & 0                        & 0                        & 0                        & 0                        & 0                        & ...                      & 0                        & 0                        & 0                        & 1505.31                  & 2204.90                  & 0.528                    &  164294669               &  9265.43                 & 0.5815455                & 463.6934                \\\\\n",
       "\t 1501758                  & Brejo Grande do Araguaia & PA                       & 0                        & 0                        & 0                        & 0                        & 0                        & 0                        & 0                        & ...                      & 0                        & 0                        & 0                        & 1505.31                  & 2204.90                  & 0.528                    &   81834987               & 11088.75                 & 0.5815455                & 464.8467                \\\\\n",
       "\t 1502202                  & Capanema                 & PA                       & 0                        & 0                        & 0                        & 0                        & 0                        & 0                        & 0                        & ...                      & 0                        & 0                        & 0                        & 1505.31                  & 2204.90                  & 0.528                    & 1107441415               & 16043.60                 & 0.5815455                & 479.5127                \\\\\n",
       "\t 1502400                  & Castanhal                & PA                       & 0                        & 0                        & 0                        & 0                        & 0                        & 0                        & 0                        & ...                      & 0                        & 0                        & 0                        & 1505.31                  & 2204.90                  & 0.528                    & 4040634536               & 20123.38                 & 0.5815455                & 498.0752                \\\\\n",
       "\t 1503101                  & Gurupá                   & PA                       & 0                        & 0                        & 0                        & 0                        & 0                        & 0                        & 0                        & ...                      & 0                        & 0                        & 0                        & 1505.31                  & 2204.90                  & 0.528                    &  271949984               &  8148.07                 & 0.5815455                & 453.2399                \\\\\n",
       "\t 1504455                  & Medicilândia             & PA                       & 0                        & 0                        & 0                        & 0                        & 0                        & 0                        & 0                        & ...                      & 0                        & 0                        & 0                        & 1505.31                  & 2204.90                  & 0.528                    &  655466351               & 20744.58                 & 0.5815455                & 462.6091                \\\\\n",
       "\t 1504505                  & Melgaço                  & PA                       & 0                        & 0                        & 0                        & 0                        & 0                        & 0                        & 0                        & ...                      & 0                        & 0                        & 0                        & 1505.31                  & 2204.90                  & 0.528                    &  181090856               &  6548.45                 & 0.5815455                & 444.0623                \\\\\n",
       "\t 1504604                  & Mocajuba                 & PA                       & 0                        & 0                        & 0                        & 0                        & 0                        & 0                        & 0                        & ...                      & 0                        & 0                        & 0                        & 1505.31                  & 2204.90                  & 0.528                    &  380344334               & 12215.58                 & 0.5815455                & 454.2591                \\\\\n",
       "\t 1506401                  & Santa Cruz do Arari      & PA                       & 0                        & 0                        & 0                        & 0                        & 0                        & 0                        & 0                        & ...                      & 0                        & 0                        & 0                        & 1505.31                  & 2204.90                  & 0.528                    &   71848062               &  7094.00                 & 0.5815455                & 442.4246                \\\\\n",
       "\t 1507904                  & Soure                    & PA                       & 0                        & 0                        & 0                        & 0                        & 0                        & 0                        & 0                        & ...                      & 0                        & 0                        & 0                        & 1505.31                  & 2204.90                  & 0.528                    &  197890278               &  7798.94                 & 0.5815455                & 457.5847                \\\\\n",
       "\t 1703305                  & Bom Jesus do Tocantins   & TO                       & 0                        & 0                        & 0                        & 0                        & 0                        & 0                        & 0                        & ...                      & 0                        & 0                        & 0                        & 1864.70                  & 2582.44                  & 0.530                    &  123267495               & 25187.47                 & 0.6399281                & 458.3156                \\\\\n",
       "\t 1712157                  & Lavandeira               & TO                       & 0                        & 0                        & 0                        & 0                        & 0                        & 0                        & 0                        & ...                      & 0                        & 0                        & 0                        & 1864.70                  & 2582.44                  & 0.530                    &   25746275               & 13388.60                 & 0.6399281                & 444.7646                \\\\\n",
       "\t 1712405                  & Lizarda                  & TO                       & 0                        & 0                        & 0                        & 0                        & 0                        & 0                        & 0                        & ...                      & 0                        & 0                        & 0                        & 1864.70                  & 2582.44                  & 0.530                    &   38788723               & 10371.32                 & 0.6399281                & 444.6220                \\\\\n",
       "\t 2106672                  & Milagres do Maranhão     & MA                       & 0                        & 0                        & 0                        & 0                        & 0                        & 0                        & 0                        & ...                      & 0                        & 0                        & 0                        & 1185.82                  & 1577.32                  & 0.531                    &   49939069               &  5900.17                 & 0.5761843                & 443.0631                \\\\\n",
       "\t 2201960                  & Brasileira               & PI                       & 0                        & 0                        & 0                        & 0                        & 0                        & 0                        & 0                        & ...                      & 0                        & 0                        & 0                        & 1365.61                  & 2146.47                  & 0.537                    &   58931990               &  7075.52                 & 0.5710491                & 471.9965                \\\\\n",
       "\t 2202307                  & Canto do Buriti          & PI                       & 0                        & 0                        & 0                        & 0                        & 0                        & 0                        & 0                        & ...                      & 0                        & 0                        & 0                        & 1365.61                  & 2146.47                  & 0.537                    &  234604636               & 11073.05                 & 0.5710491                & 471.4274                \\\\\n",
       "\t 2202604                  & Castelo do Piauí         & PI                       & 0                        & 0                        & 0                        & 0                        & 0                        & 0                        & 0                        & ...                      & 0                        & 0                        & 0                        & 1365.61                  & 2146.47                  & 0.537                    &  178487361               &  9052.92                 & 0.5710491                & 485.7684                \\\\\n",
       "\t 2204501                  & Guadalupe                & PI                       & 0                        & 0                        & 0                        & 0                        & 0                        & 0                        & 0                        & ...                      & 0                        & 0                        & 0                        & 1365.61                  & 2146.47                  & 0.537                    &  584566731               & 55678.32                 & 0.5710491                & 467.9876                \\\\\n",
       "\t 2204709                  & Inhuma                   & PI                       & 0                        & 0                        & 0                        & 0                        & 0                        & 0                        & 0                        & ...                      & 0                        & 0                        & 0                        & 1365.61                  & 2146.47                  & 0.537                    &  142382819               &  9301.20                 & 0.5710491                & 475.2491                \\\\\n",
       "\t 2207751                  & Passagem Franca do Piauí & PI                       & 0                        & 0                        & 0                        & 0                        & 0                        & 0                        & 0                        & ...                      & 0                        & 0                        & 0                        & 1365.61                  & 2146.47                  & 0.537                    &   38291160               &  8878.08                 & 0.5710491                & 450.7649                \\\\\n",
       "\t 2210607                  & São Raimundo Nonato      & PI                       & 0                        & 0                        & 0                        & 0                        & 0                        & 0                        & 0                        & ...                      & 0                        & 0                        & 0                        & 1365.61                  & 2146.47                  & 0.537                    &  493884337               & 14228.88                 & 0.5710491                & 465.1320                \\\\\n",
       "\t 2302602                  & Camocim                  & CE                       & 0                        & 0                        & 0                        & 0                        & 0                        & 0                        & 0                        & ...                      & 0                        & 0                        & 0                        & 1397.92                  & 2774.44                  & 0.562                    &  719803851               & 11306.83                 & 0.6166304                & 494.9859                \\\\\n",
       "\t ... & ... & ... & ... & ... & ... & ... & ... & ... & ... &     & ... & ... & ... & ... & ... & ... & ... & ... & ... & ...\\\\\n",
       "\t 4204301                   & Concórdia                 & SC                        & 0                         & 0                         & 0                         & 0                         & 0                         & 0                         & 0                         & ...                       & 0                         & 0                         & 0                         & 2473.50                   & 2847.81                   & 0.421                     & 3722642427                & 49873.96                  & 0.7316485                 & 531.5377                 \\\\\n",
       "\t 4204707                   & Cunha Porã                & SC                        & 0                         & 0                         & 0                         & 0                         & 0                         & 0                         & 0                         & ...                       & 0                         & 0                         & 0                         & 2473.50                   & 2847.81                   & 0.421                     &  596670591                & 53821.99                  & 0.7316485                 & 518.2748                 \\\\\n",
       "\t 4207106                   & Ilhota                    & SC                        & 0                         & 0                         & 0                         & 0                         & 0                         & 0                         & 0                         & ...                       & 0                         & 0                         & 0                         & 2473.50                   & 2847.81                   & 0.421                     &  724129935                & 51052.59                  & 0.7316485                 & 510.7695                 \\\\\n",
       "\t 4207502                   & Indaial                   & SC                        & 0                         & 0                         & 0                         & 0                         & 0                         & 0                         & 0                         & ...                       & 0                         & 0                         & 0                         & 2473.50                   & 2847.81                   & 0.421                     & 2976158918                & 42868.69                  & 0.7316485                 & 521.7197                 \\\\\n",
       "\t 4212650                   & Pescaria Brava            & SC                        & 0                         & 0                         & 0                         & 0                         & 0                         & 0                         & 0                         & ...                       & 0                         & 0                         & 0                         & 2473.50                   & 2847.81                   & 0.421                     &   96818567                &  9594.55                  & 0.7316485                 & 498.2660                 \\\\\n",
       "\t 4213500                   & Porto Belo                & SC                        & 0                         & 0                         & 0                         & 0                         & 0                         & 0                         & 0                         & ...                       & 0                         & 0                         & 0                         & 2473.50                   & 2847.81                   & 0.421                     & 1262671974                & 59036.47                  & 0.7316485                 & 514.3134                 \\\\\n",
       "\t 4215703                   & Santo Amaro da Imperatriz & SC                        & 0                         & 0                         & 0                         & 0                         & 0                         & 0                         & 0                         & ...                       & 0                         & 0                         & 0                         & 2473.50                   & 2847.81                   & 0.421                     &  926587483                & 39861.80                  & 0.7316485                 & 525.9451                 \\\\\n",
       "\t 4215752                   & São Bernardino            & SC                        & 0                         & 0                         & 0                         & 0                         & 0                         & 0                         & 0                         & ...                       & 0                         & 0                         & 0                         & 2473.50                   & 2847.81                   & 0.421                     &   64038286                & 27413.65                  & 0.7316485                 & 483.1135                 \\\\\n",
       "\t 4217402                   & Schroeder                 & SC                        & 0                         & 0                         & 0                         & 0                         & 0                         & 0                         & 0                         & ...                       & 0                         & 0                         & 0                         & 2473.50                   & 2847.81                   & 0.421                     &  524878971                & 24567.23                  & 0.7316485                 & 520.6186                 \\\\\n",
       "\t 4218350                   & Treviso                   & SC                        & 0                         & 0                         & 0                         & 0                         & 0                         & 0                         & 0                         & ...                       & 0                         & 0                         & 0                         & 2473.50                   & 2847.81                   & 0.421                     &  211614008                & 53859.51                  & 0.7316485                 & 530.2676                 \\\\\n",
       "\t 4219150                   & Vargem                    & SC                        & 0                         & 0                         & 0                         & 0                         & 0                         & 0                         & 0                         & ...                       & 0                         & 0                         & 0                         & 2473.50                   & 2847.81                   & 0.421                     &   65731075                & 26536.57                  & 0.7316485                 & 491.8516                 \\\\\n",
       "\t 4301503                   & Augusto Pestana           & RS                        & 0                         & 0                         & 0                         & 0                         & 0                         & 0                         & 0                         & ...                       & 0                         & 0                         & 0                         & 2545.10                   & 3986.63                   & 0.482                     &  320661291                & 48140.11                  & 0.7135302                 & 548.8947                 \\\\\n",
       "\t 4304507                   & Canguçu                   & RS                        & 0                         & 0                         & 0                         & 0                         & 0                         & 0                         & 0                         & ...                       & 0                         & 0                         & 0                         & 2545.10                   & 3986.63                   & 0.482                     & 1297954895                & 23159.16                  & 0.7135302                 & 514.4534                 \\\\\n",
       "\t 4305173                   & Cerro Grande do Sul       & RS                        & 0                         & 0                         & 0                         & 0                         & 0                         & 0                         & 0                         & ...                       & 0                         & 0                         & 0                         & 2545.10                   & 3986.63                   & 0.482                     &  183456633                & 14989.51                  & 0.7135302                 & 483.0115                 \\\\\n",
       "\t 4307708                   & Esteio                    & RS                        & 0                         & 0                         & 0                         & 0                         & 0                         & 0                         & 0                         & ...                       & 0                         & 0                         & 0                         & 2545.10                   & 3986.63                   & 0.482                     & 3436739013                & 41305.97                  & 0.7135302                 & 521.1600                 \\\\\n",
       "\t 4308300                   & Fontoura Xavier           & RS                        & 0                         & 0                         & 0                         & 0                         & 0                         & 0                         & 0                         & ...                       & 0                         & 0                         & 0                         & 2545.10                   & 3986.63                   & 0.482                     &  222479179                & 21591.54                  & 0.7135302                 & 488.6911                 \\\\\n",
       "\t 4311809                   & Marau                     & RS                        & 0                         & 0                         & 0                         & 0                         & 0                         & 0                         & 0                         & ...                       & 0                         & 0                         & 0                         & 2545.10                   & 3986.63                   & 0.482                     & 2221530651                & 50305.26                  & 0.7135302                 & 519.2408                 \\\\\n",
       "\t 4313706                   & Palmeira das Missões      & RS                        & 0                         & 0                         & 0                         & 0                         & 0                         & 0                         & 0                         & ...                       & 0                         & 0                         & 0                         & 2545.10                   & 3986.63                   & 0.482                     & 1488542884                & 44696.96                  & 0.7135302                 & 510.3964                 \\\\\n",
       "\t 4315453                   & Relvado                   & RS                        & 0                         & 0                         & 0                         & 0                         & 0                         & 0                         & 0                         & ...                       & 0                         & 0                         & 0                         & 2545.10                   & 3986.63                   & 0.482                     &   53599753                & 25645.81                  & 0.7135302                 & 528.1943                 \\\\\n",
       "\t 4316105                   & Ronda Alta                & RS                        & 0                         & 0                         & 0                         & 0                         & 0                         & 0                         & 0                         & ...                       & 0                         & 0                         & 0                         & 2545.10                   & 3986.63                   & 0.482                     &  352132045                & 33216.87                  & 0.7135302                 & 520.3289                 \\\\\n",
       "\t 4322608                   & Venâncio Aires            & RS                        & 0                         & 0                         & 0                         & 0                         & 0                         & 0                         & 0                         & ...                       & 0                         & 0                         & 0                         & 2545.10                   & 3986.63                   & 0.482                     & 3464550468                & 48418.68                  & 0.7135302                 & 533.0783                 \\\\\n",
       "\t 5004502                   & Itaporã                   & MS                        & 0                         & 0                         & 0                         & 0                         & 0                         & 0                         & 0                         & ...                       & 0                         & 0                         & 0                         & 2262.49                   & 3195.13                   & 0.483                     &  810844467                & 32644.01                  & 0.6797051                 & 488.1770                 \\\\\n",
       "\t 5102603                   & Campinápolis              & MT                        & 0                         & 0                         & 0                         & 0                         & 0                         & 0                         & 0                         & ...                       & 0                         & 0                         & 0                         & 2177.15                   & 2474.61                   & 0.454                     &  295587048                & 18497.31                  & 0.6842908                 & 462.7000                 \\\\\n",
       "\t 5108907                   & Nova Maringá              & MT                        & 0                         & 0                         & 0                         & 0                         & 0                         & 0                         & 0                         & ...                       & 0                         & 0                         & 0                         & 2177.15                   & 2474.61                   & 0.454                     &  507405053                & 58720.64                  & 0.6842908                 & 471.3298                 \\\\\n",
       "\t 5203906                   & Buriti Alegre             & GO                        & 0                         & 0                         & 0                         & 0                         & 0                         & 0                         & 0                         & ...                       & 0                         & 0                         & 0                         & 2019.95                   & 2233.59                   & 0.460                     &  311012651                & 32880.08                  & 0.6949837                 & 498.2629                 \\\\\n",
       "\t 5203962                   & Buritinópolis             & GO                        & 0                         & 0                         & 0                         & 0                         & 0                         & 0                         & 0                         & ...                       & 0                         & 0                         & 0                         & 2019.95                   & 2233.59                   & 0.460                     &   77298689                & 23480.77                  & 0.6949837                 & 469.7446                 \\\\\n",
       "\t 5204508                   & Caldas Novas              & GO                        & 0                         & 0                         & 0                         & 0                         & 0                         & 0                         & 0                         & ...                       & 0                         & 0                         & 0                         & 2019.95                   & 2233.59                   & 0.460                     & 2729775806                & 29944.23                  & 0.6949837                 & 501.4277                 \\\\\n",
       "\t 5205000                   & Carmo do Rio Verde        & GO                        & 0                         & 0                         & 0                         & 0                         & 0                         & 0                         & 0                         & ...                       & 0                         & 0                         & 0                         & 2019.95                   & 2233.59                   & 0.460                     &  281621125                & 27933.06                  & 0.6949837                 & 485.6754                 \\\\\n",
       "\t 5220686                   & Simolândia                & GO                        & 0                         & 0                         & 0                         & 0                         & 0                         & 0                         & 0                         & ...                       & 0                         & 0                         & 0                         & 2019.95                   & 2233.59                   & 0.460                     &  109533437                & 15976.29                  & 0.6949837                 & 475.0776                 \\\\\n",
       "\t 5222302                   & Vila Propício             & GO                        & 0                         & 0                         & 0                         & 0                         & 0                         & 0                         & 0                         & ...                       & 0                         & 0                         & 0                         & 2019.95                   & 2233.59                   & 0.460                     &  206971225                & 35555.96                  & 0.6949837                 & 468.6827                 \\\\\n",
       "\\end{tabular}\n"
      ],
      "text/markdown": [
       "\n",
       "| cod_municipio_ibge | NO_MUNICIPIO_RESIDENCIA | UF | fibra_optica | wifi | ethernet | lte | vsatelite | wimax | plc_eletrico | ... | fr_frame_relay | mmds | densidade_total_internet_fixa | remuneracao_media | desvio_padrao | gini | pib | pib_p_capta | media_idhm | mean_grades_group_cities |\n",
       "|---|---|---|---|---|---|---|---|---|---|---|---|---|---|---|---|---|---|---|---|---|\n",
       "| 1100346                  | Alvorada D'Oeste         | RO                       | 0                        | 0                        | 0                        | 0                        | 0                        | 0                        | 0                        | ...                      | 0                        | 0                        | 0                        | 2030.28                  | 5653.47                  | 0.472                    |  260347872               | 18065.91                 | 0.6440385                | 479.1831                 |\n",
       "| 1200054                  | Assis Brasil             | AC                       | 0                        | 0                        | 0                        | 0                        | 0                        | 0                        | 0                        | ...                      | 0                        | 0                        | 0                        | 1855.13                  | 2515.53                  | 0.559                    |   93054149               | 12546.06                 | 0.5860909                | 472.3420                 |\n",
       "| 1300904                  | Canutama                 | AM                       | 0                        | 0                        | 0                        | 0                        | 0                        | 0                        | 0                        | ...                      | 0                        | 0                        | 0                        | 1515.28                  | 2190.77                  | 0.566                    |  125866946               |  8053.42                 | 0.5651129                | 459.1896                 |\n",
       "| 1301951                  | Itamarati                | AM                       | 0                        | 0                        | 0                        | 0                        | 0                        | 0                        | 0                        | ...                      | 0                        | 0                        | 0                        | 1515.28                  | 2190.77                  | 0.566                    |  102297688               | 13029.89                 | 0.5651129                | 443.5782                 |\n",
       "| 1302702                  | Manicoré                 | AM                       | 0                        | 0                        | 0                        | 0                        | 0                        | 0                        | 0                        | ...                      | 0                        | 0                        | 0                        | 1515.28                  | 2190.77                  | 0.566                    |  543050642               |  9740.64                 | 0.5651129                | 458.9114                 |\n",
       "| 1500347                  | Água Azul do Norte       | PA                       | 0                        | 0                        | 0                        | 0                        | 0                        | 0                        | 0                        | ...                      | 0                        | 0                        | 0                        | 1505.31                  | 2204.90                  | 0.528                    |  434587607               | 15843.51                 | 0.5815455                | 460.2354                 |\n",
       "| 1500701                  | Anajás                   | PA                       | 0                        | 0                        | 0                        | 0                        | 0                        | 0                        | 0                        | ...                      | 0                        | 0                        | 0                        | 1505.31                  | 2204.90                  | 0.528                    |  214508437               |  7326.86                 | 0.5815455                | 451.5909                 |\n",
       "| 1500909                  | Augusto Corrêa           | PA                       | 0                        | 0                        | 0                        | 0                        | 0                        | 0                        | 0                        | ...                      | 0                        | 0                        | 0                        | 1505.31                  | 2204.90                  | 0.528                    |  326462848               |  7097.33                 | 0.5815455                | 462.4356                 |\n",
       "| 1501451                  | Belterra                 | PA                       | 0                        | 0                        | 0                        | 0                        | 0                        | 0                        | 0                        | ...                      | 0                        | 0                        | 0                        | 1505.31                  | 2204.90                  | 0.528                    |  164294669               |  9265.43                 | 0.5815455                | 463.6934                 |\n",
       "| 1501758                  | Brejo Grande do Araguaia | PA                       | 0                        | 0                        | 0                        | 0                        | 0                        | 0                        | 0                        | ...                      | 0                        | 0                        | 0                        | 1505.31                  | 2204.90                  | 0.528                    |   81834987               | 11088.75                 | 0.5815455                | 464.8467                 |\n",
       "| 1502202                  | Capanema                 | PA                       | 0                        | 0                        | 0                        | 0                        | 0                        | 0                        | 0                        | ...                      | 0                        | 0                        | 0                        | 1505.31                  | 2204.90                  | 0.528                    | 1107441415               | 16043.60                 | 0.5815455                | 479.5127                 |\n",
       "| 1502400                  | Castanhal                | PA                       | 0                        | 0                        | 0                        | 0                        | 0                        | 0                        | 0                        | ...                      | 0                        | 0                        | 0                        | 1505.31                  | 2204.90                  | 0.528                    | 4040634536               | 20123.38                 | 0.5815455                | 498.0752                 |\n",
       "| 1503101                  | Gurupá                   | PA                       | 0                        | 0                        | 0                        | 0                        | 0                        | 0                        | 0                        | ...                      | 0                        | 0                        | 0                        | 1505.31                  | 2204.90                  | 0.528                    |  271949984               |  8148.07                 | 0.5815455                | 453.2399                 |\n",
       "| 1504455                  | Medicilândia             | PA                       | 0                        | 0                        | 0                        | 0                        | 0                        | 0                        | 0                        | ...                      | 0                        | 0                        | 0                        | 1505.31                  | 2204.90                  | 0.528                    |  655466351               | 20744.58                 | 0.5815455                | 462.6091                 |\n",
       "| 1504505                  | Melgaço                  | PA                       | 0                        | 0                        | 0                        | 0                        | 0                        | 0                        | 0                        | ...                      | 0                        | 0                        | 0                        | 1505.31                  | 2204.90                  | 0.528                    |  181090856               |  6548.45                 | 0.5815455                | 444.0623                 |\n",
       "| 1504604                  | Mocajuba                 | PA                       | 0                        | 0                        | 0                        | 0                        | 0                        | 0                        | 0                        | ...                      | 0                        | 0                        | 0                        | 1505.31                  | 2204.90                  | 0.528                    |  380344334               | 12215.58                 | 0.5815455                | 454.2591                 |\n",
       "| 1506401                  | Santa Cruz do Arari      | PA                       | 0                        | 0                        | 0                        | 0                        | 0                        | 0                        | 0                        | ...                      | 0                        | 0                        | 0                        | 1505.31                  | 2204.90                  | 0.528                    |   71848062               |  7094.00                 | 0.5815455                | 442.4246                 |\n",
       "| 1507904                  | Soure                    | PA                       | 0                        | 0                        | 0                        | 0                        | 0                        | 0                        | 0                        | ...                      | 0                        | 0                        | 0                        | 1505.31                  | 2204.90                  | 0.528                    |  197890278               |  7798.94                 | 0.5815455                | 457.5847                 |\n",
       "| 1703305                  | Bom Jesus do Tocantins   | TO                       | 0                        | 0                        | 0                        | 0                        | 0                        | 0                        | 0                        | ...                      | 0                        | 0                        | 0                        | 1864.70                  | 2582.44                  | 0.530                    |  123267495               | 25187.47                 | 0.6399281                | 458.3156                 |\n",
       "| 1712157                  | Lavandeira               | TO                       | 0                        | 0                        | 0                        | 0                        | 0                        | 0                        | 0                        | ...                      | 0                        | 0                        | 0                        | 1864.70                  | 2582.44                  | 0.530                    |   25746275               | 13388.60                 | 0.6399281                | 444.7646                 |\n",
       "| 1712405                  | Lizarda                  | TO                       | 0                        | 0                        | 0                        | 0                        | 0                        | 0                        | 0                        | ...                      | 0                        | 0                        | 0                        | 1864.70                  | 2582.44                  | 0.530                    |   38788723               | 10371.32                 | 0.6399281                | 444.6220                 |\n",
       "| 2106672                  | Milagres do Maranhão     | MA                       | 0                        | 0                        | 0                        | 0                        | 0                        | 0                        | 0                        | ...                      | 0                        | 0                        | 0                        | 1185.82                  | 1577.32                  | 0.531                    |   49939069               |  5900.17                 | 0.5761843                | 443.0631                 |\n",
       "| 2201960                  | Brasileira               | PI                       | 0                        | 0                        | 0                        | 0                        | 0                        | 0                        | 0                        | ...                      | 0                        | 0                        | 0                        | 1365.61                  | 2146.47                  | 0.537                    |   58931990               |  7075.52                 | 0.5710491                | 471.9965                 |\n",
       "| 2202307                  | Canto do Buriti          | PI                       | 0                        | 0                        | 0                        | 0                        | 0                        | 0                        | 0                        | ...                      | 0                        | 0                        | 0                        | 1365.61                  | 2146.47                  | 0.537                    |  234604636               | 11073.05                 | 0.5710491                | 471.4274                 |\n",
       "| 2202604                  | Castelo do Piauí         | PI                       | 0                        | 0                        | 0                        | 0                        | 0                        | 0                        | 0                        | ...                      | 0                        | 0                        | 0                        | 1365.61                  | 2146.47                  | 0.537                    |  178487361               |  9052.92                 | 0.5710491                | 485.7684                 |\n",
       "| 2204501                  | Guadalupe                | PI                       | 0                        | 0                        | 0                        | 0                        | 0                        | 0                        | 0                        | ...                      | 0                        | 0                        | 0                        | 1365.61                  | 2146.47                  | 0.537                    |  584566731               | 55678.32                 | 0.5710491                | 467.9876                 |\n",
       "| 2204709                  | Inhuma                   | PI                       | 0                        | 0                        | 0                        | 0                        | 0                        | 0                        | 0                        | ...                      | 0                        | 0                        | 0                        | 1365.61                  | 2146.47                  | 0.537                    |  142382819               |  9301.20                 | 0.5710491                | 475.2491                 |\n",
       "| 2207751                  | Passagem Franca do Piauí | PI                       | 0                        | 0                        | 0                        | 0                        | 0                        | 0                        | 0                        | ...                      | 0                        | 0                        | 0                        | 1365.61                  | 2146.47                  | 0.537                    |   38291160               |  8878.08                 | 0.5710491                | 450.7649                 |\n",
       "| 2210607                  | São Raimundo Nonato      | PI                       | 0                        | 0                        | 0                        | 0                        | 0                        | 0                        | 0                        | ...                      | 0                        | 0                        | 0                        | 1365.61                  | 2146.47                  | 0.537                    |  493884337               | 14228.88                 | 0.5710491                | 465.1320                 |\n",
       "| 2302602                  | Camocim                  | CE                       | 0                        | 0                        | 0                        | 0                        | 0                        | 0                        | 0                        | ...                      | 0                        | 0                        | 0                        | 1397.92                  | 2774.44                  | 0.562                    |  719803851               | 11306.83                 | 0.6166304                | 494.9859                 |\n",
       "| ... | ... | ... | ... | ... | ... | ... | ... | ... | ... |     | ... | ... | ... | ... | ... | ... | ... | ... | ... | ... |\n",
       "| 4204301                   | Concórdia                 | SC                        | 0                         | 0                         | 0                         | 0                         | 0                         | 0                         | 0                         | ...                       | 0                         | 0                         | 0                         | 2473.50                   | 2847.81                   | 0.421                     | 3722642427                | 49873.96                  | 0.7316485                 | 531.5377                  |\n",
       "| 4204707                   | Cunha Porã                | SC                        | 0                         | 0                         | 0                         | 0                         | 0                         | 0                         | 0                         | ...                       | 0                         | 0                         | 0                         | 2473.50                   | 2847.81                   | 0.421                     |  596670591                | 53821.99                  | 0.7316485                 | 518.2748                  |\n",
       "| 4207106                   | Ilhota                    | SC                        | 0                         | 0                         | 0                         | 0                         | 0                         | 0                         | 0                         | ...                       | 0                         | 0                         | 0                         | 2473.50                   | 2847.81                   | 0.421                     |  724129935                | 51052.59                  | 0.7316485                 | 510.7695                  |\n",
       "| 4207502                   | Indaial                   | SC                        | 0                         | 0                         | 0                         | 0                         | 0                         | 0                         | 0                         | ...                       | 0                         | 0                         | 0                         | 2473.50                   | 2847.81                   | 0.421                     | 2976158918                | 42868.69                  | 0.7316485                 | 521.7197                  |\n",
       "| 4212650                   | Pescaria Brava            | SC                        | 0                         | 0                         | 0                         | 0                         | 0                         | 0                         | 0                         | ...                       | 0                         | 0                         | 0                         | 2473.50                   | 2847.81                   | 0.421                     |   96818567                |  9594.55                  | 0.7316485                 | 498.2660                  |\n",
       "| 4213500                   | Porto Belo                | SC                        | 0                         | 0                         | 0                         | 0                         | 0                         | 0                         | 0                         | ...                       | 0                         | 0                         | 0                         | 2473.50                   | 2847.81                   | 0.421                     | 1262671974                | 59036.47                  | 0.7316485                 | 514.3134                  |\n",
       "| 4215703                   | Santo Amaro da Imperatriz | SC                        | 0                         | 0                         | 0                         | 0                         | 0                         | 0                         | 0                         | ...                       | 0                         | 0                         | 0                         | 2473.50                   | 2847.81                   | 0.421                     |  926587483                | 39861.80                  | 0.7316485                 | 525.9451                  |\n",
       "| 4215752                   | São Bernardino            | SC                        | 0                         | 0                         | 0                         | 0                         | 0                         | 0                         | 0                         | ...                       | 0                         | 0                         | 0                         | 2473.50                   | 2847.81                   | 0.421                     |   64038286                | 27413.65                  | 0.7316485                 | 483.1135                  |\n",
       "| 4217402                   | Schroeder                 | SC                        | 0                         | 0                         | 0                         | 0                         | 0                         | 0                         | 0                         | ...                       | 0                         | 0                         | 0                         | 2473.50                   | 2847.81                   | 0.421                     |  524878971                | 24567.23                  | 0.7316485                 | 520.6186                  |\n",
       "| 4218350                   | Treviso                   | SC                        | 0                         | 0                         | 0                         | 0                         | 0                         | 0                         | 0                         | ...                       | 0                         | 0                         | 0                         | 2473.50                   | 2847.81                   | 0.421                     |  211614008                | 53859.51                  | 0.7316485                 | 530.2676                  |\n",
       "| 4219150                   | Vargem                    | SC                        | 0                         | 0                         | 0                         | 0                         | 0                         | 0                         | 0                         | ...                       | 0                         | 0                         | 0                         | 2473.50                   | 2847.81                   | 0.421                     |   65731075                | 26536.57                  | 0.7316485                 | 491.8516                  |\n",
       "| 4301503                   | Augusto Pestana           | RS                        | 0                         | 0                         | 0                         | 0                         | 0                         | 0                         | 0                         | ...                       | 0                         | 0                         | 0                         | 2545.10                   | 3986.63                   | 0.482                     |  320661291                | 48140.11                  | 0.7135302                 | 548.8947                  |\n",
       "| 4304507                   | Canguçu                   | RS                        | 0                         | 0                         | 0                         | 0                         | 0                         | 0                         | 0                         | ...                       | 0                         | 0                         | 0                         | 2545.10                   | 3986.63                   | 0.482                     | 1297954895                | 23159.16                  | 0.7135302                 | 514.4534                  |\n",
       "| 4305173                   | Cerro Grande do Sul       | RS                        | 0                         | 0                         | 0                         | 0                         | 0                         | 0                         | 0                         | ...                       | 0                         | 0                         | 0                         | 2545.10                   | 3986.63                   | 0.482                     |  183456633                | 14989.51                  | 0.7135302                 | 483.0115                  |\n",
       "| 4307708                   | Esteio                    | RS                        | 0                         | 0                         | 0                         | 0                         | 0                         | 0                         | 0                         | ...                       | 0                         | 0                         | 0                         | 2545.10                   | 3986.63                   | 0.482                     | 3436739013                | 41305.97                  | 0.7135302                 | 521.1600                  |\n",
       "| 4308300                   | Fontoura Xavier           | RS                        | 0                         | 0                         | 0                         | 0                         | 0                         | 0                         | 0                         | ...                       | 0                         | 0                         | 0                         | 2545.10                   | 3986.63                   | 0.482                     |  222479179                | 21591.54                  | 0.7135302                 | 488.6911                  |\n",
       "| 4311809                   | Marau                     | RS                        | 0                         | 0                         | 0                         | 0                         | 0                         | 0                         | 0                         | ...                       | 0                         | 0                         | 0                         | 2545.10                   | 3986.63                   | 0.482                     | 2221530651                | 50305.26                  | 0.7135302                 | 519.2408                  |\n",
       "| 4313706                   | Palmeira das Missões      | RS                        | 0                         | 0                         | 0                         | 0                         | 0                         | 0                         | 0                         | ...                       | 0                         | 0                         | 0                         | 2545.10                   | 3986.63                   | 0.482                     | 1488542884                | 44696.96                  | 0.7135302                 | 510.3964                  |\n",
       "| 4315453                   | Relvado                   | RS                        | 0                         | 0                         | 0                         | 0                         | 0                         | 0                         | 0                         | ...                       | 0                         | 0                         | 0                         | 2545.10                   | 3986.63                   | 0.482                     |   53599753                | 25645.81                  | 0.7135302                 | 528.1943                  |\n",
       "| 4316105                   | Ronda Alta                | RS                        | 0                         | 0                         | 0                         | 0                         | 0                         | 0                         | 0                         | ...                       | 0                         | 0                         | 0                         | 2545.10                   | 3986.63                   | 0.482                     |  352132045                | 33216.87                  | 0.7135302                 | 520.3289                  |\n",
       "| 4322608                   | Venâncio Aires            | RS                        | 0                         | 0                         | 0                         | 0                         | 0                         | 0                         | 0                         | ...                       | 0                         | 0                         | 0                         | 2545.10                   | 3986.63                   | 0.482                     | 3464550468                | 48418.68                  | 0.7135302                 | 533.0783                  |\n",
       "| 5004502                   | Itaporã                   | MS                        | 0                         | 0                         | 0                         | 0                         | 0                         | 0                         | 0                         | ...                       | 0                         | 0                         | 0                         | 2262.49                   | 3195.13                   | 0.483                     |  810844467                | 32644.01                  | 0.6797051                 | 488.1770                  |\n",
       "| 5102603                   | Campinápolis              | MT                        | 0                         | 0                         | 0                         | 0                         | 0                         | 0                         | 0                         | ...                       | 0                         | 0                         | 0                         | 2177.15                   | 2474.61                   | 0.454                     |  295587048                | 18497.31                  | 0.6842908                 | 462.7000                  |\n",
       "| 5108907                   | Nova Maringá              | MT                        | 0                         | 0                         | 0                         | 0                         | 0                         | 0                         | 0                         | ...                       | 0                         | 0                         | 0                         | 2177.15                   | 2474.61                   | 0.454                     |  507405053                | 58720.64                  | 0.6842908                 | 471.3298                  |\n",
       "| 5203906                   | Buriti Alegre             | GO                        | 0                         | 0                         | 0                         | 0                         | 0                         | 0                         | 0                         | ...                       | 0                         | 0                         | 0                         | 2019.95                   | 2233.59                   | 0.460                     |  311012651                | 32880.08                  | 0.6949837                 | 498.2629                  |\n",
       "| 5203962                   | Buritinópolis             | GO                        | 0                         | 0                         | 0                         | 0                         | 0                         | 0                         | 0                         | ...                       | 0                         | 0                         | 0                         | 2019.95                   | 2233.59                   | 0.460                     |   77298689                | 23480.77                  | 0.6949837                 | 469.7446                  |\n",
       "| 5204508                   | Caldas Novas              | GO                        | 0                         | 0                         | 0                         | 0                         | 0                         | 0                         | 0                         | ...                       | 0                         | 0                         | 0                         | 2019.95                   | 2233.59                   | 0.460                     | 2729775806                | 29944.23                  | 0.6949837                 | 501.4277                  |\n",
       "| 5205000                   | Carmo do Rio Verde        | GO                        | 0                         | 0                         | 0                         | 0                         | 0                         | 0                         | 0                         | ...                       | 0                         | 0                         | 0                         | 2019.95                   | 2233.59                   | 0.460                     |  281621125                | 27933.06                  | 0.6949837                 | 485.6754                  |\n",
       "| 5220686                   | Simolândia                | GO                        | 0                         | 0                         | 0                         | 0                         | 0                         | 0                         | 0                         | ...                       | 0                         | 0                         | 0                         | 2019.95                   | 2233.59                   | 0.460                     |  109533437                | 15976.29                  | 0.6949837                 | 475.0776                  |\n",
       "| 5222302                   | Vila Propício             | GO                        | 0                         | 0                         | 0                         | 0                         | 0                         | 0                         | 0                         | ...                       | 0                         | 0                         | 0                         | 2019.95                   | 2233.59                   | 0.460                     |  206971225                | 35555.96                  | 0.6949837                 | 468.6827                  |\n",
       "\n"
      ],
      "text/plain": [
       "    cod_municipio_ibge NO_MUNICIPIO_RESIDENCIA   UF  fibra_optica wifi ethernet\n",
       "1   1100346            Alvorada D'Oeste          RO  0            0    0       \n",
       "2   1200054            Assis Brasil              AC  0            0    0       \n",
       "3   1300904            Canutama                  AM  0            0    0       \n",
       "4   1301951            Itamarati                 AM  0            0    0       \n",
       "5   1302702            Manicoré                  AM  0            0    0       \n",
       "6   1500347            Água Azul do Norte        PA  0            0    0       \n",
       "7   1500701            Anajás                    PA  0            0    0       \n",
       "8   1500909            Augusto Corrêa            PA  0            0    0       \n",
       "9   1501451            Belterra                  PA  0            0    0       \n",
       "10  1501758            Brejo Grande do Araguaia  PA  0            0    0       \n",
       "11  1502202            Capanema                  PA  0            0    0       \n",
       "12  1502400            Castanhal                 PA  0            0    0       \n",
       "13  1503101            Gurupá                    PA  0            0    0       \n",
       "14  1504455            Medicilândia              PA  0            0    0       \n",
       "15  1504505            Melgaço                   PA  0            0    0       \n",
       "16  1504604            Mocajuba                  PA  0            0    0       \n",
       "17  1506401            Santa Cruz do Arari       PA  0            0    0       \n",
       "18  1507904            Soure                     PA  0            0    0       \n",
       "19  1703305            Bom Jesus do Tocantins    TO  0            0    0       \n",
       "20  1712157            Lavandeira                TO  0            0    0       \n",
       "21  1712405            Lizarda                   TO  0            0    0       \n",
       "22  2106672            Milagres do Maranhão      MA  0            0    0       \n",
       "23  2201960            Brasileira                PI  0            0    0       \n",
       "24  2202307            Canto do Buriti           PI  0            0    0       \n",
       "25  2202604            Castelo do Piauí          PI  0            0    0       \n",
       "26  2204501            Guadalupe                 PI  0            0    0       \n",
       "27  2204709            Inhuma                    PI  0            0    0       \n",
       "28  2207751            Passagem Franca do Piauí  PI  0            0    0       \n",
       "29  2210607            São Raimundo Nonato       PI  0            0    0       \n",
       "30  2302602            Camocim                   CE  0            0    0       \n",
       "... ...                ...                       ... ...          ...  ...     \n",
       "118 4204301            Concórdia                 SC  0            0    0       \n",
       "119 4204707            Cunha Porã                SC  0            0    0       \n",
       "120 4207106            Ilhota                    SC  0            0    0       \n",
       "121 4207502            Indaial                   SC  0            0    0       \n",
       "122 4212650            Pescaria Brava            SC  0            0    0       \n",
       "123 4213500            Porto Belo                SC  0            0    0       \n",
       "124 4215703            Santo Amaro da Imperatriz SC  0            0    0       \n",
       "125 4215752            São Bernardino            SC  0            0    0       \n",
       "126 4217402            Schroeder                 SC  0            0    0       \n",
       "127 4218350            Treviso                   SC  0            0    0       \n",
       "128 4219150            Vargem                    SC  0            0    0       \n",
       "129 4301503            Augusto Pestana           RS  0            0    0       \n",
       "130 4304507            Canguçu                   RS  0            0    0       \n",
       "131 4305173            Cerro Grande do Sul       RS  0            0    0       \n",
       "132 4307708            Esteio                    RS  0            0    0       \n",
       "133 4308300            Fontoura Xavier           RS  0            0    0       \n",
       "134 4311809            Marau                     RS  0            0    0       \n",
       "135 4313706            Palmeira das Missões      RS  0            0    0       \n",
       "136 4315453            Relvado                   RS  0            0    0       \n",
       "137 4316105            Ronda Alta                RS  0            0    0       \n",
       "138 4322608            Venâncio Aires            RS  0            0    0       \n",
       "139 5004502            Itaporã                   MS  0            0    0       \n",
       "140 5102603            Campinápolis              MT  0            0    0       \n",
       "141 5108907            Nova Maringá              MT  0            0    0       \n",
       "142 5203906            Buriti Alegre             GO  0            0    0       \n",
       "143 5203962            Buritinópolis             GO  0            0    0       \n",
       "144 5204508            Caldas Novas              GO  0            0    0       \n",
       "145 5205000            Carmo do Rio Verde        GO  0            0    0       \n",
       "146 5220686            Simolândia                GO  0            0    0       \n",
       "147 5222302            Vila Propício             GO  0            0    0       \n",
       "    lte vsatelite wimax plc_eletrico ... fr_frame_relay mmds\n",
       "1   0   0         0     0            ... 0              0   \n",
       "2   0   0         0     0            ... 0              0   \n",
       "3   0   0         0     0            ... 0              0   \n",
       "4   0   0         0     0            ... 0              0   \n",
       "5   0   0         0     0            ... 0              0   \n",
       "6   0   0         0     0            ... 0              0   \n",
       "7   0   0         0     0            ... 0              0   \n",
       "8   0   0         0     0            ... 0              0   \n",
       "9   0   0         0     0            ... 0              0   \n",
       "10  0   0         0     0            ... 0              0   \n",
       "11  0   0         0     0            ... 0              0   \n",
       "12  0   0         0     0            ... 0              0   \n",
       "13  0   0         0     0            ... 0              0   \n",
       "14  0   0         0     0            ... 0              0   \n",
       "15  0   0         0     0            ... 0              0   \n",
       "16  0   0         0     0            ... 0              0   \n",
       "17  0   0         0     0            ... 0              0   \n",
       "18  0   0         0     0            ... 0              0   \n",
       "19  0   0         0     0            ... 0              0   \n",
       "20  0   0         0     0            ... 0              0   \n",
       "21  0   0         0     0            ... 0              0   \n",
       "22  0   0         0     0            ... 0              0   \n",
       "23  0   0         0     0            ... 0              0   \n",
       "24  0   0         0     0            ... 0              0   \n",
       "25  0   0         0     0            ... 0              0   \n",
       "26  0   0         0     0            ... 0              0   \n",
       "27  0   0         0     0            ... 0              0   \n",
       "28  0   0         0     0            ... 0              0   \n",
       "29  0   0         0     0            ... 0              0   \n",
       "30  0   0         0     0            ... 0              0   \n",
       "... ... ...       ...   ...              ...            ... \n",
       "118 0   0         0     0            ... 0              0   \n",
       "119 0   0         0     0            ... 0              0   \n",
       "120 0   0         0     0            ... 0              0   \n",
       "121 0   0         0     0            ... 0              0   \n",
       "122 0   0         0     0            ... 0              0   \n",
       "123 0   0         0     0            ... 0              0   \n",
       "124 0   0         0     0            ... 0              0   \n",
       "125 0   0         0     0            ... 0              0   \n",
       "126 0   0         0     0            ... 0              0   \n",
       "127 0   0         0     0            ... 0              0   \n",
       "128 0   0         0     0            ... 0              0   \n",
       "129 0   0         0     0            ... 0              0   \n",
       "130 0   0         0     0            ... 0              0   \n",
       "131 0   0         0     0            ... 0              0   \n",
       "132 0   0         0     0            ... 0              0   \n",
       "133 0   0         0     0            ... 0              0   \n",
       "134 0   0         0     0            ... 0              0   \n",
       "135 0   0         0     0            ... 0              0   \n",
       "136 0   0         0     0            ... 0              0   \n",
       "137 0   0         0     0            ... 0              0   \n",
       "138 0   0         0     0            ... 0              0   \n",
       "139 0   0         0     0            ... 0              0   \n",
       "140 0   0         0     0            ... 0              0   \n",
       "141 0   0         0     0            ... 0              0   \n",
       "142 0   0         0     0            ... 0              0   \n",
       "143 0   0         0     0            ... 0              0   \n",
       "144 0   0         0     0            ... 0              0   \n",
       "145 0   0         0     0            ... 0              0   \n",
       "146 0   0         0     0            ... 0              0   \n",
       "147 0   0         0     0            ... 0              0   \n",
       "    densidade_total_internet_fixa remuneracao_media desvio_padrao gini \n",
       "1   0                             2030.28           5653.47       0.472\n",
       "2   0                             1855.13           2515.53       0.559\n",
       "3   0                             1515.28           2190.77       0.566\n",
       "4   0                             1515.28           2190.77       0.566\n",
       "5   0                             1515.28           2190.77       0.566\n",
       "6   0                             1505.31           2204.90       0.528\n",
       "7   0                             1505.31           2204.90       0.528\n",
       "8   0                             1505.31           2204.90       0.528\n",
       "9   0                             1505.31           2204.90       0.528\n",
       "10  0                             1505.31           2204.90       0.528\n",
       "11  0                             1505.31           2204.90       0.528\n",
       "12  0                             1505.31           2204.90       0.528\n",
       "13  0                             1505.31           2204.90       0.528\n",
       "14  0                             1505.31           2204.90       0.528\n",
       "15  0                             1505.31           2204.90       0.528\n",
       "16  0                             1505.31           2204.90       0.528\n",
       "17  0                             1505.31           2204.90       0.528\n",
       "18  0                             1505.31           2204.90       0.528\n",
       "19  0                             1864.70           2582.44       0.530\n",
       "20  0                             1864.70           2582.44       0.530\n",
       "21  0                             1864.70           2582.44       0.530\n",
       "22  0                             1185.82           1577.32       0.531\n",
       "23  0                             1365.61           2146.47       0.537\n",
       "24  0                             1365.61           2146.47       0.537\n",
       "25  0                             1365.61           2146.47       0.537\n",
       "26  0                             1365.61           2146.47       0.537\n",
       "27  0                             1365.61           2146.47       0.537\n",
       "28  0                             1365.61           2146.47       0.537\n",
       "29  0                             1365.61           2146.47       0.537\n",
       "30  0                             1397.92           2774.44       0.562\n",
       "... ...                           ...               ...           ...  \n",
       "118 0                             2473.50           2847.81       0.421\n",
       "119 0                             2473.50           2847.81       0.421\n",
       "120 0                             2473.50           2847.81       0.421\n",
       "121 0                             2473.50           2847.81       0.421\n",
       "122 0                             2473.50           2847.81       0.421\n",
       "123 0                             2473.50           2847.81       0.421\n",
       "124 0                             2473.50           2847.81       0.421\n",
       "125 0                             2473.50           2847.81       0.421\n",
       "126 0                             2473.50           2847.81       0.421\n",
       "127 0                             2473.50           2847.81       0.421\n",
       "128 0                             2473.50           2847.81       0.421\n",
       "129 0                             2545.10           3986.63       0.482\n",
       "130 0                             2545.10           3986.63       0.482\n",
       "131 0                             2545.10           3986.63       0.482\n",
       "132 0                             2545.10           3986.63       0.482\n",
       "133 0                             2545.10           3986.63       0.482\n",
       "134 0                             2545.10           3986.63       0.482\n",
       "135 0                             2545.10           3986.63       0.482\n",
       "136 0                             2545.10           3986.63       0.482\n",
       "137 0                             2545.10           3986.63       0.482\n",
       "138 0                             2545.10           3986.63       0.482\n",
       "139 0                             2262.49           3195.13       0.483\n",
       "140 0                             2177.15           2474.61       0.454\n",
       "141 0                             2177.15           2474.61       0.454\n",
       "142 0                             2019.95           2233.59       0.460\n",
       "143 0                             2019.95           2233.59       0.460\n",
       "144 0                             2019.95           2233.59       0.460\n",
       "145 0                             2019.95           2233.59       0.460\n",
       "146 0                             2019.95           2233.59       0.460\n",
       "147 0                             2019.95           2233.59       0.460\n",
       "    pib        pib_p_capta media_idhm mean_grades_group_cities\n",
       "1    260347872 18065.91    0.6440385  479.1831                \n",
       "2     93054149 12546.06    0.5860909  472.3420                \n",
       "3    125866946  8053.42    0.5651129  459.1896                \n",
       "4    102297688 13029.89    0.5651129  443.5782                \n",
       "5    543050642  9740.64    0.5651129  458.9114                \n",
       "6    434587607 15843.51    0.5815455  460.2354                \n",
       "7    214508437  7326.86    0.5815455  451.5909                \n",
       "8    326462848  7097.33    0.5815455  462.4356                \n",
       "9    164294669  9265.43    0.5815455  463.6934                \n",
       "10    81834987 11088.75    0.5815455  464.8467                \n",
       "11  1107441415 16043.60    0.5815455  479.5127                \n",
       "12  4040634536 20123.38    0.5815455  498.0752                \n",
       "13   271949984  8148.07    0.5815455  453.2399                \n",
       "14   655466351 20744.58    0.5815455  462.6091                \n",
       "15   181090856  6548.45    0.5815455  444.0623                \n",
       "16   380344334 12215.58    0.5815455  454.2591                \n",
       "17    71848062  7094.00    0.5815455  442.4246                \n",
       "18   197890278  7798.94    0.5815455  457.5847                \n",
       "19   123267495 25187.47    0.6399281  458.3156                \n",
       "20    25746275 13388.60    0.6399281  444.7646                \n",
       "21    38788723 10371.32    0.6399281  444.6220                \n",
       "22    49939069  5900.17    0.5761843  443.0631                \n",
       "23    58931990  7075.52    0.5710491  471.9965                \n",
       "24   234604636 11073.05    0.5710491  471.4274                \n",
       "25   178487361  9052.92    0.5710491  485.7684                \n",
       "26   584566731 55678.32    0.5710491  467.9876                \n",
       "27   142382819  9301.20    0.5710491  475.2491                \n",
       "28    38291160  8878.08    0.5710491  450.7649                \n",
       "29   493884337 14228.88    0.5710491  465.1320                \n",
       "30   719803851 11306.83    0.6166304  494.9859                \n",
       "... ...        ...         ...        ...                     \n",
       "118 3722642427 49873.96    0.7316485  531.5377                \n",
       "119  596670591 53821.99    0.7316485  518.2748                \n",
       "120  724129935 51052.59    0.7316485  510.7695                \n",
       "121 2976158918 42868.69    0.7316485  521.7197                \n",
       "122   96818567  9594.55    0.7316485  498.2660                \n",
       "123 1262671974 59036.47    0.7316485  514.3134                \n",
       "124  926587483 39861.80    0.7316485  525.9451                \n",
       "125   64038286 27413.65    0.7316485  483.1135                \n",
       "126  524878971 24567.23    0.7316485  520.6186                \n",
       "127  211614008 53859.51    0.7316485  530.2676                \n",
       "128   65731075 26536.57    0.7316485  491.8516                \n",
       "129  320661291 48140.11    0.7135302  548.8947                \n",
       "130 1297954895 23159.16    0.7135302  514.4534                \n",
       "131  183456633 14989.51    0.7135302  483.0115                \n",
       "132 3436739013 41305.97    0.7135302  521.1600                \n",
       "133  222479179 21591.54    0.7135302  488.6911                \n",
       "134 2221530651 50305.26    0.7135302  519.2408                \n",
       "135 1488542884 44696.96    0.7135302  510.3964                \n",
       "136   53599753 25645.81    0.7135302  528.1943                \n",
       "137  352132045 33216.87    0.7135302  520.3289                \n",
       "138 3464550468 48418.68    0.7135302  533.0783                \n",
       "139  810844467 32644.01    0.6797051  488.1770                \n",
       "140  295587048 18497.31    0.6842908  462.7000                \n",
       "141  507405053 58720.64    0.6842908  471.3298                \n",
       "142  311012651 32880.08    0.6949837  498.2629                \n",
       "143   77298689 23480.77    0.6949837  469.7446                \n",
       "144 2729775806 29944.23    0.6949837  501.4277                \n",
       "145  281621125 27933.06    0.6949837  485.6754                \n",
       "146  109533437 15976.29    0.6949837  475.0776                \n",
       "147  206971225 35555.96    0.6949837  468.6827                "
      ]
     },
     "metadata": {},
     "output_type": "display_data"
    }
   ],
   "source": [
    "complete_data_with_totalnet %>%\n",
    "    filter(densidade_total_internet_fixa == 0)"
   ]
  },
  {
   "cell_type": "markdown",
   "id": "ccf956be",
   "metadata": {},
   "source": [
    "Há considerável quantidade de municípios com a densidade de acessos fixos à internet em banda larga iguais à 0 (ZERO),  para o ano de 2019. Tal fato não garante que a densidade do acesso à internet fixa em tais municípios sejam realmente iguais à ZERO. Há situações de municípios que não tiveram seus dados registrados naquele período. "
   ]
  },
  {
   "cell_type": "markdown",
   "id": "2910b7ed",
   "metadata": {},
   "source": [
    "### Análise da Distribuição da variável - Densidade da Internet fixa por municípios:"
   ]
  },
  {
   "cell_type": "code",
   "execution_count": 29,
   "id": "2d9ca741",
   "metadata": {
    "scrolled": false
   },
   "outputs": [
    {
     "data": {
      "image/png": "[encoded data removed]",
      "text/plain": [
       "plot without title"
      ]
     },
     "metadata": {},
     "output_type": "display_data"
    }
   ],
   "source": [
    "options(repr.plot.width= 5, repr.plot.height=4)\n",
    "ggplot(data = complete_data_with_totalnet) + aes(densidade_total_internet_fixa) + geom_histogram(bins = 50) +\n",
    "    xlab(\"Densidade do Acesso à Internet - Brasil\") + ylab(\"Densidade\") + \n",
    "    ggtitle(\"Densidade do acesso à internet fixa - Brasil em 2019\") + theme_classic()"
   ]
  },
  {
   "cell_type": "code",
   "execution_count": 30,
   "id": "b90ea6cc",
   "metadata": {},
   "outputs": [
    {
     "data": {
      "text/html": [
       "23.618"
      ],
      "text/latex": [
       "23.618"
      ],
      "text/markdown": [
       "23.618"
      ],
      "text/plain": [
       "[1] 23.618"
      ]
     },
     "metadata": {},
     "output_type": "display_data"
    }
   ],
   "source": [
    "round(skewness(x = complete_data_with_totalnet$densidade_total_internet_fixa),digits = 3)"
   ]
  },
  {
   "cell_type": "markdown",
   "id": "d5711d9b",
   "metadata": {},
   "source": [
    "Tanto o histograma quanto o valor de Skewness indicam que os dados são assimétricos e distribuídos para a direita."
   ]
  },
  {
   "cell_type": "markdown",
   "id": "ecba13c8",
   "metadata": {},
   "source": [
    "#### Acesso a internet fixa no Brasil por tecnologia no ano de 2019:"
   ]
  },
  {
   "cell_type": "code",
   "execution_count": 118,
   "id": "8155a2e1",
   "metadata": {},
   "outputs": [
    {
     "data": {
      "image/png": "[encoded data removed]",
      "text/plain": [
       "plot without title"
      ]
     },
     "metadata": {},
     "output_type": "display_data"
    }
   ],
   "source": [
    "net_by_access = complete_data_with_totalnet %>%\n",
    "                    summarise(fibra = sum(fibra_optica),\n",
    "                    wifi = sum(wifi),\n",
    "                    ethernet = sum(ethernet),\n",
    "                    lte = sum(lte),\n",
    "                    vsatelite = sum(vsatelite),\n",
    "                    wimax = sum(wimax),\n",
    "                    plc = sum(plc_eletrico),\n",
    "                    xdsl = sum(xdsl),\n",
    "                    cable_modem = sum(cable_modem),\n",
    "                    fwa = sum(fwa_5g_fixed),\n",
    "                    atm = sum(atm_backbone),\n",
    "                    dth = sum(dth_satelite),\n",
    "                    hfc = sum(hfc_tv_cabo),\n",
    "                    fr = sum(fr_frame_relay),\n",
    "                    mmds = sum(mmds)\n",
    "                    ) %>%\n",
    "                    data.frame()\n",
    "# Criando o data frame com os quantitativos de acessos a internet para todo o território nacional\n",
    "col_names_access = c('fibra', 'wifi', 'ethernet', 'lte', 'vsatelite',\n",
    "                                'wimax', 'plc', 'xdsl', 'cable_modem', 'fwa',\n",
    "                                'atm', 'dth', 'hfc', 'fr', 'mmds')\n",
    "density = c()\n",
    "for(value in col_names_access){\n",
    "    density = append(x = density, values = net_by_access[1, value])\n",
    "}\n",
    "net_by_access = data.frame(access = col_names_access,\n",
    "                           density = density)\n",
    "# plotando as barras:\n",
    "ggplot(net_by_access) + aes(x = access, y = density) + geom_bar(stat = \"identity\") + coord_flip() + theme_minimal() +\n",
    "    xlab(\"tecnologia\") + ylab(\"densidade de acesso\") + ggtitle(\"Densidade do Acesso a Internet Fixa por tecnologia - ano 2019\") "
   ]
  },
  {
   "cell_type": "markdown",
   "id": "f3edb4b1",
   "metadata": {},
   "source": [
    "#### Boxplot agregados por Unidade Federativa"
   ]
  },
  {
   "cell_type": "code",
   "execution_count": 33,
   "id": "75284194",
   "metadata": {},
   "outputs": [
    {
     "data": {
      "image/png": "[encoded data removed]",
      "text/plain": [
       "plot without title"
      ]
     },
     "metadata": {},
     "output_type": "display_data"
    }
   ],
   "source": [
    "options(repr.plot.width= 7, repr.plot.height=4)\n",
    "ggplot(data = complete_data_with_totalnet) + aes(x = UF, y=densidade_total_internet_fixa) + geom_boxplot() +\n",
    "    xlab(\"Unidades Federativas\") + ylab(\"Densidade do Acesso \") + \n",
    "    ggtitle(\"BoxPlot da Densidade do Acesso a Internet Fixa - UFs em 2019\")"
   ]
  },
  {
   "cell_type": "markdown",
   "id": "26393367",
   "metadata": {},
   "source": [
    "### Mapa de da Densidade do Acesso à internet Fixa 2019"
   ]
  },
  {
   "cell_type": "markdown",
   "id": "a84c669d",
   "metadata": {},
   "source": [
    "![image](data/shape_maps/04_shape_map_densidade_total_internet.jpeg)"
   ]
  },
  {
   "cell_type": "markdown",
   "id": "f66d6d8b",
   "metadata": {},
   "source": [
    "Acima, O Mapa ShapeFile contendo todos os municípios do Brasil quando associado a densidade do acesso fixo a internet no âmbito municipal,  possui referência bem diferenciada quando comparado com o mapa das notas do Enem. Neste , grande parte do território Nacional é indicado com uma baixa densidade do acesso. "
   ]
  },
  {
   "cell_type": "markdown",
   "id": "8d407ace",
   "metadata": {},
   "source": [
    "Outra forma de combinação do mapa shapeFile com os dados de acesso à internet fixa, será reduzindo e integrando por soma a distribuição das densidades para cada UF. Agora o mapa unificado por UFs possui a seguinte distribuição das densidades:"
   ]
  },
  {
   "cell_type": "markdown",
   "id": "27a7406f",
   "metadata": {},
   "source": [
    "![image](data/shape_maps/04_shape_map_internet_access_total_by_uf.jpeg)"
   ]
  },
  {
   "cell_type": "markdown",
   "id": "21206030",
   "metadata": {},
   "source": [
    "Há agora maior semelhança visual das indicações das intensidades entre o mapa da densidade do acesso a internet fixa unificado por UF e o mapa de distribuição nacional das notas do Enem."
   ]
  },
  {
   "cell_type": "markdown",
   "id": "3dd715ac",
   "metadata": {},
   "source": [
    "No estudo da correlação numérica entre as notas do Enem e a densidade da internet fixa, a redução por soma dos dados da densidade do acesso à internet por UF teria melhores resultados como ocorreu na visualização dos shapeFiles ?"
   ]
  },
  {
   "cell_type": "markdown",
   "id": "066a6443",
   "metadata": {},
   "source": [
    "### Estudo da Correlação Linear entre as Notas do Enem e os Dados de Acesso a Internet Fixa no Brasil, ano 2019:"
   ]
  },
  {
   "cell_type": "code",
   "execution_count": 119,
   "id": "d9b2b48a",
   "metadata": {},
   "outputs": [],
   "source": [
    "library(PerformanceAnalytics)"
   ]
  },
  {
   "cell_type": "markdown",
   "id": "fcdc845a",
   "metadata": {},
   "source": [
    "#### Scatter plot entre os dados da Densidade da Internet Fixa E a média das notas do Enem"
   ]
  },
  {
   "cell_type": "code",
   "execution_count": 145,
   "id": "bb1d4533",
   "metadata": {
    "scrolled": false
   },
   "outputs": [
    {
     "data": {
      "image/png": "[encoded data removed]",
      "text/plain": [
       "plot without title"
      ]
     },
     "metadata": {},
     "output_type": "display_data"
    }
   ],
   "source": [
    "ggplot(data = complete_data_with_totalnet) + aes(x = mean_grades_group_cities, \n",
    "    y= densidade_total_internet_fixa) + \n",
    "    geom_point() + geom_smooth(aes(color=\"Fitted Values\"), method = \"lm\", level = 0.95) + \n",
    "    theme_bw()"
   ]
  },
  {
   "cell_type": "markdown",
   "id": "079e321e",
   "metadata": {},
   "source": [
    "No gráfico de Scatter Plot acima tem-se no eixo da Abcissa a distribuição da média das notas do Enem e na Ordenada: a Densidade total da Internet Fixa para cada município. O gráfico revela baixa relação linear entre as variáveis. \n",
    "Na aplicação do fit linear a relação, observe que as linhas estão não alinhadas com a respectiva distribuição para o intervalo de confiança igual a 95%."
   ]
  },
  {
   "cell_type": "markdown",
   "id": "f73a757c",
   "metadata": {},
   "source": [
    "#### Índice de correlação PEARSON entre as variáveis: Média das Notas do Enem e Densidade do Acesso a Internet Fixa."
   ]
  },
  {
   "cell_type": "code",
   "execution_count": 37,
   "id": "13c2d1bb",
   "metadata": {},
   "outputs": [
    {
     "data": {
      "image/png": "[encoded data removed]",
      "text/plain": [
       "Plot with title \"\""
      ]
     },
     "metadata": {},
     "output_type": "display_data"
    }
   ],
   "source": [
    "chart.Correlation(complete_data_with_totalnet[c(\"mean_grades_group_cities\", \"densidade_total_internet_fixa\")],\n",
    "    method= \"pearson\")"
   ]
  },
  {
   "cell_type": "code",
   "execution_count": 38,
   "id": "eda83e8b",
   "metadata": {},
   "outputs": [
    {
     "data": {
      "text/plain": [
       "\n",
       "\tPearson's product-moment correlation\n",
       "\n",
       "data:  complete_data_with_totalnet$densidade_total_internet_fixa and complete_data_with_totalnet$mean_grades_group_cities\n",
       "t = 12.659, df = 5568, p-value < 2.2e-16\n",
       "alternative hypothesis: true correlation is not equal to 0\n",
       "95 percent confidence interval:\n",
       " 0.1416233 0.1926800\n",
       "sample estimates:\n",
       "      cor \n",
       "0.1672638 \n"
      ]
     },
     "metadata": {},
     "output_type": "display_data"
    }
   ],
   "source": [
    "cor.test(complete_data_with_totalnet$densidade_total_internet_fixa, complete_data_with_totalnet$mean_grades_group_cities)"
   ]
  },
  {
   "cell_type": "markdown",
   "id": "4cfe3af7",
   "metadata": {},
   "source": [
    "Embora o índice de correlação Pearson entre a média das notas do Enem e a densidade de acesso a internet seja baixa: \n",
    "r = 0.167, para a correlação linear, o Teste de Correlação realizado indicou Rejeição à hipótese nula, onde o índice de correlação é diferente de 0 (ZERO)."
   ]
  },
  {
   "cell_type": "markdown",
   "id": "3d3cb306",
   "metadata": {},
   "source": [
    "#### Índice de correlação SPEARMAN entre as variáveis: Média das Notas do Enem e Densidade do Acesso a Internet Fixa."
   ]
  },
  {
   "cell_type": "code",
   "execution_count": 39,
   "id": "6bb059cd",
   "metadata": {},
   "outputs": [
    {
     "name": "stderr",
     "output_type": "stream",
     "text": [
      "Warning message in cor.test.default(as.numeric(x), as.numeric(y), method = method):\n",
      "\"Cannot compute exact p-value with ties\""
     ]
    },
    {
     "data": {
      "image/png": "[encoded data removed]",
      "text/plain": [
       "Plot with title \"\""
      ]
     },
     "metadata": {},
     "output_type": "display_data"
    }
   ],
   "source": [
    "chart.Correlation(complete_data_with_totalnet[c(\"mean_grades_group_cities\", \"densidade_total_internet_fixa\")],\n",
    "    method= \"spearman\")"
   ]
  },
  {
   "cell_type": "code",
   "execution_count": 40,
   "id": "54b28b32",
   "metadata": {},
   "outputs": [
    {
     "name": "stderr",
     "output_type": "stream",
     "text": [
      "Warning message in cor.test.default(complete_data_with_totalnet$densidade_total_internet_fixa, :\n",
      "\"Cannot compute exact p-value with ties\""
     ]
    },
    {
     "data": {
      "text/plain": [
       "\n",
       "\tSpearman's rank correlation rho\n",
       "\n",
       "data:  complete_data_with_totalnet$densidade_total_internet_fixa and complete_data_with_totalnet$mean_grades_group_cities\n",
       "S = 2.1627e+10, p-value < 2.2e-16\n",
       "alternative hypothesis: true rho is not equal to 0\n",
       "sample estimates:\n",
       "      rho \n",
       "0.2491091 \n"
      ]
     },
     "metadata": {},
     "output_type": "display_data"
    }
   ],
   "source": [
    "cor.test(complete_data_with_totalnet$densidade_total_internet_fixa, complete_data_with_totalnet$mean_grades_group_cities,\n",
    "    method = \"spearman\")"
   ]
  },
  {
   "cell_type": "markdown",
   "id": "714b9753",
   "metadata": {},
   "source": [
    "Para o índice de Correlação Spearman o valor de Rho registrado foi de 0.249. Indicando um índice maior se comparado ao de pearson, já que o índice spearman tem resposta diferenciada a relações não lineares."
   ]
  },
  {
   "cell_type": "markdown",
   "id": "3219695c",
   "metadata": {},
   "source": [
    "### Análise da correlação existente entre os dados da internet fixa e as notas do enem no ano de 2019 - Dados de densidade de acessos a internet reduzidos por soma e agrupados por UF:"
   ]
  },
  {
   "cell_type": "markdown",
   "id": "ea73eca0",
   "metadata": {},
   "source": [
    "#### Agrupamento dos Dados totais de acesso a internet por UF:"
   ]
  },
  {
   "cell_type": "code",
   "execution_count": 129,
   "id": "13304dd5",
   "metadata": {},
   "outputs": [
    {
     "data": {
      "text/html": [],
      "text/latex": [],
      "text/markdown": [],
      "text/plain": [
       "<0 x 0 matrix>"
      ]
     },
     "metadata": {},
     "output_type": "display_data"
    }
   ],
   "source": [
    "complete_data_with_totalnet_by_uf = complete_data_with_totalnet %>%\n",
    "    group_by(UF) %>%\n",
    "    summarise(  fibra_by_uf = sum(fibra_optica),\n",
    "                wifi_by_uf = sum(wifi),\n",
    "                ethernet_by_uf = sum(ethernet),\n",
    "                lte_by_uf = sum(lte),\n",
    "                vsatelite_uf = sum(vsatelite),\n",
    "                wimax_uf = sum(wimax),\n",
    "                plc_uf = sum(plc_eletrico),\n",
    "                xdsl_uf = sum(xdsl),\n",
    "                cable_modem_uf = sum(cable_modem),\n",
    "                fwa_uf = sum(fwa_5g_fixed),\n",
    "                atm_uf = sum(atm_backbone),\n",
    "                dth_uf = sum(dth_satelite),\n",
    "                hfc_uf = sum(hfc_tv_cabo),\n",
    "                fr_uf = sum(fr_frame_relay),\n",
    "                mmds_uf = sum(mmds),\n",
    "                densidade_internet_total_uf = sum(densidade_total_internet_fixa)) %>%\n",
    "    right_join(y = complete_data_with_totalnet, by = \"UF\") %>%\n",
    "    select(cod_municipio_ibge, NO_MUNICIPIO_RESIDENCIA, UF,fibra_by_uf, wifi_by_uf, ethernet_by_uf, \n",
    "        lte_by_uf, vsatelite_uf, wimax_uf, plc_uf, xdsl_uf,\n",
    "        cable_modem_uf, fwa_uf, atm_uf, dth_uf, hfc_uf, fr_uf, mmds_uf, densidade_internet_total_uf,\n",
    "        remuneracao_media, desvio_padrao, gini, pib, \n",
    "        pib_p_capta, media_idhm, mean_grades_group_cities)\n",
    "    data.frame()"
   ]
  },
  {
   "cell_type": "code",
   "execution_count": 130,
   "id": "9c40f020",
   "metadata": {
    "scrolled": true
   },
   "outputs": [
    {
     "name": "stdout",
     "output_type": "stream",
     "text": [
      "tibble [5,570 x 26] (S3: tbl_df/tbl/data.frame)\n",
      " $ cod_municipio_ibge         : int [1:5570] 1200013 1200054 1200104 1200138 1200179 1200203 1200252 1200302 1200328 1200336 ...\n",
      " $ NO_MUNICIPIO_RESIDENCIA    : Factor w/ 5299 levels \"Abadia de Goiás\",..: 27 396 709 751 1021 1411 1600 1675 2496 2766 ...\n",
      " $ UF                         : Factor w/ 27 levels \"AC\",\"AL\",\"AM\",..: 1 1 1 1 1 1 1 1 1 1 ...\n",
      " $ fibra_by_uf                : num [1:5570] 77 77 77 77 77 77 77 77 77 77 ...\n",
      " $ wifi_by_uf                 : num [1:5570] 578 578 578 578 578 578 578 578 578 578 ...\n",
      " $ ethernet_by_uf             : num [1:5570] 599 599 599 599 599 599 599 599 599 599 ...\n",
      " $ lte_by_uf                  : num [1:5570] 0 0 0 0 0 0 0 0 0 0 ...\n",
      " $ vsatelite_uf               : num [1:5570] 12 12 12 12 12 12 12 12 12 12 ...\n",
      " $ wimax_uf                   : num [1:5570] 0 0 0 0 0 0 0 0 0 0 ...\n",
      " $ plc_uf                     : num [1:5570] 0 0 0 0 0 0 0 0 0 0 ...\n",
      " $ xdsl_uf                    : num [1:5570] 11961 11961 11961 11961 11961 ...\n",
      " $ cable_modem_uf             : num [1:5570] 0 0 0 0 0 0 0 0 0 0 ...\n",
      " $ fwa_uf                     : num [1:5570] 9 9 9 9 9 9 9 9 9 9 ...\n",
      " $ atm_uf                     : num [1:5570] 19 19 19 19 19 19 19 19 19 19 ...\n",
      " $ dth_uf                     : num [1:5570] 0 0 0 0 0 0 0 0 0 0 ...\n",
      " $ hfc_uf                     : num [1:5570] 18842 18842 18842 18842 18842 ...\n",
      " $ fr_uf                      : num [1:5570] 9 9 9 9 9 9 9 9 9 9 ...\n",
      " $ mmds_uf                    : num [1:5570] 0 0 0 0 0 0 0 0 0 0 ...\n",
      " $ densidade_internet_total_uf: num [1:5570] 32106 32106 32106 32106 32106 ...\n",
      " $ remuneracao_media          : num [1:5570] 1855 1855 1855 1855 1855 ...\n",
      " $ desvio_padrao              : num [1:5570] 2516 2516 2516 2516 2516 ...\n",
      " $ gini                       : num [1:5570] 0.559 0.559 0.559 0.559 0.559 0.559 0.559 0.559 0.559 0.559 ...\n",
      " $ pib                        : num [1:5570] 2.54e+08 9.31e+07 4.55e+08 1.58e+08 1.53e+08 ...\n",
      " $ pib_p_capta                : num [1:5570] 16624 12546 17307 15357 13058 ...\n",
      " $ media_idhm                 : num [1:5570] 0.586 0.586 0.586 0.586 0.586 ...\n",
      " $ mean_grades_group_cities   : num [1:5570] 470 472 483 463 468 ...\n"
     ]
    }
   ],
   "source": [
    "str(complete_data_with_totalnet_by_uf)"
   ]
  },
  {
   "cell_type": "markdown",
   "id": "4c2c357c",
   "metadata": {},
   "source": [
    "#### Índice de correlação PEARSON entre as variáveis: Média das Notas do Enem e Densidade do Acesso a Internet agrupados por UF"
   ]
  },
  {
   "cell_type": "code",
   "execution_count": 131,
   "id": "3ab5f452",
   "metadata": {},
   "outputs": [
    {
     "data": {
      "image/png": "[encoded data removed]",
      "text/plain": [
       "Plot with title \"\""
      ]
     },
     "metadata": {},
     "output_type": "display_data"
    }
   ],
   "source": [
    "chart.Correlation(complete_data_with_totalnet_by_uf[c(\"mean_grades_group_cities\", \"densidade_internet_total_uf\")],\n",
    "    method= \"pearson\")"
   ]
  },
  {
   "cell_type": "markdown",
   "id": "9f6c8112",
   "metadata": {},
   "source": [
    "#### Índice de correlação SPEARMAN entre as variáveis: Média das Notas do Enem e Densidade do Acesso a Internet agrupados por UF"
   ]
  },
  {
   "cell_type": "code",
   "execution_count": 128,
   "id": "8e02aff1",
   "metadata": {},
   "outputs": [
    {
     "name": "stderr",
     "output_type": "stream",
     "text": [
      "Warning message in cor.test.default(as.numeric(x), as.numeric(y), method = method):\n",
      "\"Cannot compute exact p-value with ties\""
     ]
    },
    {
     "data": {
      "image/png": "[encoded data removed]",
      "text/plain": [
       "Plot with title \"\""
      ]
     },
     "metadata": {},
     "output_type": "display_data"
    }
   ],
   "source": [
    "chart.Correlation(complete_data_with_totalnet_by_uf[c(\"mean_grades_group_cities\", \"densidade_internet_total_uf\")],\n",
    "    method= \"spearman\")"
   ]
  },
  {
   "cell_type": "markdown",
   "id": "92a61272",
   "metadata": {},
   "source": [
    "### Scatter plot entre os dados da Densidade da Internet agrupados por UF e a média das notas do Enem"
   ]
  },
  {
   "cell_type": "code",
   "execution_count": 146,
   "id": "fc984cfe",
   "metadata": {},
   "outputs": [
    {
     "data": {
      "image/png": "[encoded data removed]",
      "text/plain": [
       "plot without title"
      ]
     },
     "metadata": {},
     "output_type": "display_data"
    }
   ],
   "source": [
    "ggplot(data = complete_data_with_totalnet_by_uf) + aes(x = mean_grades_group_cities, \n",
    "    y= densidade_internet_total_uf) + \n",
    "    geom_point() + geom_smooth(aes(color=\"Fitted Values\"), method = \"lm\", level = 0.95) + \n",
    "    theme_bw()"
   ]
  },
  {
   "cell_type": "markdown",
   "id": "f5ef62f6",
   "metadata": {},
   "source": [
    "### Fim do caderno 2"
   ]
  },
  {
   "cell_type": "code",
   "execution_count": null,
   "id": "27db8b19",
   "metadata": {},
   "outputs": [],
   "source": []
  }
 ],
 "metadata": {
  "kernelspec": {
   "display_name": "R",
   "language": "R",
   "name": "ir"
  },
  "language_info": {
   "codemirror_mode": "r",
   "file_extension": ".r",
   "mimetype": "text/x-r-source",
   "name": "R",
   "pygments_lexer": "r",
   "version": "3.6.1"
  }
 },
 "nbformat": 4,
 "nbformat_minor": 5
}
